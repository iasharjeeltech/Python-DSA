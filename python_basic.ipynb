{
  "cells": [
    {
      "cell_type": "markdown",
      "metadata": {
        "id": "view-in-github",
        "colab_type": "text"
      },
      "source": [
        "<a href=\"https://colab.research.google.com/github/iasharjeeltech/Python-DSA/blob/main/python_basic.ipynb\" target=\"_parent\"><img src=\"https://colab.research.google.com/assets/colab-badge.svg\" alt=\"Open In Colab\"/></a>"
      ]
    },
    {
      "cell_type": "code",
      "execution_count": null,
      "id": "b53f697d-0d83-400b-9408-df252fd56291",
      "metadata": {
        "id": "b53f697d-0d83-400b-9408-df252fd56291",
        "outputId": "65314a13-88e8-4778-9a7f-90c09b15c1f4"
      },
      "outputs": [
        {
          "data": {
            "text/plain": [
              "2"
            ]
          },
          "execution_count": 7,
          "metadata": {},
          "output_type": "execute_result"
        }
      ],
      "source": [
        "1+1"
      ]
    },
    {
      "cell_type": "code",
      "execution_count": null,
      "id": "fbcdd846-36d0-4aad-ba66-9031c2efd063",
      "metadata": {
        "id": "fbcdd846-36d0-4aad-ba66-9031c2efd063",
        "outputId": "fa7106cb-e8bc-4937-d831-ca1eaa28d4d0"
      },
      "outputs": [
        {
          "data": {
            "text/plain": [
              "25"
            ]
          },
          "execution_count": 9,
          "metadata": {},
          "output_type": "execute_result"
        }
      ],
      "source": [
        "5*5"
      ]
    },
    {
      "cell_type": "code",
      "execution_count": 138,
      "id": "45077ab3-fb8a-475f-849b-955261391dc1",
      "metadata": {
        "id": "45077ab3-fb8a-475f-849b-955261391dc1"
      },
      "outputs": [],
      "source": [
        "a = 10"
      ]
    },
    {
      "cell_type": "code",
      "execution_count": null,
      "id": "d1bbbdb3-2327-4335-b1a0-a8265fde5158",
      "metadata": {
        "id": "d1bbbdb3-2327-4335-b1a0-a8265fde5158",
        "outputId": "ceac12ec-2898-45ff-e6d6-5c8bfc8b41cb"
      },
      "outputs": [
        {
          "data": {
            "text/plain": [
              "10"
            ]
          },
          "execution_count": 11,
          "metadata": {},
          "output_type": "execute_result"
        }
      ],
      "source": [
        "a"
      ]
    },
    {
      "cell_type": "code",
      "execution_count": 139,
      "id": "e62660ad-7b0d-4331-a962-9c99975a81bb",
      "metadata": {
        "colab": {
          "base_uri": "https://localhost:8080/"
        },
        "id": "e62660ad-7b0d-4331-a962-9c99975a81bb",
        "outputId": "e0b99048-c0b6-4eb8-fcf8-48da19d4a014"
      },
      "outputs": [
        {
          "output_type": "execute_result",
          "data": {
            "text/plain": [
              "10"
            ]
          },
          "metadata": {},
          "execution_count": 139
        }
      ],
      "source": [
        "a"
      ]
    },
    {
      "cell_type": "code",
      "execution_count": 133,
      "id": "5b4ce608-426c-4ee4-a8b6-3720b63dfb70",
      "metadata": {
        "id": "5b4ce608-426c-4ee4-a8b6-3720b63dfb70"
      },
      "outputs": [],
      "source": [
        "sharjeel = 20"
      ]
    },
    {
      "cell_type": "code",
      "execution_count": 135,
      "id": "da1a0da9-1c76-4229-8a04-25acd8c58735",
      "metadata": {
        "colab": {
          "base_uri": "https://localhost:8080/"
        },
        "id": "da1a0da9-1c76-4229-8a04-25acd8c58735",
        "outputId": "a8aec9bb-1ef5-46cf-f2a8-eb01d2b01805"
      },
      "outputs": [
        {
          "output_type": "execute_result",
          "data": {
            "text/plain": [
              "20"
            ]
          },
          "metadata": {},
          "execution_count": 135
        }
      ],
      "source": [
        "sharjeel"
      ]
    },
    {
      "cell_type": "code",
      "execution_count": 134,
      "id": "b954a05e-9196-4815-8aa0-25090a1c479f",
      "metadata": {
        "colab": {
          "base_uri": "https://localhost:8080/"
        },
        "id": "b954a05e-9196-4815-8aa0-25090a1c479f",
        "outputId": "123f7aab-72db-450d-d8d6-32098bf69918"
      },
      "outputs": [
        {
          "output_type": "execute_result",
          "data": {
            "text/plain": [
              "30"
            ]
          },
          "metadata": {},
          "execution_count": 134
        }
      ],
      "source": [
        "a+sharjeel"
      ]
    },
    {
      "cell_type": "code",
      "execution_count": null,
      "id": "da50468a-8756-4d12-991d-3e040f5e2cd1",
      "metadata": {
        "id": "da50468a-8756-4d12-991d-3e040f5e2cd1",
        "outputId": "8a9a9cf8-4bb2-4ca6-df5a-f6f7cd1ee36a"
      },
      "outputs": [
        {
          "data": {
            "text/plain": [
              "int"
            ]
          },
          "execution_count": 16,
          "metadata": {},
          "output_type": "execute_result"
        }
      ],
      "source": [
        "type(a)"
      ]
    },
    {
      "cell_type": "code",
      "execution_count": 136,
      "id": "68c2a664-dae5-48fa-bfbb-7de14e9c5a0b",
      "metadata": {
        "colab": {
          "base_uri": "https://localhost:8080/"
        },
        "id": "68c2a664-dae5-48fa-bfbb-7de14e9c5a0b",
        "outputId": "8c159559-cb73-4a7d-ee43-b2f5f1e66345"
      },
      "outputs": [
        {
          "output_type": "execute_result",
          "data": {
            "text/plain": [
              "int"
            ]
          },
          "metadata": {},
          "execution_count": 136
        }
      ],
      "source": [
        "type(sharjeel)"
      ]
    },
    {
      "cell_type": "code",
      "execution_count": 140,
      "id": "eb125b6a-55e4-418d-a5e6-001fa1fd9f9f",
      "metadata": {
        "id": "eb125b6a-55e4-418d-a5e6-001fa1fd9f9f"
      },
      "outputs": [],
      "source": [
        "b = 2.09"
      ]
    },
    {
      "cell_type": "code",
      "execution_count": 141,
      "id": "6b056dd8-8900-4a2f-8a53-22cd538b337e",
      "metadata": {
        "colab": {
          "base_uri": "https://localhost:8080/"
        },
        "id": "6b056dd8-8900-4a2f-8a53-22cd538b337e",
        "outputId": "16e1de7c-7c97-4a32-e62f-a8b37f44af5b"
      },
      "outputs": [
        {
          "output_type": "execute_result",
          "data": {
            "text/plain": [
              "float"
            ]
          },
          "metadata": {},
          "execution_count": 141
        }
      ],
      "source": [
        "type(b)"
      ]
    },
    {
      "cell_type": "code",
      "execution_count": null,
      "id": "c25d2085-189c-4987-8964-f73e309d5156",
      "metadata": {
        "id": "c25d2085-189c-4987-8964-f73e309d5156"
      },
      "outputs": [],
      "source": [
        "c = 45.23345"
      ]
    },
    {
      "cell_type": "code",
      "execution_count": null,
      "id": "85a0f6d7-27ea-4029-b34c-f7550489ebaf",
      "metadata": {
        "id": "85a0f6d7-27ea-4029-b34c-f7550489ebaf",
        "outputId": "71b13e21-9831-4b27-ddae-4c282da030fc"
      },
      "outputs": [
        {
          "data": {
            "text/plain": [
              "float"
            ]
          },
          "execution_count": 24,
          "metadata": {},
          "output_type": "execute_result"
        }
      ],
      "source": [
        "type(c)"
      ]
    },
    {
      "cell_type": "code",
      "execution_count": 142,
      "id": "4b947bc9-a94b-404b-8d7e-114c523d9e7f",
      "metadata": {
        "id": "4b947bc9-a94b-404b-8d7e-114c523d9e7f"
      },
      "outputs": [],
      "source": [
        "d = \"sharjeel\""
      ]
    },
    {
      "cell_type": "code",
      "execution_count": null,
      "id": "94b9ddc3-7099-4cb7-b509-b23653baf4d4",
      "metadata": {
        "id": "94b9ddc3-7099-4cb7-b509-b23653baf4d4",
        "outputId": "6ecf3819-3dfd-40f9-ef54-22af0c842687"
      },
      "outputs": [
        {
          "data": {
            "text/plain": [
              "str"
            ]
          },
          "execution_count": 26,
          "metadata": {},
          "output_type": "execute_result"
        }
      ],
      "source": [
        "type(d)"
      ]
    },
    {
      "cell_type": "code",
      "execution_count": null,
      "id": "91e83bc6-c387-48cd-92fb-14b9c4808fb4",
      "metadata": {
        "id": "91e83bc6-c387-48cd-92fb-14b9c4808fb4"
      },
      "outputs": [],
      "source": [
        "e = 'this is my first tech class'"
      ]
    },
    {
      "cell_type": "code",
      "execution_count": null,
      "id": "5d403197-4fde-478d-8977-ae91ecdec4b6",
      "metadata": {
        "id": "5d403197-4fde-478d-8977-ae91ecdec4b6",
        "outputId": "64407734-b917-4a85-92fa-0269b2f87b1f"
      },
      "outputs": [
        {
          "data": {
            "text/plain": [
              "str"
            ]
          },
          "execution_count": 32,
          "metadata": {},
          "output_type": "execute_result"
        }
      ],
      "source": [
        "type(e)"
      ]
    },
    {
      "cell_type": "code",
      "execution_count": null,
      "id": "0cc73f08-4bde-4847-8c16-e975b1e05aaa",
      "metadata": {
        "id": "0cc73f08-4bde-4847-8c16-e975b1e05aaa"
      },
      "outputs": [],
      "source": [
        "n = True"
      ]
    },
    {
      "cell_type": "code",
      "execution_count": null,
      "id": "1f85263d-1b17-4493-a3d5-64902404114f",
      "metadata": {
        "id": "1f85263d-1b17-4493-a3d5-64902404114f",
        "outputId": "8923578b-47d4-4940-ad32-6dc9305c3d4e"
      },
      "outputs": [
        {
          "data": {
            "text/plain": [
              "bool"
            ]
          },
          "execution_count": 34,
          "metadata": {},
          "output_type": "execute_result"
        }
      ],
      "source": [
        "type(n)"
      ]
    },
    {
      "cell_type": "code",
      "execution_count": null,
      "id": "18ac286b-3805-436b-826b-59a306db3888",
      "metadata": {
        "id": "18ac286b-3805-436b-826b-59a306db3888"
      },
      "outputs": [],
      "source": [
        "m = False"
      ]
    },
    {
      "cell_type": "code",
      "execution_count": null,
      "id": "4e053485-bbd4-4418-bd5d-3a1e4d3bc2c9",
      "metadata": {
        "id": "4e053485-bbd4-4418-bd5d-3a1e4d3bc2c9",
        "outputId": "d3cdc3a0-9048-4d23-bc2c-8c7498d894d3"
      },
      "outputs": [
        {
          "data": {
            "text/plain": [
              "bool"
            ]
          },
          "execution_count": 36,
          "metadata": {},
          "output_type": "execute_result"
        }
      ],
      "source": [
        "type(m)"
      ]
    },
    {
      "cell_type": "code",
      "execution_count": null,
      "id": "3ea329d7-88eb-4e79-a164-a4371cf6e972",
      "metadata": {
        "id": "3ea329d7-88eb-4e79-a164-a4371cf6e972",
        "outputId": "a0c33050-1dc1-48e4-8d4e-341f9a9ef61a"
      },
      "outputs": [
        {
          "data": {
            "text/plain": [
              "1"
            ]
          },
          "execution_count": 37,
          "metadata": {},
          "output_type": "execute_result"
        }
      ],
      "source": [
        "n+m"
      ]
    },
    {
      "cell_type": "code",
      "execution_count": null,
      "id": "5a416539-a876-4821-8d04-5a5d20f14690",
      "metadata": {
        "id": "5a416539-a876-4821-8d04-5a5d20f14690",
        "outputId": "97f175ad-94c5-41ed-9e2c-483469d4e999"
      },
      "outputs": [
        {
          "data": {
            "text/plain": [
              "1"
            ]
          },
          "execution_count": 38,
          "metadata": {},
          "output_type": "execute_result"
        }
      ],
      "source": [
        "True * True"
      ]
    },
    {
      "cell_type": "code",
      "execution_count": null,
      "id": "21997906-ef07-441b-aac9-965b6bef643f",
      "metadata": {
        "id": "21997906-ef07-441b-aac9-965b6bef643f",
        "outputId": "1861fc11-b7ff-44a4-9bc8-4a0388e8270b"
      },
      "outputs": [
        {
          "data": {
            "text/plain": [
              "0"
            ]
          },
          "execution_count": 39,
          "metadata": {},
          "output_type": "execute_result"
        }
      ],
      "source": [
        "True * False"
      ]
    },
    {
      "cell_type": "code",
      "execution_count": null,
      "id": "6db21975-3ace-4ec2-89d4-e7f68081b19b",
      "metadata": {
        "id": "6db21975-3ace-4ec2-89d4-e7f68081b19b",
        "outputId": "d2b631dc-de59-460c-8c72-8f2e4e1acd29"
      },
      "outputs": [
        {
          "ename": "ZeroDivisionError",
          "evalue": "division by zero",
          "output_type": "error",
          "traceback": [
            "\u001b[0;31m---------------------------------------------------------------------------\u001b[0m",
            "\u001b[0;31mZeroDivisionError\u001b[0m                         Traceback (most recent call last)",
            "Cell \u001b[0;32mIn[40], line 1\u001b[0m\n\u001b[0;32m----> 1\u001b[0m \u001b[38;5;28;43;01mTrue\u001b[39;49;00m\u001b[43m \u001b[49m\u001b[38;5;241;43m/\u001b[39;49m\u001b[43m \u001b[49m\u001b[38;5;28;43;01mFalse\u001b[39;49;00m \n",
            "\u001b[0;31mZeroDivisionError\u001b[0m: division by zero"
          ]
        }
      ],
      "source": [
        "True / False"
      ]
    },
    {
      "cell_type": "code",
      "execution_count": null,
      "id": "8084a6ad-ee8c-4689-be01-ef3964e9038c",
      "metadata": {
        "id": "8084a6ad-ee8c-4689-be01-ef3964e9038c",
        "outputId": "358920ef-13d3-42a1-aa60-0ca39c7979d4"
      },
      "outputs": [
        {
          "ename": "ZeroDivisionError",
          "evalue": "division by zero",
          "output_type": "error",
          "traceback": [
            "\u001b[0;31m---------------------------------------------------------------------------\u001b[0m",
            "\u001b[0;31mZeroDivisionError\u001b[0m                         Traceback (most recent call last)",
            "Cell \u001b[0;32mIn[41], line 1\u001b[0m\n\u001b[0;32m----> 1\u001b[0m \u001b[38;5;241;43m1\u001b[39;49m\u001b[43m \u001b[49m\u001b[38;5;241;43m/\u001b[39;49m\u001b[38;5;241;43m0\u001b[39;49m\n",
            "\u001b[0;31mZeroDivisionError\u001b[0m: division by zero"
          ]
        }
      ],
      "source": [
        "1 /0"
      ]
    },
    {
      "cell_type": "code",
      "execution_count": 22,
      "id": "237cde5b-cc21-4f20-95f0-70684dbc6137",
      "metadata": {
        "id": "237cde5b-cc21-4f20-95f0-70684dbc6137"
      },
      "outputs": [],
      "source": [
        "sharjeel = 5 + 8j #assign variable in sharjeel"
      ]
    },
    {
      "cell_type": "code",
      "execution_count": 23,
      "id": "7fd576ce-a98d-4653-afee-ad7cf9912f30",
      "metadata": {
        "colab": {
          "base_uri": "https://localhost:8080/"
        },
        "id": "7fd576ce-a98d-4653-afee-ad7cf9912f30",
        "outputId": "b19059d9-c3b2-454c-bda9-1070834880c3"
      },
      "outputs": [
        {
          "output_type": "execute_result",
          "data": {
            "text/plain": [
              "complex"
            ]
          },
          "metadata": {},
          "execution_count": 23
        }
      ],
      "source": [
        "type(sharjeel) #find the variable type in this case its a complex"
      ]
    },
    {
      "cell_type": "code",
      "execution_count": 24,
      "id": "fee76e3e-7d36-4f8c-bded-d7d941d2cfd4",
      "metadata": {
        "colab": {
          "base_uri": "https://localhost:8080/"
        },
        "id": "fee76e3e-7d36-4f8c-bded-d7d941d2cfd4",
        "outputId": "d5e21c1e-d624-4ee4-b9af-098cb705734b"
      },
      "outputs": [
        {
          "output_type": "execute_result",
          "data": {
            "text/plain": [
              "5.0"
            ]
          },
          "metadata": {},
          "execution_count": 24
        }
      ],
      "source": [
        "sharjeel.real #here we can find which is real and which is imaginary"
      ]
    },
    {
      "cell_type": "code",
      "execution_count": 25,
      "id": "117c2b3f-0114-482b-9d5b-cfda32089672",
      "metadata": {
        "colab": {
          "base_uri": "https://localhost:8080/"
        },
        "id": "117c2b3f-0114-482b-9d5b-cfda32089672",
        "outputId": "f24db235-cf51-4f12-ec5d-74b2ad0ade6d"
      },
      "outputs": [
        {
          "output_type": "execute_result",
          "data": {
            "text/plain": [
              "8.0"
            ]
          },
          "metadata": {},
          "execution_count": 25
        }
      ],
      "source": [
        "sharjeel.imag #here this is imaginary"
      ]
    },
    {
      "cell_type": "code",
      "execution_count": 26,
      "id": "172be6f1-51fc-4f7c-91b1-2e0c6046af35",
      "metadata": {
        "colab": {
          "base_uri": "https://localhost:8080/"
        },
        "id": "172be6f1-51fc-4f7c-91b1-2e0c6046af35",
        "outputId": "7047951e-0241-4fbe-e6ae-f9094546ec49"
      },
      "outputs": [
        {
          "output_type": "execute_result",
          "data": {
            "text/plain": [
              "(5+8j)"
            ]
          },
          "metadata": {},
          "execution_count": 26
        }
      ],
      "source": [
        "sharjeel"
      ]
    },
    {
      "cell_type": "code",
      "execution_count": 20,
      "id": "21de426d-f6fa-44bf-b292-7ed62b6dcda7",
      "metadata": {
        "colab": {
          "base_uri": "https://localhost:8080/"
        },
        "id": "21de426d-f6fa-44bf-b292-7ed62b6dcda7",
        "outputId": "0e7c3e00-7f6e-417f-969b-ab9c12135dca"
      },
      "outputs": [
        {
          "output_type": "stream",
          "name": "stdout",
          "text": [
            "my name is sharjeel\n"
          ]
        }
      ],
      "source": [
        "print(\"my name is sharjeel\")"
      ]
    },
    {
      "cell_type": "code",
      "execution_count": null,
      "id": "b82caaeb-f0d7-48f3-9782-d3e8b583df04",
      "metadata": {
        "id": "b82caaeb-f0d7-48f3-9782-d3e8b583df04",
        "outputId": "fb0c29a3-451a-4be9-da30-15411ef109f4"
      },
      "outputs": [
        {
          "name": "stdout",
          "output_type": "stream",
          "text": [
            "10\n"
          ]
        }
      ],
      "source": [
        "print(a)"
      ]
    },
    {
      "cell_type": "code",
      "execution_count": 27,
      "id": "bb779fb6-a661-44b7-9e0d-7796f273eebd",
      "metadata": {
        "colab": {
          "base_uri": "https://localhost:8080/"
        },
        "id": "bb779fb6-a661-44b7-9e0d-7796f273eebd",
        "outputId": "2ad5cff3-4585-4c6d-c74b-118d5e7b7c35"
      },
      "outputs": [
        {
          "output_type": "stream",
          "name": "stdout",
          "text": [
            "(5+8j)\n"
          ]
        }
      ],
      "source": [
        "print(sharjeel) #printing the value of variable"
      ]
    },
    {
      "cell_type": "code",
      "execution_count": 28,
      "id": "f3465387-b4f1-44d1-a17b-19788bd36482",
      "metadata": {
        "id": "f3465387-b4f1-44d1-a17b-19788bd36482"
      },
      "outputs": [],
      "source": [
        "s = \"sharjeel\" # s is assign as sharjeel"
      ]
    },
    {
      "cell_type": "code",
      "execution_count": null,
      "id": "7896a834-d38f-44bb-8352-8bdb7c28458b",
      "metadata": {
        "id": "7896a834-d38f-44bb-8352-8bdb7c28458b",
        "outputId": "2b1ab7a1-b025-4069-e18a-8580cd29c0dc"
      },
      "outputs": [
        {
          "data": {
            "text/plain": [
              "str"
            ]
          },
          "execution_count": 63,
          "metadata": {},
          "output_type": "execute_result"
        }
      ],
      "source": [
        "type(s) #again find what is the type of variable its a string"
      ]
    },
    {
      "cell_type": "code",
      "execution_count": 30,
      "id": "bffb0dcd-db77-42c6-afc5-12381457aade",
      "metadata": {
        "colab": {
          "base_uri": "https://localhost:8080/",
          "height": 36
        },
        "id": "bffb0dcd-db77-42c6-afc5-12381457aade",
        "outputId": "bfb94d8a-2c48-47e6-a763-b5c3661025a1"
      },
      "outputs": [
        {
          "output_type": "execute_result",
          "data": {
            "text/plain": [
              "'s'"
            ],
            "application/vnd.google.colaboratory.intrinsic+json": {
              "type": "string"
            }
          },
          "metadata": {},
          "execution_count": 30
        }
      ],
      "source": [
        "s[0] # we check particular letter by using [] square bracket"
      ]
    },
    {
      "cell_type": "code",
      "execution_count": 31,
      "id": "9ebf78f3-8b05-47e7-b5c7-e2a5ec5c796c",
      "metadata": {
        "colab": {
          "base_uri": "https://localhost:8080/",
          "height": 36
        },
        "id": "9ebf78f3-8b05-47e7-b5c7-e2a5ec5c796c",
        "outputId": "4b029cff-b84b-4720-ce30-545135ceb33a"
      },
      "outputs": [
        {
          "output_type": "execute_result",
          "data": {
            "text/plain": [
              "'a'"
            ],
            "application/vnd.google.colaboratory.intrinsic+json": {
              "type": "string"
            }
          },
          "metadata": {},
          "execution_count": 31
        }
      ],
      "source": [
        "s[2]"
      ]
    },
    {
      "cell_type": "code",
      "execution_count": 32,
      "id": "b6d9d76f-bfd6-4339-9553-63f8b488289c",
      "metadata": {
        "colab": {
          "base_uri": "https://localhost:8080/",
          "height": 36
        },
        "id": "b6d9d76f-bfd6-4339-9553-63f8b488289c",
        "outputId": "5bf2b522-7204-40a7-e0c3-37a9355a5eaf"
      },
      "outputs": [
        {
          "output_type": "execute_result",
          "data": {
            "text/plain": [
              "'r'"
            ],
            "application/vnd.google.colaboratory.intrinsic+json": {
              "type": "string"
            }
          },
          "metadata": {},
          "execution_count": 32
        }
      ],
      "source": [
        "s[3]"
      ]
    },
    {
      "cell_type": "code",
      "execution_count": 33,
      "id": "16782a4b-94bd-41aa-b4c8-99a8ab88ac06",
      "metadata": {
        "colab": {
          "base_uri": "https://localhost:8080/",
          "height": 36
        },
        "id": "16782a4b-94bd-41aa-b4c8-99a8ab88ac06",
        "outputId": "9e537649-1120-44ad-df20-c7bba1936678"
      },
      "outputs": [
        {
          "output_type": "execute_result",
          "data": {
            "text/plain": [
              "'l'"
            ],
            "application/vnd.google.colaboratory.intrinsic+json": {
              "type": "string"
            }
          },
          "metadata": {},
          "execution_count": 33
        }
      ],
      "source": [
        "s[-1] #its start from reverse indexing"
      ]
    },
    {
      "cell_type": "code",
      "execution_count": 34,
      "id": "86b4609a-6701-4542-8740-5d0c9045697b",
      "metadata": {
        "colab": {
          "base_uri": "https://localhost:8080/",
          "height": 36
        },
        "id": "86b4609a-6701-4542-8740-5d0c9045697b",
        "outputId": "d9e0a621-63f9-40c1-d309-0e27cee3ce4b"
      },
      "outputs": [
        {
          "output_type": "execute_result",
          "data": {
            "text/plain": [
              "'s'"
            ],
            "application/vnd.google.colaboratory.intrinsic+json": {
              "type": "string"
            }
          },
          "metadata": {},
          "execution_count": 34
        }
      ],
      "source": [
        "s[-8] #"
      ]
    },
    {
      "cell_type": "markdown",
      "source": [
        "sharjeel\n",
        "01234567  <--its  a forward indexing ///\n",
        "-8-7-6-5-4-3-2-1 <-- this is backward or U can say reverse indexing\n"
      ],
      "metadata": {
        "id": "fyNMTXqpS_hU"
      },
      "id": "fyNMTXqpS_hU"
    },
    {
      "cell_type": "code",
      "execution_count": 35,
      "id": "1cf0e36d-28a2-4c8d-aa8b-fb3e8d9c965e",
      "metadata": {
        "colab": {
          "base_uri": "https://localhost:8080/",
          "height": 36
        },
        "id": "1cf0e36d-28a2-4c8d-aa8b-fb3e8d9c965e",
        "outputId": "312860c1-c8d4-4452-b8d2-1f6a81c1f02d"
      },
      "outputs": [
        {
          "output_type": "execute_result",
          "data": {
            "text/plain": [
              "'sha'"
            ],
            "application/vnd.google.colaboratory.intrinsic+json": {
              "type": "string"
            }
          },
          "metadata": {},
          "execution_count": 35
        }
      ],
      "source": [
        "s[0:3] #from start to end --> start:end"
      ]
    },
    {
      "cell_type": "code",
      "execution_count": 36,
      "id": "685a4cb1-9ded-4390-b8bc-4f85da718d06",
      "metadata": {
        "colab": {
          "base_uri": "https://localhost:8080/",
          "height": 36
        },
        "id": "685a4cb1-9ded-4390-b8bc-4f85da718d06",
        "outputId": "92720691-bdda-484f-971f-7e8522695dd5"
      },
      "outputs": [
        {
          "output_type": "execute_result",
          "data": {
            "text/plain": [
              "'sh'"
            ],
            "application/vnd.google.colaboratory.intrinsic+json": {
              "type": "string"
            }
          },
          "metadata": {},
          "execution_count": 36
        }
      ],
      "source": [
        "s[0:2]"
      ]
    },
    {
      "cell_type": "code",
      "execution_count": 37,
      "id": "c5617e15-46ca-490c-9c06-3e02dc38549d",
      "metadata": {
        "colab": {
          "base_uri": "https://localhost:8080/",
          "height": 36
        },
        "id": "c5617e15-46ca-490c-9c06-3e02dc38549d",
        "outputId": "8f0ed6d5-c8f7-4fd7-abcb-b9690d8b0ac0"
      },
      "outputs": [
        {
          "output_type": "execute_result",
          "data": {
            "text/plain": [
              "'shar'"
            ],
            "application/vnd.google.colaboratory.intrinsic+json": {
              "type": "string"
            }
          },
          "metadata": {},
          "execution_count": 37
        }
      ],
      "source": [
        "s[0:4]"
      ]
    },
    {
      "cell_type": "code",
      "execution_count": 38,
      "id": "1603163c-9962-4c03-be2b-8e7e4ed32d93",
      "metadata": {
        "colab": {
          "base_uri": "https://localhost:8080/",
          "height": 36
        },
        "id": "1603163c-9962-4c03-be2b-8e7e4ed32d93",
        "outputId": "380ef0b8-e8a9-4672-934d-9fc662b084de"
      },
      "outputs": [
        {
          "output_type": "execute_result",
          "data": {
            "text/plain": [
              "'saje'"
            ],
            "application/vnd.google.colaboratory.intrinsic+json": {
              "type": "string"
            }
          },
          "metadata": {},
          "execution_count": 38
        }
      ],
      "source": [
        "s[0:8:2] #from star:end:jump"
      ]
    },
    {
      "cell_type": "code",
      "execution_count": 39,
      "id": "bc03eca4-472e-4acf-b816-0644675d3f0f",
      "metadata": {
        "colab": {
          "base_uri": "https://localhost:8080/",
          "height": 36
        },
        "id": "bc03eca4-472e-4acf-b816-0644675d3f0f",
        "outputId": "4965c3f7-558e-474e-f0cd-ceda5cf88f88"
      },
      "outputs": [
        {
          "output_type": "execute_result",
          "data": {
            "text/plain": [
              "'shar'"
            ],
            "application/vnd.google.colaboratory.intrinsic+json": {
              "type": "string"
            }
          },
          "metadata": {},
          "execution_count": 39
        }
      ],
      "source": [
        "s[0:4:1] #here use 1 for jumping so the value is shown as it is"
      ]
    },
    {
      "cell_type": "code",
      "execution_count": 40,
      "id": "809e9dd4-557d-46a2-8787-9220c2e248d8",
      "metadata": {
        "colab": {
          "base_uri": "https://localhost:8080/",
          "height": 36
        },
        "id": "809e9dd4-557d-46a2-8787-9220c2e248d8",
        "outputId": "32cd5122-6637-4a66-fc50-7f45ada8ed36"
      },
      "outputs": [
        {
          "output_type": "execute_result",
          "data": {
            "text/plain": [
              "'saje'"
            ],
            "application/vnd.google.colaboratory.intrinsic+json": {
              "type": "string"
            }
          },
          "metadata": {},
          "execution_count": 40
        }
      ],
      "source": [
        "s[::2] # double colon used for default if you not give any value for start to end simply use :: its take default"
      ]
    },
    {
      "cell_type": "code",
      "execution_count": 41,
      "id": "1cdfbf87-5fed-42e1-87aa-5c861c6aa9c4",
      "metadata": {
        "colab": {
          "base_uri": "https://localhost:8080/",
          "height": 36
        },
        "id": "1cdfbf87-5fed-42e1-87aa-5c861c6aa9c4",
        "outputId": "4cd8a879-60e2-4b10-e4a8-d6e91313774b"
      },
      "outputs": [
        {
          "output_type": "execute_result",
          "data": {
            "text/plain": [
              "'saje'"
            ],
            "application/vnd.google.colaboratory.intrinsic+json": {
              "type": "string"
            }
          },
          "metadata": {},
          "execution_count": 41
        }
      ],
      "source": [
        "s[0::2] #same here"
      ]
    },
    {
      "cell_type": "code",
      "execution_count": 42,
      "id": "43133a45-02d8-4511-b2f9-2770e4d3637d",
      "metadata": {
        "colab": {
          "base_uri": "https://localhost:8080/",
          "height": 36
        },
        "id": "43133a45-02d8-4511-b2f9-2770e4d3637d",
        "outputId": "22d3d387-ab4c-44d5-c38f-bdf677ced3a9"
      },
      "outputs": [
        {
          "output_type": "execute_result",
          "data": {
            "text/plain": [
              "'aje'"
            ],
            "application/vnd.google.colaboratory.intrinsic+json": {
              "type": "string"
            }
          },
          "metadata": {},
          "execution_count": 42
        }
      ],
      "source": [
        "s[2::2] #here the forward indexing is started from 2"
      ]
    },
    {
      "cell_type": "code",
      "execution_count": 43,
      "id": "f3fce780-e143-41fe-a957-4c16bdaef16c",
      "metadata": {
        "colab": {
          "base_uri": "https://localhost:8080/",
          "height": 36
        },
        "id": "f3fce780-e143-41fe-a957-4c16bdaef16c",
        "outputId": "87487268-55b8-4a68-e668-f1e2e0c97cdb"
      },
      "outputs": [
        {
          "output_type": "execute_result",
          "data": {
            "text/plain": [
              "'arjeel'"
            ],
            "application/vnd.google.colaboratory.intrinsic+json": {
              "type": "string"
            }
          },
          "metadata": {},
          "execution_count": 43
        }
      ],
      "source": [
        "s[2::1] #same here"
      ]
    },
    {
      "cell_type": "code",
      "execution_count": 45,
      "id": "38a6700c-ecd6-4072-bcca-9205744ca184",
      "metadata": {
        "colab": {
          "base_uri": "https://localhost:8080/",
          "height": 36
        },
        "id": "38a6700c-ecd6-4072-bcca-9205744ca184",
        "outputId": "f3f7ab87-28d1-4ab7-fc04-19bff1dda776"
      },
      "outputs": [
        {
          "output_type": "execute_result",
          "data": {
            "text/plain": [
              "'leejrahs'"
            ],
            "application/vnd.google.colaboratory.intrinsic+json": {
              "type": "string"
            }
          },
          "metadata": {},
          "execution_count": 45
        }
      ],
      "source": [
        "s[::-1] #here the indexing is reverse so the output is also reversed"
      ]
    },
    {
      "cell_type": "code",
      "execution_count": null,
      "id": "ddc0a420-7178-4542-8be3-2a881b352cbf",
      "metadata": {
        "id": "ddc0a420-7178-4542-8be3-2a881b352cbf"
      },
      "outputs": [],
      "source": []
    },
    {
      "cell_type": "code",
      "execution_count": 44,
      "id": "97bb85d2-e66b-4b03-a060-34a339c15b0f",
      "metadata": {
        "colab": {
          "base_uri": "https://localhost:8080/",
          "height": 36
        },
        "id": "97bb85d2-e66b-4b03-a060-34a339c15b0f",
        "outputId": "95f44399-2aa9-4b04-fcfe-59136eb264a1"
      },
      "outputs": [
        {
          "output_type": "execute_result",
          "data": {
            "text/plain": [
              "'sharjeel'"
            ],
            "application/vnd.google.colaboratory.intrinsic+json": {
              "type": "string"
            }
          },
          "metadata": {},
          "execution_count": 44
        }
      ],
      "source": [
        "s"
      ]
    },
    {
      "cell_type": "code",
      "execution_count": 46,
      "id": "405efddc-f443-463f-a730-5dcf214eb054",
      "metadata": {
        "colab": {
          "base_uri": "https://localhost:8080/",
          "height": 36
        },
        "id": "405efddc-f443-463f-a730-5dcf214eb054",
        "outputId": "ce788750-7f23-4dc3-fb14-9899f8e430c0"
      },
      "outputs": [
        {
          "output_type": "execute_result",
          "data": {
            "text/plain": [
              "''"
            ],
            "application/vnd.google.colaboratory.intrinsic+json": {
              "type": "string"
            }
          },
          "metadata": {},
          "execution_count": 46
        }
      ],
      "source": [
        "s[2:7:-1] #here the value is start form positve to negative and the jump value is negative and its opposite side of forward indexing"
      ]
    },
    {
      "cell_type": "code",
      "execution_count": 56,
      "id": "78f3e702-b5b9-4d41-ab90-94f1cac41c47",
      "metadata": {
        "colab": {
          "base_uri": "https://localhost:8080/",
          "height": 36
        },
        "id": "78f3e702-b5b9-4d41-ab90-94f1cac41c47",
        "outputId": "dc80dc42-a26c-4f53-d914-0cac575239c2"
      },
      "outputs": [
        {
          "output_type": "execute_result",
          "data": {
            "text/plain": [
              "'leejrah'"
            ],
            "application/vnd.google.colaboratory.intrinsic+json": {
              "type": "string"
            }
          },
          "metadata": {},
          "execution_count": 56
        }
      ],
      "source": [
        "s[8:0:-1] #here start form 8 to 0 means end to start and the jump is -1 meand reverse indexing thats why its show from l to h not s becoz of -1"
      ]
    },
    {
      "cell_type": "code",
      "execution_count": 48,
      "id": "2012e3c3-246f-49ed-ad41-7341156a4b67",
      "metadata": {
        "colab": {
          "base_uri": "https://localhost:8080/",
          "height": 36
        },
        "id": "2012e3c3-246f-49ed-ad41-7341156a4b67",
        "outputId": "20981576-5fcc-4e6b-d084-5914168ca4af"
      },
      "outputs": [
        {
          "output_type": "execute_result",
          "data": {
            "text/plain": [
              "'leejrahs'"
            ],
            "application/vnd.google.colaboratory.intrinsic+json": {
              "type": "string"
            }
          },
          "metadata": {},
          "execution_count": 48
        }
      ],
      "source": [
        "s[8::-1] #same here"
      ]
    },
    {
      "cell_type": "code",
      "execution_count": 49,
      "id": "278af980-b48c-4750-9f18-91bac590fed6",
      "metadata": {
        "colab": {
          "base_uri": "https://localhost:8080/",
          "height": 36
        },
        "id": "278af980-b48c-4750-9f18-91bac590fed6",
        "outputId": "80b85042-82d7-4d0f-952e-27286a476d63"
      },
      "outputs": [
        {
          "output_type": "execute_result",
          "data": {
            "text/plain": [
              "'eejrah'"
            ],
            "application/vnd.google.colaboratory.intrinsic+json": {
              "type": "string"
            }
          },
          "metadata": {},
          "execution_count": 49
        }
      ],
      "source": [
        "s[-2 : -8 : -1] #start from l to s in reverse indexing thats why the letters is not showing"
      ]
    },
    {
      "cell_type": "code",
      "execution_count": 50,
      "id": "af275dde-7925-4b0b-ae23-cf8aba205adb",
      "metadata": {
        "colab": {
          "base_uri": "https://localhost:8080/",
          "height": 36
        },
        "id": "af275dde-7925-4b0b-ae23-cf8aba205adb",
        "outputId": "f44bfc48-c61d-4220-85ad-1f34e775be0d"
      },
      "outputs": [
        {
          "output_type": "execute_result",
          "data": {
            "text/plain": [
              "'eejrahs'"
            ],
            "application/vnd.google.colaboratory.intrinsic+json": {
              "type": "string"
            }
          },
          "metadata": {},
          "execution_count": 50
        }
      ],
      "source": [
        "s[-2 : : -1] #end is not given thats why s is appear"
      ]
    },
    {
      "cell_type": "code",
      "execution_count": 57,
      "id": "a8f29017-08ec-4d20-8c2d-a6d7999d7227",
      "metadata": {
        "colab": {
          "base_uri": "https://localhost:8080/",
          "height": 36
        },
        "id": "a8f29017-08ec-4d20-8c2d-a6d7999d7227",
        "outputId": "44db8864-77df-44db-9bf5-0bb1c0305d77"
      },
      "outputs": [
        {
          "output_type": "execute_result",
          "data": {
            "text/plain": [
              "'leejrahs'"
            ],
            "application/vnd.google.colaboratory.intrinsic+json": {
              "type": "string"
            }
          },
          "metadata": {},
          "execution_count": 57
        }
      ],
      "source": [
        "s[::-1] # reverse bcoz of reverse indexing and if you not give any value its by default is +1"
      ]
    },
    {
      "cell_type": "code",
      "execution_count": 58,
      "id": "3c30e5b0-9ffe-4027-b1a8-cc42dc8f84cc",
      "metadata": {
        "colab": {
          "base_uri": "https://localhost:8080/",
          "height": 36
        },
        "id": "3c30e5b0-9ffe-4027-b1a8-cc42dc8f84cc",
        "outputId": "c4398dc6-35b2-47a8-b6f8-d7bd3d54b5d6"
      },
      "outputs": [
        {
          "output_type": "execute_result",
          "data": {
            "text/plain": [
              "'sharjeel'"
            ],
            "application/vnd.google.colaboratory.intrinsic+json": {
              "type": "string"
            }
          },
          "metadata": {},
          "execution_count": 58
        }
      ],
      "source": [
        "s[::] #like here"
      ]
    },
    {
      "cell_type": "code",
      "execution_count": 62,
      "id": "a68f3cc9-c764-4a78-9feb-209648662685",
      "metadata": {
        "colab": {
          "base_uri": "https://localhost:8080/",
          "height": 36
        },
        "id": "a68f3cc9-c764-4a78-9feb-209648662685",
        "outputId": "a9f0b379-f4e0-4d10-a950-8f25e922e8df"
      },
      "outputs": [
        {
          "output_type": "execute_result",
          "data": {
            "text/plain": [
              "''"
            ],
            "application/vnd.google.colaboratory.intrinsic+json": {
              "type": "string"
            }
          },
          "metadata": {},
          "execution_count": 62
        }
      ],
      "source": [
        "s[:-900:] #becoz its start from reverse indexing and that position not any charcter is there"
      ]
    },
    {
      "cell_type": "code",
      "execution_count": null,
      "id": "99fb168e-6372-4268-acc2-5a445c0dbe5d",
      "metadata": {
        "id": "99fb168e-6372-4268-acc2-5a445c0dbe5d",
        "outputId": "b48eaa12-cd3c-4235-f1c6-07978e9d32bf"
      },
      "outputs": [
        {
          "ename": "IndexError",
          "evalue": "string index out of range",
          "output_type": "error",
          "traceback": [
            "\u001b[0;31m---------------------------------------------------------------------------\u001b[0m",
            "\u001b[0;31mIndexError\u001b[0m                                Traceback (most recent call last)",
            "Cell \u001b[0;32mIn[92], line 1\u001b[0m\n\u001b[0;32m----> 1\u001b[0m \u001b[43ms\u001b[49m\u001b[43m[\u001b[49m\u001b[38;5;241;43m90\u001b[39;49m\u001b[43m]\u001b[49m\n",
            "\u001b[0;31mIndexError\u001b[0m: string index out of range"
          ]
        }
      ],
      "source": [
        "s[90] #same here"
      ]
    },
    {
      "cell_type": "code",
      "execution_count": 61,
      "id": "67695afd-28a9-464b-af5e-d675a8504b88",
      "metadata": {
        "colab": {
          "base_uri": "https://localhost:8080/",
          "height": 36
        },
        "id": "67695afd-28a9-464b-af5e-d675a8504b88",
        "outputId": "0edfa9a2-5dc8-4ecd-a29c-7a44f6da5bc8"
      },
      "outputs": [
        {
          "output_type": "execute_result",
          "data": {
            "text/plain": [
              "'leejrahs'"
            ],
            "application/vnd.google.colaboratory.intrinsic+json": {
              "type": "string"
            }
          },
          "metadata": {},
          "execution_count": 61
        }
      ],
      "source": [
        "s[:-9000:-1] #end is -9000, but as mentioned earlier, the string is not long enough to have an index of -900.\n",
        "             #Therefore, the slicing effectively goes up to the beginning of the string (index 0)."
      ]
    },
    {
      "cell_type": "code",
      "execution_count": 64,
      "id": "20895ab2-dee5-4849-a317-3f9172310365",
      "metadata": {
        "id": "20895ab2-dee5-4849-a317-3f9172310365"
      },
      "outputs": [],
      "source": [
        "s1 = \"search me Sharjeel Ansari in google\" #here string assing in s1"
      ]
    },
    {
      "cell_type": "code",
      "execution_count": 65,
      "id": "cecca0bc-88d6-4e28-a00e-c32c2c55c7a1",
      "metadata": {
        "colab": {
          "base_uri": "https://localhost:8080/"
        },
        "id": "cecca0bc-88d6-4e28-a00e-c32c2c55c7a1",
        "outputId": "468d1942-41d5-4341-9174-c504ea0a07ae"
      },
      "outputs": [
        {
          "output_type": "execute_result",
          "data": {
            "text/plain": [
              "35"
            ]
          },
          "metadata": {},
          "execution_count": 65
        }
      ],
      "source": [
        "len(s1) #len function is used for lenght of string in variable"
      ]
    },
    {
      "cell_type": "code",
      "execution_count": 66,
      "id": "74bba9d6-ac28-45d7-a814-408a116feecd",
      "metadata": {
        "colab": {
          "base_uri": "https://localhost:8080/"
        },
        "id": "74bba9d6-ac28-45d7-a814-408a116feecd",
        "outputId": "177b25f5-7ccc-4438-a0ee-7380e8ac87d3"
      },
      "outputs": [
        {
          "output_type": "execute_result",
          "data": {
            "text/plain": [
              "0"
            ]
          },
          "metadata": {},
          "execution_count": 66
        }
      ],
      "source": [
        "s1.find('s') #this function is used for finding the same charcter in string its show first same charter by giving index number"
      ]
    },
    {
      "cell_type": "code",
      "execution_count": 72,
      "id": "799c78af-43d5-4db8-a50f-08e3e19ae869",
      "metadata": {
        "colab": {
          "base_uri": "https://localhost:8080/"
        },
        "id": "799c78af-43d5-4db8-a50f-08e3e19ae869",
        "outputId": "3cee6eb2-bbb9-44d7-b25c-71a7ae3cf7d3"
      },
      "outputs": [
        {
          "output_type": "execute_result",
          "data": {
            "text/plain": [
              "29"
            ]
          },
          "metadata": {},
          "execution_count": 72
        }
      ],
      "source": [
        "s1.find('google')"
      ]
    },
    {
      "cell_type": "code",
      "execution_count": 73,
      "id": "edb86932-ee9b-4836-ae44-96268d03c794",
      "metadata": {
        "colab": {
          "base_uri": "https://localhost:8080/"
        },
        "id": "edb86932-ee9b-4836-ae44-96268d03c794",
        "outputId": "cb13e4e0-a010-458f-87e2-15324a9c8a90"
      },
      "outputs": [
        {
          "output_type": "execute_result",
          "data": {
            "text/plain": [
              "10"
            ]
          },
          "metadata": {},
          "execution_count": 73
        }
      ],
      "source": [
        "s1.find(\"Sharjeel\")"
      ]
    },
    {
      "cell_type": "code",
      "execution_count": 74,
      "id": "4bd1bbb6-64b5-430c-9b9d-93cfc16434e6",
      "metadata": {
        "colab": {
          "base_uri": "https://localhost:8080/"
        },
        "id": "4bd1bbb6-64b5-430c-9b9d-93cfc16434e6",
        "outputId": "403af47f-4b40-48ac-c8c9-aafcb222fc86"
      },
      "outputs": [
        {
          "output_type": "execute_result",
          "data": {
            "text/plain": [
              "19"
            ]
          },
          "metadata": {},
          "execution_count": 74
        }
      ],
      "source": [
        "#this is a code to find a charecterd of sub string in string\n",
        "s1.find(\"Ansari\")"
      ]
    },
    {
      "cell_type": "code",
      "execution_count": 77,
      "id": "54b4a244-61a9-40ad-8b7e-ec8a701e16cc",
      "metadata": {
        "colab": {
          "base_uri": "https://localhost:8080/"
        },
        "id": "54b4a244-61a9-40ad-8b7e-ec8a701e16cc",
        "outputId": "5b280328-074a-4c16-e7b1-f31b16055bb8"
      },
      "outputs": [
        {
          "output_type": "execute_result",
          "data": {
            "text/plain": [
              "2"
            ]
          },
          "metadata": {},
          "execution_count": 77
        }
      ],
      "source": [
        "s1.count('o') #this function is used to counting the character in string variable"
      ]
    },
    {
      "cell_type": "code",
      "execution_count": 71,
      "id": "9bd9757a-c4a2-46dd-919f-435a7c6d4561",
      "metadata": {
        "colab": {
          "base_uri": "https://localhost:8080/",
          "height": 36
        },
        "id": "9bd9757a-c4a2-46dd-919f-435a7c6d4561",
        "outputId": "63f4aca8-6a33-4097-e8c4-1acd37d8d14d"
      },
      "outputs": [
        {
          "output_type": "execute_result",
          "data": {
            "text/plain": [
              "'search me Sharjeel Ansari in google'"
            ],
            "application/vnd.google.colaboratory.intrinsic+json": {
              "type": "string"
            }
          },
          "metadata": {},
          "execution_count": 71
        }
      ],
      "source": [
        "s1"
      ]
    },
    {
      "cell_type": "code",
      "execution_count": 78,
      "id": "84cdf888-5d18-48f1-abb7-5dfacf488716",
      "metadata": {
        "colab": {
          "base_uri": "https://localhost:8080/"
        },
        "id": "84cdf888-5d18-48f1-abb7-5dfacf488716",
        "outputId": "ca90035b-652a-4910-8186-0ad4f8130a1c"
      },
      "outputs": [
        {
          "output_type": "execute_result",
          "data": {
            "text/plain": [
              "3"
            ]
          },
          "metadata": {},
          "execution_count": 78
        }
      ],
      "source": [
        "s1.count(\"a\")"
      ]
    },
    {
      "cell_type": "code",
      "execution_count": 79,
      "id": "bd654c46-a03e-420d-8b72-5ab4595da8e7",
      "metadata": {
        "colab": {
          "base_uri": "https://localhost:8080/"
        },
        "id": "bd654c46-a03e-420d-8b72-5ab4595da8e7",
        "outputId": "9d70ea47-b6eb-4996-b54d-c6e18c615b3e"
      },
      "outputs": [
        {
          "output_type": "execute_result",
          "data": {
            "text/plain": [
              "1"
            ]
          },
          "metadata": {},
          "execution_count": 79
        }
      ],
      "source": [
        "s1.count('j')"
      ]
    },
    {
      "cell_type": "code",
      "execution_count": 80,
      "id": "8e7f6eed-0f58-4f04-afea-9d12c8ff03c0",
      "metadata": {
        "colab": {
          "base_uri": "https://localhost:8080/",
          "height": 36
        },
        "id": "8e7f6eed-0f58-4f04-afea-9d12c8ff03c0",
        "outputId": "c9e69679-14ff-4b1b-a40f-1333c76c7e41"
      },
      "outputs": [
        {
          "output_type": "execute_result",
          "data": {
            "text/plain": [
              "'search me Sharjeel Ansari in google'"
            ],
            "application/vnd.google.colaboratory.intrinsic+json": {
              "type": "string"
            }
          },
          "metadata": {},
          "execution_count": 80
        }
      ],
      "source": [
        "s1"
      ]
    },
    {
      "cell_type": "code",
      "execution_count": 81,
      "id": "700c6fda-eb0f-4d2d-9e32-f6037a666e48",
      "metadata": {
        "colab": {
          "base_uri": "https://localhost:8080/",
          "height": 36
        },
        "id": "700c6fda-eb0f-4d2d-9e32-f6037a666e48",
        "outputId": "64518f4d-e952-48ed-9fa3-42506bfc4a77"
      },
      "outputs": [
        {
          "output_type": "execute_result",
          "data": {
            "text/plain": [
              "'SEARCH ME SHARJEEL ANSARI IN GOOGLE'"
            ],
            "application/vnd.google.colaboratory.intrinsic+json": {
              "type": "string"
            }
          },
          "metadata": {},
          "execution_count": 81
        }
      ],
      "source": [
        "s1.upper()"
      ]
    },
    {
      "cell_type": "code",
      "execution_count": 84,
      "id": "19d4b1c4-2a8d-4028-a75b-b5baa96398ee",
      "metadata": {
        "id": "19d4b1c4-2a8d-4028-a75b-b5baa96398ee"
      },
      "outputs": [],
      "source": [
        "s2 = 'SEARCH ME SHARJEEL ANSARI IN GOOGLE'"
      ]
    },
    {
      "cell_type": "code",
      "execution_count": 85,
      "id": "378742c9-25e4-43c4-b6be-a61214f4124c",
      "metadata": {
        "colab": {
          "base_uri": "https://localhost:8080/",
          "height": 36
        },
        "id": "378742c9-25e4-43c4-b6be-a61214f4124c",
        "outputId": "0b7375c3-74b6-4d7c-a8f2-e0368bf6d122"
      },
      "outputs": [
        {
          "output_type": "execute_result",
          "data": {
            "text/plain": [
              "'SEARCH ME SHARJEEL ANSARI IN GOOGLE'"
            ],
            "application/vnd.google.colaboratory.intrinsic+json": {
              "type": "string"
            }
          },
          "metadata": {},
          "execution_count": 85
        }
      ],
      "source": [
        "s2"
      ]
    },
    {
      "cell_type": "code",
      "execution_count": 86,
      "id": "0681412e-b278-43d8-9141-7a4427e275b8",
      "metadata": {
        "colab": {
          "base_uri": "https://localhost:8080/",
          "height": 36
        },
        "id": "0681412e-b278-43d8-9141-7a4427e275b8",
        "outputId": "14cdc871-1364-43a6-d48f-70746245b5b5"
      },
      "outputs": [
        {
          "output_type": "execute_result",
          "data": {
            "text/plain": [
              "'search me sharjeel ansari in google'"
            ],
            "application/vnd.google.colaboratory.intrinsic+json": {
              "type": "string"
            }
          },
          "metadata": {},
          "execution_count": 86
        }
      ],
      "source": [
        "s2.lower()"
      ]
    },
    {
      "cell_type": "code",
      "execution_count": 87,
      "id": "b11139ef-ee48-48e5-b8ba-d1f8aa6908f2",
      "metadata": {
        "colab": {
          "base_uri": "https://localhost:8080/",
          "height": 36
        },
        "id": "b11139ef-ee48-48e5-b8ba-d1f8aa6908f2",
        "outputId": "3e410583-3400-4821-c2a0-b55954fd37ab"
      },
      "outputs": [
        {
          "output_type": "execute_result",
          "data": {
            "text/plain": [
              "'search me Sharjeel Ansari in google'"
            ],
            "application/vnd.google.colaboratory.intrinsic+json": {
              "type": "string"
            }
          },
          "metadata": {},
          "execution_count": 87
        }
      ],
      "source": [
        "s1"
      ]
    },
    {
      "cell_type": "code",
      "execution_count": 88,
      "id": "da15bb5d-72b3-4854-a818-19b1e96a1fdd",
      "metadata": {
        "colab": {
          "base_uri": "https://localhost:8080/",
          "height": 36
        },
        "id": "da15bb5d-72b3-4854-a818-19b1e96a1fdd",
        "outputId": "f1a969c2-d7c0-490e-84d1-0d71938e4ede"
      },
      "outputs": [
        {
          "output_type": "execute_result",
          "data": {
            "text/plain": [
              "'Search Me Sharjeel Ansari In Google'"
            ],
            "application/vnd.google.colaboratory.intrinsic+json": {
              "type": "string"
            }
          },
          "metadata": {},
          "execution_count": 88
        }
      ],
      "source": [
        "s1.title()"
      ]
    },
    {
      "cell_type": "code",
      "execution_count": 89,
      "id": "f3bcd4f0-7ac5-45c3-99f3-204f9f4f79d1",
      "metadata": {
        "colab": {
          "base_uri": "https://localhost:8080/",
          "height": 36
        },
        "id": "f3bcd4f0-7ac5-45c3-99f3-204f9f4f79d1",
        "outputId": "5f4bcc97-e9db-473f-b11d-d371f40601d4"
      },
      "outputs": [
        {
          "output_type": "execute_result",
          "data": {
            "text/plain": [
              "'Search me sharjeel ansari in google'"
            ],
            "application/vnd.google.colaboratory.intrinsic+json": {
              "type": "string"
            }
          },
          "metadata": {},
          "execution_count": 89
        }
      ],
      "source": [
        "s1.capitalize()"
      ]
    },
    {
      "cell_type": "code",
      "execution_count": 90,
      "id": "2b51f51a-691a-40b3-80db-00bb7e1a2f56",
      "metadata": {
        "colab": {
          "base_uri": "https://localhost:8080/",
          "height": 36
        },
        "id": "2b51f51a-691a-40b3-80db-00bb7e1a2f56",
        "outputId": "a5a8754c-a427-4835-aa3e-e8beeb64dbb3"
      },
      "outputs": [
        {
          "output_type": "execute_result",
          "data": {
            "text/plain": [
              "'sharjeel'"
            ],
            "application/vnd.google.colaboratory.intrinsic+json": {
              "type": "string"
            }
          },
          "metadata": {},
          "execution_count": 90
        }
      ],
      "source": [
        "s"
      ]
    },
    {
      "cell_type": "code",
      "execution_count": 91,
      "id": "7d771270-fd9e-417b-8057-1ce704c52c6d",
      "metadata": {
        "colab": {
          "base_uri": "https://localhost:8080/",
          "height": 175
        },
        "id": "7d771270-fd9e-417b-8057-1ce704c52c6d",
        "outputId": "a874f510-75dc-4010-88ec-a43c7b07ae37"
      },
      "outputs": [
        {
          "output_type": "error",
          "ename": "TypeError",
          "evalue": "ignored",
          "traceback": [
            "\u001b[0;31m---------------------------------------------------------------------------\u001b[0m",
            "\u001b[0;31mTypeError\u001b[0m                                 Traceback (most recent call last)",
            "\u001b[0;32m<ipython-input-91-b8bba336fa32>\u001b[0m in \u001b[0;36m<cell line: 1>\u001b[0;34m()\u001b[0m\n\u001b[0;32m----> 1\u001b[0;31m \u001b[0ms\u001b[0m \u001b[0;34m+\u001b[0m \u001b[0;36m1\u001b[0m\u001b[0;34m\u001b[0m\u001b[0;34m\u001b[0m\u001b[0m\n\u001b[0m",
            "\u001b[0;31mTypeError\u001b[0m: can only concatenate str (not \"int\") to str"
          ]
        }
      ],
      "source": [
        "s + 1"
      ]
    },
    {
      "cell_type": "code",
      "execution_count": 93,
      "id": "e33d03a4-2a41-4bf3-811b-2a5f6b760f4e",
      "metadata": {
        "colab": {
          "base_uri": "https://localhost:8080/",
          "height": 36
        },
        "id": "e33d03a4-2a41-4bf3-811b-2a5f6b760f4e",
        "outputId": "c0ea5450-e9a0-4335-c69d-c270ea0e82d4"
      },
      "outputs": [
        {
          "output_type": "execute_result",
          "data": {
            "text/plain": [
              "'sharjeel Ansari'"
            ],
            "application/vnd.google.colaboratory.intrinsic+json": {
              "type": "string"
            }
          },
          "metadata": {},
          "execution_count": 93
        }
      ],
      "source": [
        "s + \" Ansari\""
      ]
    },
    {
      "cell_type": "code",
      "execution_count": 94,
      "id": "0a71bfe0-f50b-4341-9016-95d9efe3ac5e",
      "metadata": {
        "colab": {
          "base_uri": "https://localhost:8080/",
          "height": 36
        },
        "id": "0a71bfe0-f50b-4341-9016-95d9efe3ac5e",
        "outputId": "99ab1547-194a-4530-b394-fc06944850e7"
      },
      "outputs": [
        {
          "output_type": "execute_result",
          "data": {
            "text/plain": [
              "'sharjeel1'"
            ],
            "application/vnd.google.colaboratory.intrinsic+json": {
              "type": "string"
            }
          },
          "metadata": {},
          "execution_count": 94
        }
      ],
      "source": [
        "s + '1'"
      ]
    },
    {
      "cell_type": "code",
      "execution_count": 95,
      "id": "ccff93e3-5f2f-4400-b9e6-4c5df7d861f3",
      "metadata": {
        "colab": {
          "base_uri": "https://localhost:8080/",
          "height": 36
        },
        "id": "ccff93e3-5f2f-4400-b9e6-4c5df7d861f3",
        "outputId": "fcac6e9a-6c82-4158-ed0a-243f392c4b72"
      },
      "outputs": [
        {
          "output_type": "execute_result",
          "data": {
            "text/plain": [
              "'sharjeel1'"
            ],
            "application/vnd.google.colaboratory.intrinsic+json": {
              "type": "string"
            }
          },
          "metadata": {},
          "execution_count": 95
        }
      ],
      "source": [
        "s+ str(1)"
      ]
    },
    {
      "cell_type": "code",
      "execution_count": 96,
      "id": "6139b5d5-4f5a-4762-9ff1-b471a5e5b0f1",
      "metadata": {
        "colab": {
          "base_uri": "https://localhost:8080/",
          "height": 36
        },
        "id": "6139b5d5-4f5a-4762-9ff1-b471a5e5b0f1",
        "outputId": "265b1bf4-fa37-4d87-fca1-0752a0958414"
      },
      "outputs": [
        {
          "output_type": "execute_result",
          "data": {
            "text/plain": [
              "'sharjeelsharjeelsharjeel'"
            ],
            "application/vnd.google.colaboratory.intrinsic+json": {
              "type": "string"
            }
          },
          "metadata": {},
          "execution_count": 96
        }
      ],
      "source": [
        "s * 3"
      ]
    },
    {
      "cell_type": "code",
      "execution_count": 97,
      "id": "7c0ebf56-d6e2-4b76-a8ec-a56a017509d2",
      "metadata": {
        "colab": {
          "base_uri": "https://localhost:8080/",
          "height": 36
        },
        "id": "7c0ebf56-d6e2-4b76-a8ec-a56a017509d2",
        "outputId": "5f822f76-f67b-4c26-b156-ad8a69cbf290"
      },
      "outputs": [
        {
          "output_type": "execute_result",
          "data": {
            "text/plain": [
              "'abcabcabcabc'"
            ],
            "application/vnd.google.colaboratory.intrinsic+json": {
              "type": "string"
            }
          },
          "metadata": {},
          "execution_count": 97
        }
      ],
      "source": [
        "'abc' *4"
      ]
    },
    {
      "cell_type": "code",
      "execution_count": 98,
      "id": "4848a53b-c42c-49c8-af4a-9f271d2ec420",
      "metadata": {
        "colab": {
          "base_uri": "https://localhost:8080/",
          "height": 175
        },
        "id": "4848a53b-c42c-49c8-af4a-9f271d2ec420",
        "outputId": "b6331f20-7904-40a1-d938-6f53fbfbacaa"
      },
      "outputs": [
        {
          "output_type": "error",
          "ename": "TypeError",
          "evalue": "ignored",
          "traceback": [
            "\u001b[0;31m---------------------------------------------------------------------------\u001b[0m",
            "\u001b[0;31mTypeError\u001b[0m                                 Traceback (most recent call last)",
            "\u001b[0;32m<ipython-input-98-1ff8aaa409b3>\u001b[0m in \u001b[0;36m<cell line: 1>\u001b[0;34m()\u001b[0m\n\u001b[0;32m----> 1\u001b[0;31m \u001b[0;34m\"abc\"\u001b[0m \u001b[0;34m/\u001b[0m \u001b[0;36m4\u001b[0m\u001b[0;34m\u001b[0m\u001b[0;34m\u001b[0m\u001b[0m\n\u001b[0m",
            "\u001b[0;31mTypeError\u001b[0m: unsupported operand type(s) for /: 'str' and 'int'"
          ]
        }
      ],
      "source": [
        "\"abc\" / 4"
      ]
    },
    {
      "cell_type": "code",
      "execution_count": null,
      "id": "5713cafe-63fd-4503-b437-9b8a2dfdb99a",
      "metadata": {
        "id": "5713cafe-63fd-4503-b437-9b8a2dfdb99a",
        "outputId": "fdbb7693-f0a8-4e1f-c976-ff45c58720a5"
      },
      "outputs": [
        {
          "data": {
            "text/plain": [
              "'don\"t do copy and paste in my class'"
            ]
          },
          "execution_count": 129,
          "metadata": {},
          "output_type": "execute_result"
        }
      ],
      "source": [
        "'don\"t do copy and paste in my class'"
      ]
    },
    {
      "cell_type": "code",
      "execution_count": 101,
      "id": "2ec0c8c9-a3bf-4643-b108-c4e1af3dfc0f",
      "metadata": {
        "id": "2ec0c8c9-a3bf-4643-b108-c4e1af3dfc0f"
      },
      "outputs": [],
      "source": [
        "s3 = \"\"\"This is my first class for programming\n",
        "i have leant variable declaration , data type , string , int , boolean , complex number\n",
        "i have seen some example of string slicing and indexing\n",
        "i have gone though some of the string inbuilt function\n",
        "apart from that i am trying to practice in my system\n",
        "but some of us in our calss are not executing code and still they are answering which is bad \"\"\""
      ]
    },
    {
      "cell_type": "code",
      "execution_count": 102,
      "id": "87ca83d6-809b-4140-87ff-f6ac1058f9c1",
      "metadata": {
        "colab": {
          "base_uri": "https://localhost:8080/",
          "height": 70
        },
        "id": "87ca83d6-809b-4140-87ff-f6ac1058f9c1",
        "outputId": "d7f30b19-bf9d-43d6-8dff-588ba8e30f85"
      },
      "outputs": [
        {
          "output_type": "execute_result",
          "data": {
            "text/plain": [
              "'This is my first class for programming\\ni have leant variable declaration , data type , string , int , boolean , complex number \\ni have seen some example of string slicing and indexing \\ni have gone though some of the string inbuilt function \\napart from that i am trying to practice in my system \\nbut some of us in our calss are not executing code and still they are answering which is bad '"
            ],
            "application/vnd.google.colaboratory.intrinsic+json": {
              "type": "string"
            }
          },
          "metadata": {},
          "execution_count": 102
        }
      ],
      "source": [
        "s3"
      ]
    },
    {
      "cell_type": "code",
      "execution_count": 103,
      "id": "2acdd76e-53d8-439e-8368-575db820fb68",
      "metadata": {
        "colab": {
          "base_uri": "https://localhost:8080/",
          "height": 36
        },
        "id": "2acdd76e-53d8-439e-8368-575db820fb68",
        "outputId": "d051c1c0-8335-4982-f414-d9ec83a4ec90"
      },
      "outputs": [
        {
          "output_type": "execute_result",
          "data": {
            "text/plain": [
              "'sharjeel'"
            ],
            "application/vnd.google.colaboratory.intrinsic+json": {
              "type": "string"
            }
          },
          "metadata": {},
          "execution_count": 103
        }
      ],
      "source": [
        "s"
      ]
    },
    {
      "cell_type": "code",
      "execution_count": 104,
      "id": "5cc0c634-1580-4d21-9f18-899deff3dfb9",
      "metadata": {
        "colab": {
          "base_uri": "https://localhost:8080/",
          "height": 36
        },
        "id": "5cc0c634-1580-4d21-9f18-899deff3dfb9",
        "outputId": "f8f0601a-60ba-4d3c-f8ed-1419f51a454b"
      },
      "outputs": [
        {
          "output_type": "execute_result",
          "data": {
            "text/plain": [
              "'leejrahs'"
            ],
            "application/vnd.google.colaboratory.intrinsic+json": {
              "type": "string"
            }
          },
          "metadata": {},
          "execution_count": 104
        }
      ],
      "source": [
        "s[::-1]"
      ]
    },
    {
      "cell_type": "code",
      "execution_count": 105,
      "id": "4ea52474-1098-4520-b86e-7d74174a8ba0",
      "metadata": {
        "colab": {
          "base_uri": "https://localhost:8080/",
          "height": 36
        },
        "id": "4ea52474-1098-4520-b86e-7d74174a8ba0",
        "outputId": "87c81d72-acc7-4b42-bc73-bd7216cb20c0"
      },
      "outputs": [
        {
          "output_type": "execute_result",
          "data": {
            "text/plain": [
              "'S'"
            ],
            "application/vnd.google.colaboratory.intrinsic+json": {
              "type": "string"
            }
          },
          "metadata": {},
          "execution_count": 105
        }
      ],
      "source": [
        "s[-8::-1].upper()"
      ]
    },
    {
      "cell_type": "code",
      "execution_count": 112,
      "id": "d2f9105f-cf70-4ed5-9104-6c50c355d464",
      "metadata": {
        "id": "d2f9105f-cf70-4ed5-9104-6c50c355d464"
      },
      "outputs": [],
      "source": [
        "s = \"jai\""
      ]
    },
    {
      "cell_type": "code",
      "execution_count": 113,
      "id": "aca3fbb4-ae1f-45d7-869c-e686bcf74536",
      "metadata": {
        "colab": {
          "base_uri": "https://localhost:8080/",
          "height": 36
        },
        "id": "aca3fbb4-ae1f-45d7-869c-e686bcf74536",
        "outputId": "3e67e994-ede5-41f8-fa5a-a2fed6347c4e"
      },
      "outputs": [
        {
          "output_type": "execute_result",
          "data": {
            "text/plain": [
              "'jai'"
            ],
            "application/vnd.google.colaboratory.intrinsic+json": {
              "type": "string"
            }
          },
          "metadata": {},
          "execution_count": 113
        }
      ],
      "source": [
        "s"
      ]
    },
    {
      "cell_type": "code",
      "execution_count": 114,
      "id": "03632572-b563-4483-82bc-450c477d1c57",
      "metadata": {
        "colab": {
          "base_uri": "https://localhost:8080/"
        },
        "id": "03632572-b563-4483-82bc-450c477d1c57",
        "outputId": "a7819ac8-8f95-4d1a-8c58-a1efa897ed26"
      },
      "outputs": [
        {
          "output_type": "stream",
          "name": "stdout",
          "text": [
            "jai\n"
          ]
        }
      ],
      "source": [
        "print(s)"
      ]
    },
    {
      "cell_type": "code",
      "execution_count": 115,
      "id": "4c644085-cc4f-4a69-a2ae-0049f43f79a8",
      "metadata": {
        "colab": {
          "base_uri": "https://localhost:8080/",
          "height": 36
        },
        "id": "4c644085-cc4f-4a69-a2ae-0049f43f79a8",
        "outputId": "daafbea4-8675-4108-8511-115293abad4d"
      },
      "outputs": [
        {
          "output_type": "execute_result",
          "data": {
            "text/plain": [
              "'aj'"
            ],
            "application/vnd.google.colaboratory.intrinsic+json": {
              "type": "string"
            }
          },
          "metadata": {},
          "execution_count": 115
        }
      ],
      "source": [
        "s[-2::-1]"
      ]
    },
    {
      "cell_type": "code",
      "execution_count": 119,
      "id": "76e5f39b-95dc-48f0-9bb2-2182d8dc0271",
      "metadata": {
        "id": "76e5f39b-95dc-48f0-9bb2-2182d8dc0271"
      },
      "outputs": [],
      "source": [
        "s = \"jammy\""
      ]
    },
    {
      "cell_type": "code",
      "execution_count": 120,
      "id": "d849e4c4-4210-481d-aad1-1c09c141d78f",
      "metadata": {
        "colab": {
          "base_uri": "https://localhost:8080/",
          "height": 36
        },
        "id": "d849e4c4-4210-481d-aad1-1c09c141d78f",
        "outputId": "4fe1bf69-cec0-4cc8-e94e-fd4f5bedc18f"
      },
      "outputs": [
        {
          "output_type": "execute_result",
          "data": {
            "text/plain": [
              "'mmaj'"
            ],
            "application/vnd.google.colaboratory.intrinsic+json": {
              "type": "string"
            }
          },
          "metadata": {},
          "execution_count": 120
        }
      ],
      "source": [
        "s[-2::-1]"
      ]
    },
    {
      "cell_type": "code",
      "execution_count": 121,
      "id": "64db01dc-559f-4b85-b3b0-916082aee184",
      "metadata": {
        "id": "64db01dc-559f-4b85-b3b0-916082aee184"
      },
      "outputs": [],
      "source": [
        "s4= \"\"\"Iam praharshitha\n",
        "im in second year\n",
        "i want to learn python\"\"\""
      ]
    },
    {
      "cell_type": "code",
      "execution_count": null,
      "id": "0a90d2e1-7a0d-46a1-8a8d-4d5ab22d5975",
      "metadata": {
        "id": "0a90d2e1-7a0d-46a1-8a8d-4d5ab22d5975",
        "outputId": "2ac72e9a-16d7-4254-e149-a9152c1c4a63"
      },
      "outputs": [
        {
          "data": {
            "text/plain": [
              "'Iam praharshitha\\nim in second year\\ni want to learn python'"
            ]
          },
          "execution_count": 157,
          "metadata": {},
          "output_type": "execute_result"
        }
      ],
      "source": [
        "s4"
      ]
    },
    {
      "cell_type": "code",
      "execution_count": 122,
      "id": "54e0339e-b713-4b2e-82f7-2787ceec801b",
      "metadata": {
        "colab": {
          "base_uri": "https://localhost:8080/",
          "height": 36
        },
        "id": "54e0339e-b713-4b2e-82f7-2787ceec801b",
        "outputId": "e61e6003-9f87-4fa2-be68-a28f5701bb76"
      },
      "outputs": [
        {
          "output_type": "execute_result",
          "data": {
            "text/plain": [
              "'ymmaj'"
            ],
            "application/vnd.google.colaboratory.intrinsic+json": {
              "type": "string"
            }
          },
          "metadata": {},
          "execution_count": 122
        }
      ],
      "source": [
        "s[:-8:-1]"
      ]
    },
    {
      "cell_type": "code",
      "execution_count": 123,
      "id": "8b687cfe-8bce-4646-a749-afa59f5d5ee9",
      "metadata": {
        "colab": {
          "base_uri": "https://localhost:8080/",
          "height": 36
        },
        "id": "8b687cfe-8bce-4646-a749-afa59f5d5ee9",
        "outputId": "78f07e9b-60cf-4f91-e825-b92d9f8bc24c"
      },
      "outputs": [
        {
          "output_type": "execute_result",
          "data": {
            "text/plain": [
              "'jammy'"
            ],
            "application/vnd.google.colaboratory.intrinsic+json": {
              "type": "string"
            }
          },
          "metadata": {},
          "execution_count": 123
        }
      ],
      "source": [
        "s"
      ]
    },
    {
      "cell_type": "code",
      "execution_count": 124,
      "id": "e4597a56-e615-483c-a0ff-7b88117ab465",
      "metadata": {
        "colab": {
          "base_uri": "https://localhost:8080/",
          "height": 36
        },
        "id": "e4597a56-e615-483c-a0ff-7b88117ab465",
        "outputId": "05761db3-8124-4b54-9f4c-fa396abc74ef"
      },
      "outputs": [
        {
          "output_type": "execute_result",
          "data": {
            "text/plain": [
              "'jammyjammyjammy'"
            ],
            "application/vnd.google.colaboratory.intrinsic+json": {
              "type": "string"
            }
          },
          "metadata": {},
          "execution_count": 124
        }
      ],
      "source": [
        "s * 3"
      ]
    },
    {
      "cell_type": "code",
      "execution_count": null,
      "id": "4d8d27bf-854f-4d0d-8251-794dba7c7d3d",
      "metadata": {
        "id": "4d8d27bf-854f-4d0d-8251-794dba7c7d3d"
      },
      "outputs": [],
      "source": [
        "a = 1"
      ]
    },
    {
      "cell_type": "code",
      "execution_count": null,
      "id": "59944f83-f92e-480a-a6e6-f9f613530a4c",
      "metadata": {
        "id": "59944f83-f92e-480a-a6e6-f9f613530a4c"
      },
      "outputs": [],
      "source": [
        "b = 3\n",
        "c = 5"
      ]
    },
    {
      "cell_type": "code",
      "execution_count": 126,
      "id": "c234b677-0422-45a2-84b1-d5fcaec53ad1",
      "metadata": {
        "colab": {
          "base_uri": "https://localhost:8080/",
          "height": 36
        },
        "id": "c234b677-0422-45a2-84b1-d5fcaec53ad1",
        "outputId": "38d4d819-bdcd-4dd8-b69a-e5eb3cd9468a"
      },
      "outputs": [
        {
          "output_type": "execute_result",
          "data": {
            "text/plain": [
              "'jammy'"
            ],
            "application/vnd.google.colaboratory.intrinsic+json": {
              "type": "string"
            }
          },
          "metadata": {},
          "execution_count": 126
        }
      ],
      "source": [
        "s"
      ]
    },
    {
      "cell_type": "code",
      "execution_count": 127,
      "id": "2835a083-8adf-4707-bb9f-bf48f596bebb",
      "metadata": {
        "id": "2835a083-8adf-4707-bb9f-bf48f596bebb"
      },
      "outputs": [],
      "source": [
        "s = 'myskill'"
      ]
    },
    {
      "cell_type": "code",
      "execution_count": null,
      "id": "65a1509a-59f0-4b1c-a218-9594ed8b3894",
      "metadata": {
        "id": "65a1509a-59f0-4b1c-a218-9594ed8b3894",
        "outputId": "75db7b2f-2448-4ff7-a301-6a4044ba8426"
      },
      "outputs": [
        {
          "data": {
            "text/plain": [
              "'liksym'"
            ]
          },
          "execution_count": 173,
          "metadata": {},
          "output_type": "execute_result"
        }
      ],
      "source": [
        "s[-2::-1]"
      ]
    },
    {
      "cell_type": "code",
      "execution_count": 128,
      "id": "d58f768a-5dee-4cd7-966a-2a2199c330ee",
      "metadata": {
        "id": "d58f768a-5dee-4cd7-966a-2a2199c330ee"
      },
      "outputs": [],
      "source": [
        "# jkfhsajasf\n",
        "# fasdfhiasfhd\n",
        "# ihasdufh\n",
        "# iuhasdfias\n",
        "# hoasdofasf\n",
        "# hiuohasdofs\n",
        "# hlohasfdsa"
      ]
    },
    {
      "cell_type": "code",
      "execution_count": 129,
      "id": "7a48d672-2c85-40cd-a4c4-97b815bc6bae",
      "metadata": {
        "id": "7a48d672-2c85-40cd-a4c4-97b815bc6bae"
      },
      "outputs": [],
      "source": [
        "s = \"sharjeel\""
      ]
    },
    {
      "cell_type": "code",
      "execution_count": 130,
      "id": "fda1c693-4a59-44a3-af64-0f9450bedcc0",
      "metadata": {
        "colab": {
          "base_uri": "https://localhost:8080/",
          "height": 36
        },
        "id": "fda1c693-4a59-44a3-af64-0f9450bedcc0",
        "outputId": "ab84ee82-70a0-4b9f-fc01-365c24a818ac"
      },
      "outputs": [
        {
          "output_type": "execute_result",
          "data": {
            "text/plain": [
              "'a'"
            ],
            "application/vnd.google.colaboratory.intrinsic+json": {
              "type": "string"
            }
          },
          "metadata": {},
          "execution_count": 130
        }
      ],
      "source": [
        "s[2:3:1]"
      ]
    },
    {
      "cell_type": "code",
      "execution_count": 131,
      "id": "3bc25384-865e-4ab3-8055-aa9fdff390bc",
      "metadata": {
        "id": "3bc25384-865e-4ab3-8055-aa9fdff390bc"
      },
      "outputs": [],
      "source": [
        "a = 10"
      ]
    },
    {
      "cell_type": "code",
      "execution_count": 132,
      "id": "f6cb0b0b-de10-4a65-8d63-8d21fd273f32",
      "metadata": {
        "colab": {
          "base_uri": "https://localhost:8080/"
        },
        "id": "f6cb0b0b-de10-4a65-8d63-8d21fd273f32",
        "outputId": "f024207d-0c70-4807-9050-2f5a3446e29e"
      },
      "outputs": [
        {
          "output_type": "execute_result",
          "data": {
            "text/plain": [
              "10"
            ]
          },
          "metadata": {},
          "execution_count": 132
        }
      ],
      "source": [
        "a"
      ]
    },
    {
      "cell_type": "code",
      "execution_count": null,
      "id": "84e59358-8879-4a15-a0d2-b33905271e03",
      "metadata": {
        "id": "84e59358-8879-4a15-a0d2-b33905271e03"
      },
      "outputs": [],
      "source": []
    },
    {
      "cell_type": "code",
      "execution_count": null,
      "id": "6ee6e15d-9315-4700-9877-b4099a09075e",
      "metadata": {
        "id": "6ee6e15d-9315-4700-9877-b4099a09075e"
      },
      "outputs": [],
      "source": []
    },
    {
      "cell_type": "code",
      "execution_count": null,
      "id": "d4fe0d5c-3a47-4061-b819-fa35f702703f",
      "metadata": {
        "id": "d4fe0d5c-3a47-4061-b819-fa35f702703f"
      },
      "outputs": [],
      "source": []
    },
    {
      "cell_type": "code",
      "execution_count": null,
      "id": "880866a5-268e-4f53-a886-17a8dc0034d4",
      "metadata": {
        "id": "880866a5-268e-4f53-a886-17a8dc0034d4"
      },
      "outputs": [],
      "source": []
    },
    {
      "cell_type": "code",
      "execution_count": null,
      "id": "708a56f0-b5f1-4948-8ace-ec250a601fb1",
      "metadata": {
        "id": "708a56f0-b5f1-4948-8ace-ec250a601fb1"
      },
      "outputs": [],
      "source": []
    },
    {
      "cell_type": "code",
      "execution_count": null,
      "id": "25f573f3-968d-48bf-b8fa-bc4870250b01",
      "metadata": {
        "id": "25f573f3-968d-48bf-b8fa-bc4870250b01"
      },
      "outputs": [],
      "source": []
    },
    {
      "cell_type": "code",
      "execution_count": null,
      "id": "2353a833-abb8-40bc-abf1-1e142ceb5a83",
      "metadata": {
        "id": "2353a833-abb8-40bc-abf1-1e142ceb5a83"
      },
      "outputs": [],
      "source": []
    },
    {
      "cell_type": "code",
      "execution_count": null,
      "id": "02bb4213-5904-4956-b235-3f59aa4a54b6",
      "metadata": {
        "id": "02bb4213-5904-4956-b235-3f59aa4a54b6"
      },
      "outputs": [],
      "source": []
    },
    {
      "cell_type": "code",
      "execution_count": null,
      "id": "ce2b9fc8-93f8-4827-91cc-f23b48796949",
      "metadata": {
        "id": "ce2b9fc8-93f8-4827-91cc-f23b48796949"
      },
      "outputs": [],
      "source": []
    },
    {
      "cell_type": "code",
      "execution_count": null,
      "id": "53578baf-83e0-4b8f-af09-03fa74c504ff",
      "metadata": {
        "id": "53578baf-83e0-4b8f-af09-03fa74c504ff"
      },
      "outputs": [],
      "source": []
    },
    {
      "cell_type": "code",
      "execution_count": null,
      "id": "78bd0495-2fcc-402b-b1fa-b23610595441",
      "metadata": {
        "id": "78bd0495-2fcc-402b-b1fa-b23610595441"
      },
      "outputs": [],
      "source": []
    }
  ],
  "metadata": {
    "kernelspec": {
      "display_name": "Python 3 (ipykernel)",
      "language": "python",
      "name": "python3"
    },
    "language_info": {
      "codemirror_mode": {
        "name": "ipython",
        "version": 3
      },
      "file_extension": ".py",
      "mimetype": "text/x-python",
      "name": "python",
      "nbconvert_exporter": "python",
      "pygments_lexer": "ipython3",
      "version": "3.10.8"
    },
    "colab": {
      "provenance": [],
      "include_colab_link": true
    }
  },
  "nbformat": 4,
  "nbformat_minor": 5
}