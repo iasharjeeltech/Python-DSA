{
  "cells": [
    {
      "cell_type": "markdown",
      "metadata": {
        "id": "view-in-github",
        "colab_type": "text"
      },
      "source": [
        "<a href=\"https://colab.research.google.com/github/iasharjeeltech/Python-DSA/blob/main/python_basic.ipynb\" target=\"_parent\"><img src=\"https://colab.research.google.com/assets/colab-badge.svg\" alt=\"Open In Colab\"/></a>"
      ]
    },
    {
      "cell_type": "code",
      "execution_count": null,
      "id": "b53f697d-0d83-400b-9408-df252fd56291",
      "metadata": {
        "id": "b53f697d-0d83-400b-9408-df252fd56291",
        "outputId": "65314a13-88e8-4778-9a7f-90c09b15c1f4"
      },
      "outputs": [
        {
          "data": {
            "text/plain": [
              "2"
            ]
          },
          "execution_count": 7,
          "metadata": {},
          "output_type": "execute_result"
        }
      ],
      "source": [
        "1+1"
      ]
    },
    {
      "cell_type": "code",
      "execution_count": null,
      "id": "fbcdd846-36d0-4aad-ba66-9031c2efd063",
      "metadata": {
        "id": "fbcdd846-36d0-4aad-ba66-9031c2efd063",
        "outputId": "fa7106cb-e8bc-4937-d831-ca1eaa28d4d0"
      },
      "outputs": [
        {
          "data": {
            "text/plain": [
              "25"
            ]
          },
          "execution_count": 9,
          "metadata": {},
          "output_type": "execute_result"
        }
      ],
      "source": [
        "5*5"
      ]
    },
    {
      "cell_type": "code",
      "execution_count": null,
      "id": "45077ab3-fb8a-475f-849b-955261391dc1",
      "metadata": {
        "id": "45077ab3-fb8a-475f-849b-955261391dc1"
      },
      "outputs": [],
      "source": [
        "a = 10"
      ]
    },
    {
      "cell_type": "code",
      "execution_count": null,
      "id": "d1bbbdb3-2327-4335-b1a0-a8265fde5158",
      "metadata": {
        "id": "d1bbbdb3-2327-4335-b1a0-a8265fde5158",
        "outputId": "ceac12ec-2898-45ff-e6d6-5c8bfc8b41cb"
      },
      "outputs": [
        {
          "data": {
            "text/plain": [
              "10"
            ]
          },
          "execution_count": 11,
          "metadata": {},
          "output_type": "execute_result"
        }
      ],
      "source": [
        "a"
      ]
    },
    {
      "cell_type": "code",
      "execution_count": null,
      "id": "e62660ad-7b0d-4331-a962-9c99975a81bb",
      "metadata": {
        "id": "e62660ad-7b0d-4331-a962-9c99975a81bb",
        "outputId": "359e3920-1b84-4931-f8bf-8365a18b0293"
      },
      "outputs": [
        {
          "data": {
            "text/plain": [
              "10"
            ]
          },
          "execution_count": 12,
          "metadata": {},
          "output_type": "execute_result"
        }
      ],
      "source": [
        "a"
      ]
    },
    {
      "cell_type": "code",
      "execution_count": null,
      "id": "5b4ce608-426c-4ee4-a8b6-3720b63dfb70",
      "metadata": {
        "id": "5b4ce608-426c-4ee4-a8b6-3720b63dfb70"
      },
      "outputs": [],
      "source": [
        "sudh = 20"
      ]
    },
    {
      "cell_type": "code",
      "execution_count": null,
      "id": "da1a0da9-1c76-4229-8a04-25acd8c58735",
      "metadata": {
        "id": "da1a0da9-1c76-4229-8a04-25acd8c58735",
        "outputId": "12864cca-3134-4d5f-ba66-e0e04d8d74df"
      },
      "outputs": [
        {
          "data": {
            "text/plain": [
              "20"
            ]
          },
          "execution_count": 14,
          "metadata": {},
          "output_type": "execute_result"
        }
      ],
      "source": [
        "sudh"
      ]
    },
    {
      "cell_type": "code",
      "execution_count": null,
      "id": "b954a05e-9196-4815-8aa0-25090a1c479f",
      "metadata": {
        "id": "b954a05e-9196-4815-8aa0-25090a1c479f",
        "outputId": "7b8e624d-a1b4-427d-8e61-f633dce78aaf"
      },
      "outputs": [
        {
          "data": {
            "text/plain": [
              "30"
            ]
          },
          "execution_count": 15,
          "metadata": {},
          "output_type": "execute_result"
        }
      ],
      "source": [
        "a+sudh"
      ]
    },
    {
      "cell_type": "code",
      "execution_count": null,
      "id": "da50468a-8756-4d12-991d-3e040f5e2cd1",
      "metadata": {
        "id": "da50468a-8756-4d12-991d-3e040f5e2cd1",
        "outputId": "8a9a9cf8-4bb2-4ca6-df5a-f6f7cd1ee36a"
      },
      "outputs": [
        {
          "data": {
            "text/plain": [
              "int"
            ]
          },
          "execution_count": 16,
          "metadata": {},
          "output_type": "execute_result"
        }
      ],
      "source": [
        "type(a)"
      ]
    },
    {
      "cell_type": "code",
      "execution_count": null,
      "id": "68c2a664-dae5-48fa-bfbb-7de14e9c5a0b",
      "metadata": {
        "id": "68c2a664-dae5-48fa-bfbb-7de14e9c5a0b",
        "outputId": "143824ac-dd4e-4bda-9243-6c910d56cdee"
      },
      "outputs": [
        {
          "data": {
            "text/plain": [
              "int"
            ]
          },
          "execution_count": 20,
          "metadata": {},
          "output_type": "execute_result"
        }
      ],
      "source": [
        "type(sudh)"
      ]
    },
    {
      "cell_type": "code",
      "execution_count": null,
      "id": "eb125b6a-55e4-418d-a5e6-001fa1fd9f9f",
      "metadata": {
        "id": "eb125b6a-55e4-418d-a5e6-001fa1fd9f9f"
      },
      "outputs": [],
      "source": [
        "b = 2.09"
      ]
    },
    {
      "cell_type": "code",
      "execution_count": null,
      "id": "6b056dd8-8900-4a2f-8a53-22cd538b337e",
      "metadata": {
        "id": "6b056dd8-8900-4a2f-8a53-22cd538b337e",
        "outputId": "3fee91b7-aa8d-4a86-ce76-db146f3bb1dc"
      },
      "outputs": [
        {
          "data": {
            "text/plain": [
              "float"
            ]
          },
          "execution_count": 22,
          "metadata": {},
          "output_type": "execute_result"
        }
      ],
      "source": [
        "type(b)"
      ]
    },
    {
      "cell_type": "code",
      "execution_count": null,
      "id": "c25d2085-189c-4987-8964-f73e309d5156",
      "metadata": {
        "id": "c25d2085-189c-4987-8964-f73e309d5156"
      },
      "outputs": [],
      "source": [
        "c = 45.23345"
      ]
    },
    {
      "cell_type": "code",
      "execution_count": null,
      "id": "85a0f6d7-27ea-4029-b34c-f7550489ebaf",
      "metadata": {
        "id": "85a0f6d7-27ea-4029-b34c-f7550489ebaf",
        "outputId": "71b13e21-9831-4b27-ddae-4c282da030fc"
      },
      "outputs": [
        {
          "data": {
            "text/plain": [
              "float"
            ]
          },
          "execution_count": 24,
          "metadata": {},
          "output_type": "execute_result"
        }
      ],
      "source": [
        "type(c)"
      ]
    },
    {
      "cell_type": "code",
      "execution_count": null,
      "id": "4b947bc9-a94b-404b-8d7e-114c523d9e7f",
      "metadata": {
        "id": "4b947bc9-a94b-404b-8d7e-114c523d9e7f"
      },
      "outputs": [],
      "source": [
        "d = \"sudhanshu\""
      ]
    },
    {
      "cell_type": "code",
      "execution_count": null,
      "id": "94b9ddc3-7099-4cb7-b509-b23653baf4d4",
      "metadata": {
        "id": "94b9ddc3-7099-4cb7-b509-b23653baf4d4",
        "outputId": "6ecf3819-3dfd-40f9-ef54-22af0c842687"
      },
      "outputs": [
        {
          "data": {
            "text/plain": [
              "str"
            ]
          },
          "execution_count": 26,
          "metadata": {},
          "output_type": "execute_result"
        }
      ],
      "source": [
        "type(d)"
      ]
    },
    {
      "cell_type": "code",
      "execution_count": null,
      "id": "91e83bc6-c387-48cd-92fb-14b9c4808fb4",
      "metadata": {
        "id": "91e83bc6-c387-48cd-92fb-14b9c4808fb4"
      },
      "outputs": [],
      "source": [
        "e = 'this is my first tech class'"
      ]
    },
    {
      "cell_type": "code",
      "execution_count": null,
      "id": "5d403197-4fde-478d-8977-ae91ecdec4b6",
      "metadata": {
        "id": "5d403197-4fde-478d-8977-ae91ecdec4b6",
        "outputId": "64407734-b917-4a85-92fa-0269b2f87b1f"
      },
      "outputs": [
        {
          "data": {
            "text/plain": [
              "str"
            ]
          },
          "execution_count": 32,
          "metadata": {},
          "output_type": "execute_result"
        }
      ],
      "source": [
        "type(e)"
      ]
    },
    {
      "cell_type": "code",
      "execution_count": null,
      "id": "0cc73f08-4bde-4847-8c16-e975b1e05aaa",
      "metadata": {
        "id": "0cc73f08-4bde-4847-8c16-e975b1e05aaa"
      },
      "outputs": [],
      "source": [
        "n = True"
      ]
    },
    {
      "cell_type": "code",
      "execution_count": null,
      "id": "1f85263d-1b17-4493-a3d5-64902404114f",
      "metadata": {
        "id": "1f85263d-1b17-4493-a3d5-64902404114f",
        "outputId": "8923578b-47d4-4940-ad32-6dc9305c3d4e"
      },
      "outputs": [
        {
          "data": {
            "text/plain": [
              "bool"
            ]
          },
          "execution_count": 34,
          "metadata": {},
          "output_type": "execute_result"
        }
      ],
      "source": [
        "type(n)"
      ]
    },
    {
      "cell_type": "code",
      "execution_count": null,
      "id": "18ac286b-3805-436b-826b-59a306db3888",
      "metadata": {
        "id": "18ac286b-3805-436b-826b-59a306db3888"
      },
      "outputs": [],
      "source": [
        "m = False"
      ]
    },
    {
      "cell_type": "code",
      "execution_count": null,
      "id": "4e053485-bbd4-4418-bd5d-3a1e4d3bc2c9",
      "metadata": {
        "id": "4e053485-bbd4-4418-bd5d-3a1e4d3bc2c9",
        "outputId": "d3cdc3a0-9048-4d23-bc2c-8c7498d894d3"
      },
      "outputs": [
        {
          "data": {
            "text/plain": [
              "bool"
            ]
          },
          "execution_count": 36,
          "metadata": {},
          "output_type": "execute_result"
        }
      ],
      "source": [
        "type(m)"
      ]
    },
    {
      "cell_type": "code",
      "execution_count": null,
      "id": "3ea329d7-88eb-4e79-a164-a4371cf6e972",
      "metadata": {
        "id": "3ea329d7-88eb-4e79-a164-a4371cf6e972",
        "outputId": "a0c33050-1dc1-48e4-8d4e-341f9a9ef61a"
      },
      "outputs": [
        {
          "data": {
            "text/plain": [
              "1"
            ]
          },
          "execution_count": 37,
          "metadata": {},
          "output_type": "execute_result"
        }
      ],
      "source": [
        "n+m"
      ]
    },
    {
      "cell_type": "code",
      "execution_count": null,
      "id": "5a416539-a876-4821-8d04-5a5d20f14690",
      "metadata": {
        "id": "5a416539-a876-4821-8d04-5a5d20f14690",
        "outputId": "97f175ad-94c5-41ed-9e2c-483469d4e999"
      },
      "outputs": [
        {
          "data": {
            "text/plain": [
              "1"
            ]
          },
          "execution_count": 38,
          "metadata": {},
          "output_type": "execute_result"
        }
      ],
      "source": [
        "True * True"
      ]
    },
    {
      "cell_type": "code",
      "execution_count": null,
      "id": "21997906-ef07-441b-aac9-965b6bef643f",
      "metadata": {
        "id": "21997906-ef07-441b-aac9-965b6bef643f",
        "outputId": "1861fc11-b7ff-44a4-9bc8-4a0388e8270b"
      },
      "outputs": [
        {
          "data": {
            "text/plain": [
              "0"
            ]
          },
          "execution_count": 39,
          "metadata": {},
          "output_type": "execute_result"
        }
      ],
      "source": [
        "True * False"
      ]
    },
    {
      "cell_type": "code",
      "execution_count": null,
      "id": "6db21975-3ace-4ec2-89d4-e7f68081b19b",
      "metadata": {
        "id": "6db21975-3ace-4ec2-89d4-e7f68081b19b",
        "outputId": "d2b631dc-de59-460c-8c72-8f2e4e1acd29"
      },
      "outputs": [
        {
          "ename": "ZeroDivisionError",
          "evalue": "division by zero",
          "output_type": "error",
          "traceback": [
            "\u001b[0;31m---------------------------------------------------------------------------\u001b[0m",
            "\u001b[0;31mZeroDivisionError\u001b[0m                         Traceback (most recent call last)",
            "Cell \u001b[0;32mIn[40], line 1\u001b[0m\n\u001b[0;32m----> 1\u001b[0m \u001b[38;5;28;43;01mTrue\u001b[39;49;00m\u001b[43m \u001b[49m\u001b[38;5;241;43m/\u001b[39;49m\u001b[43m \u001b[49m\u001b[38;5;28;43;01mFalse\u001b[39;49;00m \n",
            "\u001b[0;31mZeroDivisionError\u001b[0m: division by zero"
          ]
        }
      ],
      "source": [
        "True / False"
      ]
    },
    {
      "cell_type": "code",
      "execution_count": null,
      "id": "8084a6ad-ee8c-4689-be01-ef3964e9038c",
      "metadata": {
        "id": "8084a6ad-ee8c-4689-be01-ef3964e9038c",
        "outputId": "358920ef-13d3-42a1-aa60-0ca39c7979d4"
      },
      "outputs": [
        {
          "ename": "ZeroDivisionError",
          "evalue": "division by zero",
          "output_type": "error",
          "traceback": [
            "\u001b[0;31m---------------------------------------------------------------------------\u001b[0m",
            "\u001b[0;31mZeroDivisionError\u001b[0m                         Traceback (most recent call last)",
            "Cell \u001b[0;32mIn[41], line 1\u001b[0m\n\u001b[0;32m----> 1\u001b[0m \u001b[38;5;241;43m1\u001b[39;49m\u001b[43m \u001b[49m\u001b[38;5;241;43m/\u001b[39;49m\u001b[38;5;241;43m0\u001b[39;49m\n",
            "\u001b[0;31mZeroDivisionError\u001b[0m: division by zero"
          ]
        }
      ],
      "source": [
        "1 /0"
      ]
    },
    {
      "cell_type": "code",
      "execution_count": null,
      "id": "237cde5b-cc21-4f20-95f0-70684dbc6137",
      "metadata": {
        "id": "237cde5b-cc21-4f20-95f0-70684dbc6137"
      },
      "outputs": [],
      "source": [
        "sudh = 5 + 8j"
      ]
    },
    {
      "cell_type": "code",
      "execution_count": null,
      "id": "7fd576ce-a98d-4653-afee-ad7cf9912f30",
      "metadata": {
        "id": "7fd576ce-a98d-4653-afee-ad7cf9912f30",
        "outputId": "f49c88e7-e46c-4227-f646-89b1ebfa27b8"
      },
      "outputs": [
        {
          "data": {
            "text/plain": [
              "complex"
            ]
          },
          "execution_count": 52,
          "metadata": {},
          "output_type": "execute_result"
        }
      ],
      "source": [
        "type(v)"
      ]
    },
    {
      "cell_type": "code",
      "execution_count": null,
      "id": "fee76e3e-7d36-4f8c-bded-d7d941d2cfd4",
      "metadata": {
        "id": "fee76e3e-7d36-4f8c-bded-d7d941d2cfd4",
        "outputId": "9f5aff87-61bf-4f01-c98c-2aaa68ab1cab"
      },
      "outputs": [
        {
          "data": {
            "text/plain": [
              "5.0"
            ]
          },
          "execution_count": 54,
          "metadata": {},
          "output_type": "execute_result"
        }
      ],
      "source": [
        "sudh.real"
      ]
    },
    {
      "cell_type": "code",
      "execution_count": null,
      "id": "117c2b3f-0114-482b-9d5b-cfda32089672",
      "metadata": {
        "id": "117c2b3f-0114-482b-9d5b-cfda32089672",
        "outputId": "613ab57c-a7b4-4d80-804f-e33b5af24efb"
      },
      "outputs": [
        {
          "data": {
            "text/plain": [
              "8.0"
            ]
          },
          "execution_count": 55,
          "metadata": {},
          "output_type": "execute_result"
        }
      ],
      "source": [
        "sudh.imag"
      ]
    },
    {
      "cell_type": "code",
      "execution_count": null,
      "id": "172be6f1-51fc-4f7c-91b1-2e0c6046af35",
      "metadata": {
        "id": "172be6f1-51fc-4f7c-91b1-2e0c6046af35",
        "outputId": "cd203909-0d85-4c51-a3ce-be15f4f88dc0"
      },
      "outputs": [
        {
          "data": {
            "text/plain": [
              "(5+8j)"
            ]
          },
          "execution_count": 56,
          "metadata": {},
          "output_type": "execute_result"
        }
      ],
      "source": [
        "sudh"
      ]
    },
    {
      "cell_type": "code",
      "execution_count": null,
      "id": "21de426d-f6fa-44bf-b292-7ed62b6dcda7",
      "metadata": {
        "id": "21de426d-f6fa-44bf-b292-7ed62b6dcda7",
        "outputId": "7ec05a92-c712-44dc-a070-ce0586e4e97f"
      },
      "outputs": [
        {
          "name": "stdout",
          "output_type": "stream",
          "text": [
            "my name is sudhanshu\n"
          ]
        }
      ],
      "source": [
        "print(\"my name is sudhanshu\")"
      ]
    },
    {
      "cell_type": "code",
      "execution_count": null,
      "id": "b82caaeb-f0d7-48f3-9782-d3e8b583df04",
      "metadata": {
        "id": "b82caaeb-f0d7-48f3-9782-d3e8b583df04",
        "outputId": "fb0c29a3-451a-4be9-da30-15411ef109f4"
      },
      "outputs": [
        {
          "name": "stdout",
          "output_type": "stream",
          "text": [
            "10\n"
          ]
        }
      ],
      "source": [
        "print(a)"
      ]
    },
    {
      "cell_type": "code",
      "execution_count": null,
      "id": "bb779fb6-a661-44b7-9e0d-7796f273eebd",
      "metadata": {
        "id": "bb779fb6-a661-44b7-9e0d-7796f273eebd",
        "outputId": "2afa9441-a014-4350-fc35-05556b722b89"
      },
      "outputs": [
        {
          "name": "stdout",
          "output_type": "stream",
          "text": [
            "(5+8j)\n"
          ]
        }
      ],
      "source": [
        "print(sudh)"
      ]
    },
    {
      "cell_type": "code",
      "execution_count": null,
      "id": "f3465387-b4f1-44d1-a17b-19788bd36482",
      "metadata": {
        "id": "f3465387-b4f1-44d1-a17b-19788bd36482"
      },
      "outputs": [],
      "source": [
        "s = \"pwskills\""
      ]
    },
    {
      "cell_type": "code",
      "execution_count": null,
      "id": "7896a834-d38f-44bb-8352-8bdb7c28458b",
      "metadata": {
        "id": "7896a834-d38f-44bb-8352-8bdb7c28458b",
        "outputId": "2b1ab7a1-b025-4069-e18a-8580cd29c0dc"
      },
      "outputs": [
        {
          "data": {
            "text/plain": [
              "str"
            ]
          },
          "execution_count": 63,
          "metadata": {},
          "output_type": "execute_result"
        }
      ],
      "source": [
        "type(s)"
      ]
    },
    {
      "cell_type": "code",
      "execution_count": null,
      "id": "bffb0dcd-db77-42c6-afc5-12381457aade",
      "metadata": {
        "id": "bffb0dcd-db77-42c6-afc5-12381457aade",
        "outputId": "5ff7348b-5d35-4956-ec14-736e65c540bd"
      },
      "outputs": [
        {
          "data": {
            "text/plain": [
              "'p'"
            ]
          },
          "execution_count": 64,
          "metadata": {},
          "output_type": "execute_result"
        }
      ],
      "source": [
        "s[0]"
      ]
    },
    {
      "cell_type": "code",
      "execution_count": null,
      "id": "9ebf78f3-8b05-47e7-b5c7-e2a5ec5c796c",
      "metadata": {
        "id": "9ebf78f3-8b05-47e7-b5c7-e2a5ec5c796c",
        "outputId": "164ff928-fcba-4833-95ba-5057cd309f4d"
      },
      "outputs": [
        {
          "data": {
            "text/plain": [
              "'s'"
            ]
          },
          "execution_count": 65,
          "metadata": {},
          "output_type": "execute_result"
        }
      ],
      "source": [
        "s[2]"
      ]
    },
    {
      "cell_type": "code",
      "execution_count": null,
      "id": "b6d9d76f-bfd6-4339-9553-63f8b488289c",
      "metadata": {
        "id": "b6d9d76f-bfd6-4339-9553-63f8b488289c",
        "outputId": "90bb75d7-2363-4cae-fba7-8752a54761e1"
      },
      "outputs": [
        {
          "data": {
            "text/plain": [
              "'k'"
            ]
          },
          "execution_count": 66,
          "metadata": {},
          "output_type": "execute_result"
        }
      ],
      "source": [
        "s[3]"
      ]
    },
    {
      "cell_type": "code",
      "execution_count": null,
      "id": "16782a4b-94bd-41aa-b4c8-99a8ab88ac06",
      "metadata": {
        "id": "16782a4b-94bd-41aa-b4c8-99a8ab88ac06",
        "outputId": "9721acdf-1ee8-4e15-854b-21ac943a8762"
      },
      "outputs": [
        {
          "data": {
            "text/plain": [
              "'s'"
            ]
          },
          "execution_count": 67,
          "metadata": {},
          "output_type": "execute_result"
        }
      ],
      "source": [
        "s[-1]"
      ]
    },
    {
      "cell_type": "code",
      "execution_count": null,
      "id": "86b4609a-6701-4542-8740-5d0c9045697b",
      "metadata": {
        "id": "86b4609a-6701-4542-8740-5d0c9045697b",
        "outputId": "03e2ab5e-cda2-4671-978c-7e1584febc68"
      },
      "outputs": [
        {
          "data": {
            "text/plain": [
              "'p'"
            ]
          },
          "execution_count": 68,
          "metadata": {},
          "output_type": "execute_result"
        }
      ],
      "source": [
        "s[-8]"
      ]
    },
    {
      "cell_type": "code",
      "execution_count": null,
      "id": "1cf0e36d-28a2-4c8d-aa8b-fb3e8d9c965e",
      "metadata": {
        "id": "1cf0e36d-28a2-4c8d-aa8b-fb3e8d9c965e",
        "outputId": "a630560e-7106-4233-a8d9-92b8fca9a130"
      },
      "outputs": [
        {
          "data": {
            "text/plain": [
              "'pws'"
            ]
          },
          "execution_count": 69,
          "metadata": {},
          "output_type": "execute_result"
        }
      ],
      "source": [
        "s[0:3]"
      ]
    },
    {
      "cell_type": "code",
      "execution_count": null,
      "id": "685a4cb1-9ded-4390-b8bc-4f85da718d06",
      "metadata": {
        "id": "685a4cb1-9ded-4390-b8bc-4f85da718d06",
        "outputId": "42fef4f5-db24-4b54-a61f-3b47e8409d7c"
      },
      "outputs": [
        {
          "data": {
            "text/plain": [
              "'pw'"
            ]
          },
          "execution_count": 70,
          "metadata": {},
          "output_type": "execute_result"
        }
      ],
      "source": [
        "s[0:2]"
      ]
    },
    {
      "cell_type": "code",
      "execution_count": null,
      "id": "c5617e15-46ca-490c-9c06-3e02dc38549d",
      "metadata": {
        "id": "c5617e15-46ca-490c-9c06-3e02dc38549d",
        "outputId": "cdcdcc7a-7d2e-46e0-f66c-fc0609589af6"
      },
      "outputs": [
        {
          "data": {
            "text/plain": [
              "'pwsk'"
            ]
          },
          "execution_count": 71,
          "metadata": {},
          "output_type": "execute_result"
        }
      ],
      "source": [
        "s[0:4]"
      ]
    },
    {
      "cell_type": "code",
      "execution_count": null,
      "id": "1603163c-9962-4c03-be2b-8e7e4ed32d93",
      "metadata": {
        "id": "1603163c-9962-4c03-be2b-8e7e4ed32d93",
        "outputId": "5ea6c40b-7ad3-4984-88b5-f803b7a6ff18"
      },
      "outputs": [
        {
          "data": {
            "text/plain": [
              "'psil'"
            ]
          },
          "execution_count": 72,
          "metadata": {},
          "output_type": "execute_result"
        }
      ],
      "source": [
        "s[0:8:2]"
      ]
    },
    {
      "cell_type": "code",
      "execution_count": null,
      "id": "bc03eca4-472e-4acf-b816-0644675d3f0f",
      "metadata": {
        "id": "bc03eca4-472e-4acf-b816-0644675d3f0f",
        "outputId": "d925e7b6-9964-4a81-b88f-2fb4917bae9c"
      },
      "outputs": [
        {
          "data": {
            "text/plain": [
              "'pwsk'"
            ]
          },
          "execution_count": 73,
          "metadata": {},
          "output_type": "execute_result"
        }
      ],
      "source": [
        "s[0:4:1]"
      ]
    },
    {
      "cell_type": "code",
      "execution_count": null,
      "id": "809e9dd4-557d-46a2-8787-9220c2e248d8",
      "metadata": {
        "id": "809e9dd4-557d-46a2-8787-9220c2e248d8",
        "outputId": "989f138e-260f-4fff-9c02-fde976097acf"
      },
      "outputs": [
        {
          "data": {
            "text/plain": [
              "'psil'"
            ]
          },
          "execution_count": 74,
          "metadata": {},
          "output_type": "execute_result"
        }
      ],
      "source": [
        "s[::2]"
      ]
    },
    {
      "cell_type": "code",
      "execution_count": null,
      "id": "1cdfbf87-5fed-42e1-87aa-5c861c6aa9c4",
      "metadata": {
        "id": "1cdfbf87-5fed-42e1-87aa-5c861c6aa9c4",
        "outputId": "757076e9-6fed-4586-87d9-1ae3714734e7"
      },
      "outputs": [
        {
          "data": {
            "text/plain": [
              "'psil'"
            ]
          },
          "execution_count": 75,
          "metadata": {},
          "output_type": "execute_result"
        }
      ],
      "source": [
        "s[0::2]"
      ]
    },
    {
      "cell_type": "code",
      "execution_count": null,
      "id": "43133a45-02d8-4511-b2f9-2770e4d3637d",
      "metadata": {
        "id": "43133a45-02d8-4511-b2f9-2770e4d3637d",
        "outputId": "61e2b233-7608-4617-da27-3934de8d40c6"
      },
      "outputs": [
        {
          "data": {
            "text/plain": [
              "'sil'"
            ]
          },
          "execution_count": 76,
          "metadata": {},
          "output_type": "execute_result"
        }
      ],
      "source": [
        "s[2::2]"
      ]
    },
    {
      "cell_type": "code",
      "execution_count": null,
      "id": "f3fce780-e143-41fe-a957-4c16bdaef16c",
      "metadata": {
        "id": "f3fce780-e143-41fe-a957-4c16bdaef16c",
        "outputId": "3f41b486-3504-45a8-b403-543229682ff2"
      },
      "outputs": [
        {
          "data": {
            "text/plain": [
              "'skills'"
            ]
          },
          "execution_count": 78,
          "metadata": {},
          "output_type": "execute_result"
        }
      ],
      "source": [
        "s[2::1]"
      ]
    },
    {
      "cell_type": "code",
      "execution_count": null,
      "id": "38a6700c-ecd6-4072-bcca-9205744ca184",
      "metadata": {
        "id": "38a6700c-ecd6-4072-bcca-9205744ca184",
        "outputId": "12703342-3215-452e-88b5-ad8644e272d5"
      },
      "outputs": [
        {
          "data": {
            "text/plain": [
              "'sllikswp'"
            ]
          },
          "execution_count": 79,
          "metadata": {},
          "output_type": "execute_result"
        }
      ],
      "source": [
        "s[::-1]"
      ]
    },
    {
      "cell_type": "code",
      "execution_count": null,
      "id": "ddc0a420-7178-4542-8be3-2a881b352cbf",
      "metadata": {
        "id": "ddc0a420-7178-4542-8be3-2a881b352cbf"
      },
      "outputs": [],
      "source": []
    },
    {
      "cell_type": "code",
      "execution_count": null,
      "id": "97bb85d2-e66b-4b03-a060-34a339c15b0f",
      "metadata": {
        "id": "97bb85d2-e66b-4b03-a060-34a339c15b0f",
        "outputId": "bdaf1a2c-55f3-4493-991c-65d7b2d4b03e"
      },
      "outputs": [
        {
          "data": {
            "text/plain": [
              "'pwskills'"
            ]
          },
          "execution_count": 141,
          "metadata": {},
          "output_type": "execute_result"
        }
      ],
      "source": [
        "s"
      ]
    },
    {
      "cell_type": "code",
      "execution_count": null,
      "id": "405efddc-f443-463f-a730-5dcf214eb054",
      "metadata": {
        "id": "405efddc-f443-463f-a730-5dcf214eb054",
        "outputId": "66c5c706-49fb-47a7-b7f8-7f4f06ae49be"
      },
      "outputs": [
        {
          "data": {
            "text/plain": [
              "''"
            ]
          },
          "execution_count": 80,
          "metadata": {},
          "output_type": "execute_result"
        }
      ],
      "source": [
        "s[2:7:-1]"
      ]
    },
    {
      "cell_type": "code",
      "execution_count": null,
      "id": "78f3e702-b5b9-4d41-ab90-94f1cac41c47",
      "metadata": {
        "id": "78f3e702-b5b9-4d41-ab90-94f1cac41c47",
        "outputId": "19c16cd6-a970-422e-f735-3b209310d424"
      },
      "outputs": [
        {
          "data": {
            "text/plain": [
              "''"
            ]
          },
          "execution_count": 81,
          "metadata": {},
          "output_type": "execute_result"
        }
      ],
      "source": [
        "s[8:0]"
      ]
    },
    {
      "cell_type": "code",
      "execution_count": null,
      "id": "2012e3c3-246f-49ed-ad41-7341156a4b67",
      "metadata": {
        "id": "2012e3c3-246f-49ed-ad41-7341156a4b67",
        "outputId": "8f550114-54b8-49d9-e600-396368703dff"
      },
      "outputs": [
        {
          "data": {
            "text/plain": [
              "'sllikswp'"
            ]
          },
          "execution_count": 86,
          "metadata": {},
          "output_type": "execute_result"
        }
      ],
      "source": [
        "s[8::-1]"
      ]
    },
    {
      "cell_type": "code",
      "execution_count": null,
      "id": "278af980-b48c-4750-9f18-91bac590fed6",
      "metadata": {
        "id": "278af980-b48c-4750-9f18-91bac590fed6",
        "outputId": "2f89e8d3-0065-42f9-9d5c-ba89d5a23775"
      },
      "outputs": [
        {
          "data": {
            "text/plain": [
              "'lliksw'"
            ]
          },
          "execution_count": 84,
          "metadata": {},
          "output_type": "execute_result"
        }
      ],
      "source": [
        "s[-2 : -8 : -1]"
      ]
    },
    {
      "cell_type": "code",
      "execution_count": null,
      "id": "af275dde-7925-4b0b-ae23-cf8aba205adb",
      "metadata": {
        "id": "af275dde-7925-4b0b-ae23-cf8aba205adb",
        "outputId": "c87096fa-bc81-45cd-f275-fe6e1ddd5e73"
      },
      "outputs": [
        {
          "data": {
            "text/plain": [
              "'llikswp'"
            ]
          },
          "execution_count": 85,
          "metadata": {},
          "output_type": "execute_result"
        }
      ],
      "source": [
        "s[-2 : : -1]"
      ]
    },
    {
      "cell_type": "code",
      "execution_count": null,
      "id": "a8f29017-08ec-4d20-8c2d-a6d7999d7227",
      "metadata": {
        "id": "a8f29017-08ec-4d20-8c2d-a6d7999d7227",
        "outputId": "860d00a6-b6cd-44b6-fa1b-40652a607693"
      },
      "outputs": [
        {
          "data": {
            "text/plain": [
              "'sllikswp'"
            ]
          },
          "execution_count": 89,
          "metadata": {},
          "output_type": "execute_result"
        }
      ],
      "source": [
        "s[::-1]"
      ]
    },
    {
      "cell_type": "code",
      "execution_count": null,
      "id": "3c30e5b0-9ffe-4027-b1a8-cc42dc8f84cc",
      "metadata": {
        "id": "3c30e5b0-9ffe-4027-b1a8-cc42dc8f84cc",
        "outputId": "fd595504-e6e1-47aa-eec0-abf7ec2ea080"
      },
      "outputs": [
        {
          "data": {
            "text/plain": [
              "'pwskills'"
            ]
          },
          "execution_count": 91,
          "metadata": {},
          "output_type": "execute_result"
        }
      ],
      "source": [
        "s[::]"
      ]
    },
    {
      "cell_type": "code",
      "execution_count": null,
      "id": "a68f3cc9-c764-4a78-9feb-209648662685",
      "metadata": {
        "id": "a68f3cc9-c764-4a78-9feb-209648662685",
        "outputId": "54ebac3b-bc6f-4395-dced-cfe10d0b3da8"
      },
      "outputs": [
        {
          "data": {
            "text/plain": [
              "''"
            ]
          },
          "execution_count": 93,
          "metadata": {},
          "output_type": "execute_result"
        }
      ],
      "source": [
        "s[:-90:]"
      ]
    },
    {
      "cell_type": "code",
      "execution_count": null,
      "id": "99fb168e-6372-4268-acc2-5a445c0dbe5d",
      "metadata": {
        "id": "99fb168e-6372-4268-acc2-5a445c0dbe5d",
        "outputId": "b48eaa12-cd3c-4235-f1c6-07978e9d32bf"
      },
      "outputs": [
        {
          "ename": "IndexError",
          "evalue": "string index out of range",
          "output_type": "error",
          "traceback": [
            "\u001b[0;31m---------------------------------------------------------------------------\u001b[0m",
            "\u001b[0;31mIndexError\u001b[0m                                Traceback (most recent call last)",
            "Cell \u001b[0;32mIn[92], line 1\u001b[0m\n\u001b[0;32m----> 1\u001b[0m \u001b[43ms\u001b[49m\u001b[43m[\u001b[49m\u001b[38;5;241;43m90\u001b[39;49m\u001b[43m]\u001b[49m\n",
            "\u001b[0;31mIndexError\u001b[0m: string index out of range"
          ]
        }
      ],
      "source": [
        "s[90]"
      ]
    },
    {
      "cell_type": "code",
      "execution_count": null,
      "id": "67695afd-28a9-464b-af5e-d675a8504b88",
      "metadata": {
        "id": "67695afd-28a9-464b-af5e-d675a8504b88",
        "outputId": "8fcd244f-b01d-49ac-844a-01b47978f9af"
      },
      "outputs": [
        {
          "data": {
            "text/plain": [
              "'sllikswp'"
            ]
          },
          "execution_count": 95,
          "metadata": {},
          "output_type": "execute_result"
        }
      ],
      "source": [
        "s[:-90000:-1]"
      ]
    },
    {
      "cell_type": "code",
      "execution_count": null,
      "id": "57379ec1-c81c-472e-a106-150e7bb97eb2",
      "metadata": {
        "id": "57379ec1-c81c-472e-a106-150e7bb97eb2"
      },
      "outputs": [],
      "source": [
        "c = 200"
      ]
    },
    {
      "cell_type": "code",
      "execution_count": null,
      "id": "20895ab2-dee5-4849-a317-3f9172310365",
      "metadata": {
        "id": "20895ab2-dee5-4849-a317-3f9172310365"
      },
      "outputs": [],
      "source": [
        "s1 = \"this is my string class\""
      ]
    },
    {
      "cell_type": "code",
      "execution_count": null,
      "id": "cecca0bc-88d6-4e28-a00e-c32c2c55c7a1",
      "metadata": {
        "id": "cecca0bc-88d6-4e28-a00e-c32c2c55c7a1",
        "outputId": "48e8f5ab-b532-419b-8990-e1a398681316"
      },
      "outputs": [
        {
          "data": {
            "text/plain": [
              "23"
            ]
          },
          "execution_count": 99,
          "metadata": {},
          "output_type": "execute_result"
        }
      ],
      "source": [
        "len(s1)"
      ]
    },
    {
      "cell_type": "code",
      "execution_count": null,
      "id": "74bba9d6-ac28-45d7-a814-408a116feecd",
      "metadata": {
        "id": "74bba9d6-ac28-45d7-a814-408a116feecd",
        "outputId": "e23f4fee-e0cb-4640-9598-144e68872878"
      },
      "outputs": [
        {
          "data": {
            "text/plain": [
              "3"
            ]
          },
          "execution_count": 100,
          "metadata": {},
          "output_type": "execute_result"
        }
      ],
      "source": [
        "s1.find('s')"
      ]
    },
    {
      "cell_type": "code",
      "execution_count": null,
      "id": "799c78af-43d5-4db8-a50f-08e3e19ae869",
      "metadata": {
        "id": "799c78af-43d5-4db8-a50f-08e3e19ae869",
        "outputId": "a1377400-b051-4914-f960-7ea66ef65486"
      },
      "outputs": [
        {
          "data": {
            "text/plain": [
              "2"
            ]
          },
          "execution_count": 101,
          "metadata": {},
          "output_type": "execute_result"
        }
      ],
      "source": [
        "s1.find('i')"
      ]
    },
    {
      "cell_type": "code",
      "execution_count": null,
      "id": "edb86932-ee9b-4836-ae44-96268d03c794",
      "metadata": {
        "id": "edb86932-ee9b-4836-ae44-96268d03c794",
        "outputId": "ef4d19dd-789a-4886-a5ca-a498d0d06f66"
      },
      "outputs": [
        {
          "data": {
            "text/plain": [
              "2"
            ]
          },
          "execution_count": 102,
          "metadata": {},
          "output_type": "execute_result"
        }
      ],
      "source": [
        "s1.find(\"is\")"
      ]
    },
    {
      "cell_type": "code",
      "execution_count": null,
      "id": "4bd1bbb6-64b5-430c-9b9d-93cfc16434e6",
      "metadata": {
        "id": "4bd1bbb6-64b5-430c-9b9d-93cfc16434e6",
        "outputId": "7173c7e6-9fbb-4132-8fdb-6c37cb2efafd"
      },
      "outputs": [
        {
          "data": {
            "text/plain": [
              "-1"
            ]
          },
          "execution_count": 134,
          "metadata": {},
          "output_type": "execute_result"
        }
      ],
      "source": [
        "#this is a code to find a charecterd of sub string in string\n",
        "s1.find(\"iS\")"
      ]
    },
    {
      "cell_type": "code",
      "execution_count": null,
      "id": "54b4a244-61a9-40ad-8b7e-ec8a701e16cc",
      "metadata": {
        "id": "54b4a244-61a9-40ad-8b7e-ec8a701e16cc",
        "outputId": "ac7974c0-6ecd-4adc-fac6-fa65282ac6de"
      },
      "outputs": [
        {
          "data": {
            "text/plain": [
              "5"
            ]
          },
          "execution_count": 104,
          "metadata": {},
          "output_type": "execute_result"
        }
      ],
      "source": [
        "s1.count('s')"
      ]
    },
    {
      "cell_type": "code",
      "execution_count": null,
      "id": "9bd9757a-c4a2-46dd-919f-435a7c6d4561",
      "metadata": {
        "id": "9bd9757a-c4a2-46dd-919f-435a7c6d4561",
        "outputId": "73dd25db-fd3e-4776-cd05-d5253ac15fb8"
      },
      "outputs": [
        {
          "data": {
            "text/plain": [
              "'this is my string class'"
            ]
          },
          "execution_count": 105,
          "metadata": {},
          "output_type": "execute_result"
        }
      ],
      "source": [
        "s1"
      ]
    },
    {
      "cell_type": "code",
      "execution_count": null,
      "id": "84cdf888-5d18-48f1-abb7-5dfacf488716",
      "metadata": {
        "id": "84cdf888-5d18-48f1-abb7-5dfacf488716",
        "outputId": "e9e78df3-f773-46e4-f22c-31042615a0d7"
      },
      "outputs": [
        {
          "data": {
            "text/plain": [
              "1"
            ]
          },
          "execution_count": 106,
          "metadata": {},
          "output_type": "execute_result"
        }
      ],
      "source": [
        "s1.count(\"st\")"
      ]
    },
    {
      "cell_type": "code",
      "execution_count": null,
      "id": "bd654c46-a03e-420d-8b72-5ab4595da8e7",
      "metadata": {
        "id": "bd654c46-a03e-420d-8b72-5ab4595da8e7",
        "outputId": "b99b9135-0b53-4d98-80ec-06c24a328373"
      },
      "outputs": [
        {
          "data": {
            "text/plain": [
              "0"
            ]
          },
          "execution_count": 107,
          "metadata": {},
          "output_type": "execute_result"
        }
      ],
      "source": [
        "s1.count('z')"
      ]
    },
    {
      "cell_type": "code",
      "execution_count": null,
      "id": "8e7f6eed-0f58-4f04-afea-9d12c8ff03c0",
      "metadata": {
        "id": "8e7f6eed-0f58-4f04-afea-9d12c8ff03c0",
        "outputId": "2c73f64b-ccbd-4fba-a725-a210b7083711"
      },
      "outputs": [
        {
          "data": {
            "text/plain": [
              "'this is my string class'"
            ]
          },
          "execution_count": 108,
          "metadata": {},
          "output_type": "execute_result"
        }
      ],
      "source": [
        "s1"
      ]
    },
    {
      "cell_type": "code",
      "execution_count": null,
      "id": "700c6fda-eb0f-4d2d-9e32-f6037a666e48",
      "metadata": {
        "id": "700c6fda-eb0f-4d2d-9e32-f6037a666e48",
        "outputId": "9ad15d03-ee62-4efa-b27c-492f54def2b0"
      },
      "outputs": [
        {
          "data": {
            "text/plain": [
              "'THIS IS MY STRING CLASS'"
            ]
          },
          "execution_count": 109,
          "metadata": {},
          "output_type": "execute_result"
        }
      ],
      "source": [
        "s1.upper()"
      ]
    },
    {
      "cell_type": "code",
      "execution_count": null,
      "id": "19d4b1c4-2a8d-4028-a75b-b5baa96398ee",
      "metadata": {
        "id": "19d4b1c4-2a8d-4028-a75b-b5baa96398ee"
      },
      "outputs": [],
      "source": [
        "s2 = 'THIS IS MY STRING CLASS'"
      ]
    },
    {
      "cell_type": "code",
      "execution_count": null,
      "id": "378742c9-25e4-43c4-b6be-a61214f4124c",
      "metadata": {
        "id": "378742c9-25e4-43c4-b6be-a61214f4124c",
        "outputId": "5abae9c7-c7ee-448c-b922-14e4b40dab19"
      },
      "outputs": [
        {
          "data": {
            "text/plain": [
              "'THIS IS MY STRING CLASS'"
            ]
          },
          "execution_count": 111,
          "metadata": {},
          "output_type": "execute_result"
        }
      ],
      "source": [
        "s2"
      ]
    },
    {
      "cell_type": "code",
      "execution_count": null,
      "id": "0681412e-b278-43d8-9141-7a4427e275b8",
      "metadata": {
        "id": "0681412e-b278-43d8-9141-7a4427e275b8",
        "outputId": "ac306106-84e4-41ed-8be6-114aaa88aa32"
      },
      "outputs": [
        {
          "data": {
            "text/plain": [
              "'this is my string class'"
            ]
          },
          "execution_count": 112,
          "metadata": {},
          "output_type": "execute_result"
        }
      ],
      "source": [
        "s2.lower()"
      ]
    },
    {
      "cell_type": "code",
      "execution_count": null,
      "id": "b11139ef-ee48-48e5-b8ba-d1f8aa6908f2",
      "metadata": {
        "id": "b11139ef-ee48-48e5-b8ba-d1f8aa6908f2",
        "outputId": "4d99eb2a-160a-4417-d3b8-dfe6ef9c95f8"
      },
      "outputs": [
        {
          "data": {
            "text/plain": [
              "'this is my string class'"
            ]
          },
          "execution_count": 113,
          "metadata": {},
          "output_type": "execute_result"
        }
      ],
      "source": [
        "s1"
      ]
    },
    {
      "cell_type": "code",
      "execution_count": null,
      "id": "da15bb5d-72b3-4854-a818-19b1e96a1fdd",
      "metadata": {
        "id": "da15bb5d-72b3-4854-a818-19b1e96a1fdd",
        "outputId": "3385e061-7f82-4cf4-af81-c430973762db"
      },
      "outputs": [
        {
          "data": {
            "text/plain": [
              "'This Is My String Class'"
            ]
          },
          "execution_count": 114,
          "metadata": {},
          "output_type": "execute_result"
        }
      ],
      "source": [
        "s1.title()"
      ]
    },
    {
      "cell_type": "code",
      "execution_count": null,
      "id": "f3bcd4f0-7ac5-45c3-99f3-204f9f4f79d1",
      "metadata": {
        "id": "f3bcd4f0-7ac5-45c3-99f3-204f9f4f79d1",
        "outputId": "1f2957c7-ab65-4cd2-c0eb-8ef8de062c16"
      },
      "outputs": [
        {
          "data": {
            "text/plain": [
              "'This is my string class'"
            ]
          },
          "execution_count": 115,
          "metadata": {},
          "output_type": "execute_result"
        }
      ],
      "source": [
        "s1.capitalize()"
      ]
    },
    {
      "cell_type": "code",
      "execution_count": null,
      "id": "2b51f51a-691a-40b3-80db-00bb7e1a2f56",
      "metadata": {
        "id": "2b51f51a-691a-40b3-80db-00bb7e1a2f56",
        "outputId": "78984931-c56d-4a26-e1fe-51e73db46082"
      },
      "outputs": [
        {
          "data": {
            "text/plain": [
              "'pwskills'"
            ]
          },
          "execution_count": 116,
          "metadata": {},
          "output_type": "execute_result"
        }
      ],
      "source": [
        "s"
      ]
    },
    {
      "cell_type": "code",
      "execution_count": null,
      "id": "7d771270-fd9e-417b-8057-1ce704c52c6d",
      "metadata": {
        "id": "7d771270-fd9e-417b-8057-1ce704c52c6d",
        "outputId": "b4369ed7-3599-4be2-8593-e19ffbfc7f5e"
      },
      "outputs": [
        {
          "ename": "TypeError",
          "evalue": "can only concatenate str (not \"int\") to str",
          "output_type": "error",
          "traceback": [
            "\u001b[0;31m---------------------------------------------------------------------------\u001b[0m",
            "\u001b[0;31mTypeError\u001b[0m                                 Traceback (most recent call last)",
            "Cell \u001b[0;32mIn[117], line 1\u001b[0m\n\u001b[0;32m----> 1\u001b[0m \u001b[43ms\u001b[49m\u001b[43m \u001b[49m\u001b[38;5;241;43m+\u001b[39;49m\u001b[43m \u001b[49m\u001b[38;5;241;43m1\u001b[39;49m\n",
            "\u001b[0;31mTypeError\u001b[0m: can only concatenate str (not \"int\") to str"
          ]
        }
      ],
      "source": [
        "s + 1"
      ]
    },
    {
      "cell_type": "code",
      "execution_count": null,
      "id": "e33d03a4-2a41-4bf3-811b-2a5f6b760f4e",
      "metadata": {
        "id": "e33d03a4-2a41-4bf3-811b-2a5f6b760f4e",
        "outputId": "58814df3-7cc6-417b-bb1b-9cc3bd662ad6"
      },
      "outputs": [
        {
          "data": {
            "text/plain": [
              "'pwskills sudh'"
            ]
          },
          "execution_count": 120,
          "metadata": {},
          "output_type": "execute_result"
        }
      ],
      "source": [
        "s + \" sudh\""
      ]
    },
    {
      "cell_type": "code",
      "execution_count": null,
      "id": "0a71bfe0-f50b-4341-9016-95d9efe3ac5e",
      "metadata": {
        "id": "0a71bfe0-f50b-4341-9016-95d9efe3ac5e",
        "outputId": "420f4580-27db-4e3c-a4dc-84841b307176"
      },
      "outputs": [
        {
          "data": {
            "text/plain": [
              "'pwskills1'"
            ]
          },
          "execution_count": 121,
          "metadata": {},
          "output_type": "execute_result"
        }
      ],
      "source": [
        "s + '1'"
      ]
    },
    {
      "cell_type": "code",
      "execution_count": null,
      "id": "ccff93e3-5f2f-4400-b9e6-4c5df7d861f3",
      "metadata": {
        "id": "ccff93e3-5f2f-4400-b9e6-4c5df7d861f3",
        "outputId": "09a8cde2-abbf-4934-9a8d-21cd798af037"
      },
      "outputs": [
        {
          "data": {
            "text/plain": [
              "'pwskills1'"
            ]
          },
          "execution_count": 122,
          "metadata": {},
          "output_type": "execute_result"
        }
      ],
      "source": [
        "s+ str(1)"
      ]
    },
    {
      "cell_type": "code",
      "execution_count": null,
      "id": "6139b5d5-4f5a-4762-9ff1-b471a5e5b0f1",
      "metadata": {
        "id": "6139b5d5-4f5a-4762-9ff1-b471a5e5b0f1",
        "outputId": "e5d58f4e-5848-4599-c37b-a01f1168adab"
      },
      "outputs": [
        {
          "data": {
            "text/plain": [
              "'pwskillspwskillspwskills'"
            ]
          },
          "execution_count": 123,
          "metadata": {},
          "output_type": "execute_result"
        }
      ],
      "source": [
        "s * 3"
      ]
    },
    {
      "cell_type": "code",
      "execution_count": null,
      "id": "7c0ebf56-d6e2-4b76-a8ec-a56a017509d2",
      "metadata": {
        "id": "7c0ebf56-d6e2-4b76-a8ec-a56a017509d2",
        "outputId": "4c802f1c-5bd1-40dc-ec12-8a1d050b2ca5"
      },
      "outputs": [
        {
          "data": {
            "text/plain": [
              "'sudhsudhsudhsudh'"
            ]
          },
          "execution_count": 124,
          "metadata": {},
          "output_type": "execute_result"
        }
      ],
      "source": [
        "'sudh' *4"
      ]
    },
    {
      "cell_type": "code",
      "execution_count": null,
      "id": "4848a53b-c42c-49c8-af4a-9f271d2ec420",
      "metadata": {
        "id": "4848a53b-c42c-49c8-af4a-9f271d2ec420",
        "outputId": "9becd39b-d713-43e3-c5ac-f81d0bfceed9"
      },
      "outputs": [
        {
          "ename": "TypeError",
          "evalue": "unsupported operand type(s) for /: 'str' and 'int'",
          "output_type": "error",
          "traceback": [
            "\u001b[0;31m---------------------------------------------------------------------------\u001b[0m",
            "\u001b[0;31mTypeError\u001b[0m                                 Traceback (most recent call last)",
            "Cell \u001b[0;32mIn[125], line 1\u001b[0m\n\u001b[0;32m----> 1\u001b[0m \u001b[38;5;124;43m\"\u001b[39;49m\u001b[38;5;124;43msudh\u001b[39;49m\u001b[38;5;124;43m\"\u001b[39;49m\u001b[43m \u001b[49m\u001b[38;5;241;43m/\u001b[39;49m\u001b[43m \u001b[49m\u001b[38;5;241;43m4\u001b[39;49m\n",
            "\u001b[0;31mTypeError\u001b[0m: unsupported operand type(s) for /: 'str' and 'int'"
          ]
        }
      ],
      "source": [
        "\"sudh\" / 4"
      ]
    },
    {
      "cell_type": "code",
      "execution_count": null,
      "id": "b1b63319-404b-4059-8770-4d3cf5446922",
      "metadata": {
        "id": "b1b63319-404b-4059-8770-4d3cf5446922",
        "outputId": "071e1bc9-7169-4d11-e501-48dfab1b776b"
      },
      "outputs": [
        {
          "data": {
            "text/plain": [
              "\"don't do copy and paste in my class\""
            ]
          },
          "execution_count": 127,
          "metadata": {},
          "output_type": "execute_result"
        }
      ],
      "source": [
        "\"don't do copy and paste in my class\""
      ]
    },
    {
      "cell_type": "code",
      "execution_count": null,
      "id": "5713cafe-63fd-4503-b437-9b8a2dfdb99a",
      "metadata": {
        "id": "5713cafe-63fd-4503-b437-9b8a2dfdb99a",
        "outputId": "fdbb7693-f0a8-4e1f-c976-ff45c58720a5"
      },
      "outputs": [
        {
          "data": {
            "text/plain": [
              "'don\"t do copy and paste in my class'"
            ]
          },
          "execution_count": 129,
          "metadata": {},
          "output_type": "execute_result"
        }
      ],
      "source": [
        "'don\"t do copy and paste in my class'"
      ]
    },
    {
      "cell_type": "code",
      "execution_count": null,
      "id": "2ec0c8c9-a3bf-4643-b108-c4e1af3dfc0f",
      "metadata": {
        "id": "2ec0c8c9-a3bf-4643-b108-c4e1af3dfc0f"
      },
      "outputs": [],
      "source": [
        "s3 = \"\"\"This is my first class for programming\n",
        "i have leant variable declaration , data type , string , int , boolean , complex number\n",
        "i have seen some example of string slicing and indexing\n",
        "i have gone though some of the string inbuilt function\n",
        "apart from that i am trying to practice in my system\n",
        "but some of us in our calss are not executing code and still they are answering which is bad \"\"\""
      ]
    },
    {
      "cell_type": "code",
      "execution_count": null,
      "id": "87ca83d6-809b-4140-87ff-f6ac1058f9c1",
      "metadata": {
        "id": "87ca83d6-809b-4140-87ff-f6ac1058f9c1",
        "outputId": "d5ec8c02-0244-4000-95ca-52f6ae9b13f4"
      },
      "outputs": [
        {
          "data": {
            "text/plain": [
              "'This is my first class for programming\\ni have leant variable declaration , data type , string , int , boolean , complex number \\ni have seen some example of string slicing and indexing \\ni have gone though some of the string inbuilt function \\napart from that i am trying to practice in my system \\nbut some of us in our calss are not executing code and still they are answering which is bad '"
            ]
          },
          "execution_count": 140,
          "metadata": {},
          "output_type": "execute_result"
        }
      ],
      "source": [
        "s3"
      ]
    },
    {
      "cell_type": "code",
      "execution_count": null,
      "id": "2acdd76e-53d8-439e-8368-575db820fb68",
      "metadata": {
        "id": "2acdd76e-53d8-439e-8368-575db820fb68",
        "outputId": "dc448b04-3bd9-4a87-b3ab-85698a106ce6"
      },
      "outputs": [
        {
          "data": {
            "text/plain": [
              "'pwskills'"
            ]
          },
          "execution_count": 142,
          "metadata": {},
          "output_type": "execute_result"
        }
      ],
      "source": [
        "s"
      ]
    },
    {
      "cell_type": "code",
      "execution_count": null,
      "id": "5cc0c634-1580-4d21-9f18-899deff3dfb9",
      "metadata": {
        "id": "5cc0c634-1580-4d21-9f18-899deff3dfb9",
        "outputId": "f11a49f3-986f-4582-bd4a-a607483681f1"
      },
      "outputs": [
        {
          "data": {
            "text/plain": [
              "'sllikswp'"
            ]
          },
          "execution_count": 143,
          "metadata": {},
          "output_type": "execute_result"
        }
      ],
      "source": [
        "s[::-1]"
      ]
    },
    {
      "cell_type": "code",
      "execution_count": null,
      "id": "4ea52474-1098-4520-b86e-7d74174a8ba0",
      "metadata": {
        "id": "4ea52474-1098-4520-b86e-7d74174a8ba0",
        "outputId": "92af310f-50ec-4514-dee6-e4d5ffcf08e9"
      },
      "outputs": [
        {
          "data": {
            "text/plain": [
              "'P'"
            ]
          },
          "execution_count": 145,
          "metadata": {},
          "output_type": "execute_result"
        }
      ],
      "source": [
        "s[-8::-1].upper()"
      ]
    },
    {
      "cell_type": "code",
      "execution_count": null,
      "id": "d2f9105f-cf70-4ed5-9104-6c50c355d464",
      "metadata": {
        "id": "d2f9105f-cf70-4ed5-9104-6c50c355d464"
      },
      "outputs": [],
      "source": [
        "s = \"rohan\""
      ]
    },
    {
      "cell_type": "code",
      "execution_count": null,
      "id": "aca3fbb4-ae1f-45d7-869c-e686bcf74536",
      "metadata": {
        "id": "aca3fbb4-ae1f-45d7-869c-e686bcf74536",
        "outputId": "53c6b6e8-65e8-4f9a-d619-564df3e43e45"
      },
      "outputs": [
        {
          "data": {
            "text/plain": [
              "'rohan'"
            ]
          },
          "execution_count": 147,
          "metadata": {},
          "output_type": "execute_result"
        }
      ],
      "source": [
        "s"
      ]
    },
    {
      "cell_type": "code",
      "execution_count": null,
      "id": "03632572-b563-4483-82bc-450c477d1c57",
      "metadata": {
        "id": "03632572-b563-4483-82bc-450c477d1c57",
        "outputId": "28c639ba-490e-4021-8e11-fbab73791dca"
      },
      "outputs": [
        {
          "name": "stdout",
          "output_type": "stream",
          "text": [
            "rohan\n"
          ]
        }
      ],
      "source": [
        "print(s)"
      ]
    },
    {
      "cell_type": "code",
      "execution_count": null,
      "id": "4c644085-cc4f-4a69-a2ae-0049f43f79a8",
      "metadata": {
        "id": "4c644085-cc4f-4a69-a2ae-0049f43f79a8",
        "outputId": "9aa2d62f-9fc8-4e14-fcfc-a336a3834145"
      },
      "outputs": [
        {
          "data": {
            "text/plain": [
              "'ahor'"
            ]
          },
          "execution_count": 149,
          "metadata": {},
          "output_type": "execute_result"
        }
      ],
      "source": [
        "s[-2::-1]"
      ]
    },
    {
      "cell_type": "code",
      "execution_count": null,
      "id": "76e5f39b-95dc-48f0-9bb2-2182d8dc0271",
      "metadata": {
        "id": "76e5f39b-95dc-48f0-9bb2-2182d8dc0271"
      },
      "outputs": [],
      "source": [
        "s = \"pwskills\""
      ]
    },
    {
      "cell_type": "code",
      "execution_count": null,
      "id": "d849e4c4-4210-481d-aad1-1c09c141d78f",
      "metadata": {
        "id": "d849e4c4-4210-481d-aad1-1c09c141d78f",
        "outputId": "15c4353f-69ee-433f-c265-a977cb93c17d"
      },
      "outputs": [
        {
          "data": {
            "text/plain": [
              "'llikswp'"
            ]
          },
          "execution_count": 153,
          "metadata": {},
          "output_type": "execute_result"
        }
      ],
      "source": [
        "s[-2::-1]"
      ]
    },
    {
      "cell_type": "code",
      "execution_count": null,
      "id": "64db01dc-559f-4b85-b3b0-916082aee184",
      "metadata": {
        "id": "64db01dc-559f-4b85-b3b0-916082aee184"
      },
      "outputs": [],
      "source": [
        "s4= \"\"\"Iam praharshitha\n",
        "im in second year\n",
        "i want to learn python\"\"\""
      ]
    },
    {
      "cell_type": "code",
      "execution_count": null,
      "id": "0a90d2e1-7a0d-46a1-8a8d-4d5ab22d5975",
      "metadata": {
        "id": "0a90d2e1-7a0d-46a1-8a8d-4d5ab22d5975",
        "outputId": "2ac72e9a-16d7-4254-e149-a9152c1c4a63"
      },
      "outputs": [
        {
          "data": {
            "text/plain": [
              "'Iam praharshitha\\nim in second year\\ni want to learn python'"
            ]
          },
          "execution_count": 157,
          "metadata": {},
          "output_type": "execute_result"
        }
      ],
      "source": [
        "s4"
      ]
    },
    {
      "cell_type": "code",
      "execution_count": null,
      "id": "54e0339e-b713-4b2e-82f7-2787ceec801b",
      "metadata": {
        "id": "54e0339e-b713-4b2e-82f7-2787ceec801b",
        "outputId": "4ea4ea1c-3ab4-495c-f61b-ca333c78115c"
      },
      "outputs": [
        {
          "data": {
            "text/plain": [
              "'slliksw'"
            ]
          },
          "execution_count": 158,
          "metadata": {},
          "output_type": "execute_result"
        }
      ],
      "source": [
        "s[:-8:-1]"
      ]
    },
    {
      "cell_type": "code",
      "execution_count": null,
      "id": "8b687cfe-8bce-4646-a749-afa59f5d5ee9",
      "metadata": {
        "id": "8b687cfe-8bce-4646-a749-afa59f5d5ee9",
        "outputId": "bcec735e-6738-4f59-9b19-10fbcf06e3dc"
      },
      "outputs": [
        {
          "data": {
            "text/plain": [
              "'pwskills'"
            ]
          },
          "execution_count": 159,
          "metadata": {},
          "output_type": "execute_result"
        }
      ],
      "source": [
        "s"
      ]
    },
    {
      "cell_type": "code",
      "execution_count": null,
      "id": "e4597a56-e615-483c-a0ff-7b88117ab465",
      "metadata": {
        "id": "e4597a56-e615-483c-a0ff-7b88117ab465",
        "outputId": "f4fda527-246f-408c-df41-ccb48fca5e5b"
      },
      "outputs": [
        {
          "data": {
            "text/plain": [
              "'pwskillspwskillspwskills'"
            ]
          },
          "execution_count": 161,
          "metadata": {},
          "output_type": "execute_result"
        }
      ],
      "source": [
        "s * 3"
      ]
    },
    {
      "cell_type": "code",
      "execution_count": null,
      "id": "1caeead6-2815-4120-98a9-520bd9233316",
      "metadata": {
        "id": "1caeead6-2815-4120-98a9-520bd9233316"
      },
      "outputs": [],
      "source": [
        "s = \"pwskills \""
      ]
    },
    {
      "cell_type": "code",
      "execution_count": null,
      "id": "27a27801-10d0-4c6a-97a9-240e42cf9baf",
      "metadata": {
        "id": "27a27801-10d0-4c6a-97a9-240e42cf9baf",
        "outputId": "83898869-5182-4fed-8971-716025b35642"
      },
      "outputs": [
        {
          "data": {
            "text/plain": [
              "'pwskills pwskills pwskills '"
            ]
          },
          "execution_count": 163,
          "metadata": {},
          "output_type": "execute_result"
        }
      ],
      "source": [
        "s*3"
      ]
    },
    {
      "cell_type": "code",
      "execution_count": null,
      "id": "4d8d27bf-854f-4d0d-8251-794dba7c7d3d",
      "metadata": {
        "id": "4d8d27bf-854f-4d0d-8251-794dba7c7d3d"
      },
      "outputs": [],
      "source": [
        "a = 1"
      ]
    },
    {
      "cell_type": "code",
      "execution_count": null,
      "id": "59944f83-f92e-480a-a6e6-f9f613530a4c",
      "metadata": {
        "id": "59944f83-f92e-480a-a6e6-f9f613530a4c"
      },
      "outputs": [],
      "source": [
        "b = 3\n",
        "c = 5"
      ]
    },
    {
      "cell_type": "code",
      "execution_count": null,
      "id": "c234b677-0422-45a2-84b1-d5fcaec53ad1",
      "metadata": {
        "id": "c234b677-0422-45a2-84b1-d5fcaec53ad1",
        "outputId": "ab4bc31a-7098-44a7-e7e3-4bbbb81239db"
      },
      "outputs": [
        {
          "data": {
            "text/plain": [
              "'pwskills '"
            ]
          },
          "execution_count": 171,
          "metadata": {},
          "output_type": "execute_result"
        }
      ],
      "source": [
        "s"
      ]
    },
    {
      "cell_type": "code",
      "execution_count": null,
      "id": "2835a083-8adf-4707-bb9f-bf48f596bebb",
      "metadata": {
        "id": "2835a083-8adf-4707-bb9f-bf48f596bebb"
      },
      "outputs": [],
      "source": [
        "s = 'myskill'"
      ]
    },
    {
      "cell_type": "code",
      "execution_count": null,
      "id": "65a1509a-59f0-4b1c-a218-9594ed8b3894",
      "metadata": {
        "id": "65a1509a-59f0-4b1c-a218-9594ed8b3894",
        "outputId": "75db7b2f-2448-4ff7-a301-6a4044ba8426"
      },
      "outputs": [
        {
          "data": {
            "text/plain": [
              "'liksym'"
            ]
          },
          "execution_count": 173,
          "metadata": {},
          "output_type": "execute_result"
        }
      ],
      "source": [
        "s[-2::-1]"
      ]
    },
    {
      "cell_type": "code",
      "execution_count": null,
      "id": "d58f768a-5dee-4cd7-966a-2a2199c330ee",
      "metadata": {
        "id": "d58f768a-5dee-4cd7-966a-2a2199c330ee"
      },
      "outputs": [],
      "source": [
        "# jkfhsajasf\n",
        "# fasdfhiasfhd\n",
        "# ihasdufh\n",
        "# iuhasdfias\n",
        "# hoasdofasf\n",
        "# hiuohasdofs\n",
        "# hlohasfdsa"
      ]
    },
    {
      "cell_type": "code",
      "execution_count": null,
      "id": "7a48d672-2c85-40cd-a4c4-97b815bc6bae",
      "metadata": {
        "id": "7a48d672-2c85-40cd-a4c4-97b815bc6bae"
      },
      "outputs": [],
      "source": [
        "s = \"pwskill\""
      ]
    },
    {
      "cell_type": "code",
      "execution_count": null,
      "id": "fda1c693-4a59-44a3-af64-0f9450bedcc0",
      "metadata": {
        "id": "fda1c693-4a59-44a3-af64-0f9450bedcc0",
        "outputId": "f4599ddc-eaea-499f-a3af-5a708265ea25"
      },
      "outputs": [
        {
          "data": {
            "text/plain": [
              "'s'"
            ]
          },
          "execution_count": 176,
          "metadata": {},
          "output_type": "execute_result"
        }
      ],
      "source": [
        "s[2:3:1]"
      ]
    },
    {
      "cell_type": "code",
      "execution_count": null,
      "id": "3bc25384-865e-4ab3-8055-aa9fdff390bc",
      "metadata": {
        "id": "3bc25384-865e-4ab3-8055-aa9fdff390bc"
      },
      "outputs": [],
      "source": [
        "a = 10"
      ]
    },
    {
      "cell_type": "code",
      "execution_count": null,
      "id": "f6cb0b0b-de10-4a65-8d63-8d21fd273f32",
      "metadata": {
        "id": "f6cb0b0b-de10-4a65-8d63-8d21fd273f32",
        "outputId": "3674da11-9868-46b4-f6f3-29dc946c2055"
      },
      "outputs": [
        {
          "data": {
            "text/plain": [
              "10"
            ]
          },
          "execution_count": 178,
          "metadata": {},
          "output_type": "execute_result"
        }
      ],
      "source": [
        "a"
      ]
    },
    {
      "cell_type": "code",
      "execution_count": null,
      "id": "84e59358-8879-4a15-a0d2-b33905271e03",
      "metadata": {
        "id": "84e59358-8879-4a15-a0d2-b33905271e03"
      },
      "outputs": [],
      "source": []
    },
    {
      "cell_type": "code",
      "execution_count": null,
      "id": "6ee6e15d-9315-4700-9877-b4099a09075e",
      "metadata": {
        "id": "6ee6e15d-9315-4700-9877-b4099a09075e"
      },
      "outputs": [],
      "source": []
    },
    {
      "cell_type": "code",
      "execution_count": null,
      "id": "d4fe0d5c-3a47-4061-b819-fa35f702703f",
      "metadata": {
        "id": "d4fe0d5c-3a47-4061-b819-fa35f702703f"
      },
      "outputs": [],
      "source": []
    },
    {
      "cell_type": "code",
      "execution_count": null,
      "id": "880866a5-268e-4f53-a886-17a8dc0034d4",
      "metadata": {
        "id": "880866a5-268e-4f53-a886-17a8dc0034d4"
      },
      "outputs": [],
      "source": []
    },
    {
      "cell_type": "code",
      "execution_count": null,
      "id": "708a56f0-b5f1-4948-8ace-ec250a601fb1",
      "metadata": {
        "id": "708a56f0-b5f1-4948-8ace-ec250a601fb1"
      },
      "outputs": [],
      "source": []
    },
    {
      "cell_type": "code",
      "execution_count": null,
      "id": "25f573f3-968d-48bf-b8fa-bc4870250b01",
      "metadata": {
        "id": "25f573f3-968d-48bf-b8fa-bc4870250b01"
      },
      "outputs": [],
      "source": []
    },
    {
      "cell_type": "code",
      "execution_count": null,
      "id": "2353a833-abb8-40bc-abf1-1e142ceb5a83",
      "metadata": {
        "id": "2353a833-abb8-40bc-abf1-1e142ceb5a83"
      },
      "outputs": [],
      "source": []
    },
    {
      "cell_type": "code",
      "execution_count": null,
      "id": "02bb4213-5904-4956-b235-3f59aa4a54b6",
      "metadata": {
        "id": "02bb4213-5904-4956-b235-3f59aa4a54b6"
      },
      "outputs": [],
      "source": []
    },
    {
      "cell_type": "code",
      "execution_count": null,
      "id": "ce2b9fc8-93f8-4827-91cc-f23b48796949",
      "metadata": {
        "id": "ce2b9fc8-93f8-4827-91cc-f23b48796949"
      },
      "outputs": [],
      "source": []
    },
    {
      "cell_type": "code",
      "execution_count": null,
      "id": "53578baf-83e0-4b8f-af09-03fa74c504ff",
      "metadata": {
        "id": "53578baf-83e0-4b8f-af09-03fa74c504ff"
      },
      "outputs": [],
      "source": []
    },
    {
      "cell_type": "code",
      "execution_count": null,
      "id": "78bd0495-2fcc-402b-b1fa-b23610595441",
      "metadata": {
        "id": "78bd0495-2fcc-402b-b1fa-b23610595441"
      },
      "outputs": [],
      "source": []
    }
  ],
  "metadata": {
    "kernelspec": {
      "display_name": "Python 3 (ipykernel)",
      "language": "python",
      "name": "python3"
    },
    "language_info": {
      "codemirror_mode": {
        "name": "ipython",
        "version": 3
      },
      "file_extension": ".py",
      "mimetype": "text/x-python",
      "name": "python",
      "nbconvert_exporter": "python",
      "pygments_lexer": "ipython3",
      "version": "3.10.8"
    },
    "colab": {
      "provenance": [],
      "include_colab_link": true
    }
  },
  "nbformat": 4,
  "nbformat_minor": 5
}