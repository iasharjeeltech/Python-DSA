{
  "cells": [
    {
      "cell_type": "markdown",
      "metadata": {
        "id": "view-in-github",
        "colab_type": "text"
      },
      "source": [
        "<a href=\"https://colab.research.google.com/github/iasharjeeltech/Python-DSA/blob/main/list_%2C_tuple_and_set_(1).ipynb\" target=\"_parent\"><img src=\"https://colab.research.google.com/assets/colab-badge.svg\" alt=\"Open In Colab\"/></a>"
      ]
    },
    {
      "cell_type": "code",
      "execution_count": 5,
      "id": "c7bbeb48-2684-44ff-a1d2-5b57584b08b7",
      "metadata": {
        "id": "c7bbeb48-2684-44ff-a1d2-5b57584b08b7"
      },
      "outputs": [],
      "source": [
        "l =[1,345,45,\"sharjeel\" ,True ,5+7j , 345.456]"
      ]
    },
    {
      "cell_type": "code",
      "execution_count": 8,
      "id": "cbb8d0fb-b25a-4588-aac4-f9802795c51d",
      "metadata": {
        "id": "cbb8d0fb-b25a-4588-aac4-f9802795c51d",
        "outputId": "4db63ac8-1b0f-41ca-8183-e97ffd4d1979",
        "colab": {
          "base_uri": "https://localhost:8080/"
        }
      },
      "outputs": [
        {
          "output_type": "execute_result",
          "data": {
            "text/plain": [
              "5.0"
            ]
          },
          "metadata": {},
          "execution_count": 8
        }
      ],
      "source": [
        "l[5].real"
      ]
    },
    {
      "cell_type": "code",
      "execution_count": 9,
      "id": "ec45fd4d-cbb3-421a-823a-bf87542ac44b",
      "metadata": {
        "id": "ec45fd4d-cbb3-421a-823a-bf87542ac44b",
        "outputId": "a2373f55-154c-4e96-ba5c-003b44b0bec1",
        "colab": {
          "base_uri": "https://localhost:8080/"
        }
      },
      "outputs": [
        {
          "output_type": "execute_result",
          "data": {
            "text/plain": [
              "[1, 45, True, 345.456]"
            ]
          },
          "metadata": {},
          "execution_count": 9
        }
      ],
      "source": [
        "l[0:8:2] #it is even output. #the slicing method is same in list too which is previously uploaded"
      ]
    },
    {
      "cell_type": "code",
      "execution_count": null,
      "id": "1d912421-85c0-4b4a-97c7-f7db6a242c1e",
      "metadata": {
        "id": "1d912421-85c0-4b4a-97c7-f7db6a242c1e"
      },
      "outputs": [],
      "source": []
    },
    {
      "cell_type": "code",
      "execution_count": 10,
      "id": "97208361-a180-4cb7-88a1-6e4df0254c9e",
      "metadata": {
        "id": "97208361-a180-4cb7-88a1-6e4df0254c9e",
        "outputId": "726a2074-6f71-4f3a-c4ca-41797a7a49ec",
        "colab": {
          "base_uri": "https://localhost:8080/"
        }
      },
      "outputs": [
        {
          "output_type": "execute_result",
          "data": {
            "text/plain": [
              "list"
            ]
          },
          "metadata": {},
          "execution_count": 10
        }
      ],
      "source": [
        "type(l)"
      ]
    },
    {
      "cell_type": "code",
      "execution_count": 11,
      "id": "187c5ba4-b042-4b24-bbbc-00c54b5ff2b0",
      "metadata": {
        "id": "187c5ba4-b042-4b24-bbbc-00c54b5ff2b0",
        "outputId": "a1bdf384-6bf4-40b0-ba76-32f74b1728e4",
        "colab": {
          "base_uri": "https://localhost:8080/"
        }
      },
      "outputs": [
        {
          "output_type": "execute_result",
          "data": {
            "text/plain": [
              "1"
            ]
          },
          "metadata": {},
          "execution_count": 11
        }
      ],
      "source": [
        "l[0]"
      ]
    },
    {
      "cell_type": "code",
      "execution_count": 12,
      "id": "456cfc58-4de9-495c-adb8-408e87eb4fbd",
      "metadata": {
        "id": "456cfc58-4de9-495c-adb8-408e87eb4fbd",
        "outputId": "513508d3-eef2-4677-eb57-eeb62e49b235",
        "colab": {
          "base_uri": "https://localhost:8080/"
        }
      },
      "outputs": [
        {
          "output_type": "execute_result",
          "data": {
            "text/plain": [
              "345.456"
            ]
          },
          "metadata": {},
          "execution_count": 12
        }
      ],
      "source": [
        "l[6]"
      ]
    },
    {
      "cell_type": "code",
      "source": [
        "l[3][0:5] #if we want to output of any particular character of letter form list use this slicing method"
      ],
      "metadata": {
        "id": "6IeArb7tbN71",
        "outputId": "637904d0-ee51-40b2-9e4c-598d03f2c82d",
        "colab": {
          "base_uri": "https://localhost:8080/",
          "height": 36
        }
      },
      "id": "6IeArb7tbN71",
      "execution_count": 13,
      "outputs": [
        {
          "output_type": "execute_result",
          "data": {
            "text/plain": [
              "'sharj'"
            ],
            "application/vnd.google.colaboratory.intrinsic+json": {
              "type": "string"
            }
          },
          "metadata": {},
          "execution_count": 13
        }
      ]
    },
    {
      "cell_type": "code",
      "source": [
        "l[4][0:1]"
      ],
      "metadata": {
        "id": "aRPrBKoDb4_C",
        "outputId": "0790f01b-133d-4502-c952-c20f794b915d",
        "colab": {
          "base_uri": "https://localhost:8080/",
          "height": 181
        }
      },
      "id": "aRPrBKoDb4_C",
      "execution_count": 14,
      "outputs": [
        {
          "output_type": "error",
          "ename": "TypeError",
          "evalue": "ignored",
          "traceback": [
            "\u001b[0;31m---------------------------------------------------------------------------\u001b[0m",
            "\u001b[0;31mTypeError\u001b[0m                                 Traceback (most recent call last)",
            "\u001b[0;32m<ipython-input-14-b63f598aa7eb>\u001b[0m in \u001b[0;36m<cell line: 1>\u001b[0;34m()\u001b[0m\n\u001b[0;32m----> 1\u001b[0;31m \u001b[0ml\u001b[0m\u001b[0;34m[\u001b[0m\u001b[0;36m4\u001b[0m\u001b[0;34m]\u001b[0m\u001b[0;34m[\u001b[0m\u001b[0;36m0\u001b[0m\u001b[0;34m:\u001b[0m\u001b[0;36m1\u001b[0m\u001b[0;34m]\u001b[0m\u001b[0;34m\u001b[0m\u001b[0;34m\u001b[0m\u001b[0m\n\u001b[0m",
            "\u001b[0;31mTypeError\u001b[0m: 'bool' object is not subscriptable"
          ]
        }
      ]
    },
    {
      "cell_type": "code",
      "execution_count": 15,
      "id": "b55813bf-f44e-4863-a16c-04a8518fc6f8",
      "metadata": {
        "id": "b55813bf-f44e-4863-a16c-04a8518fc6f8",
        "outputId": "6f635c7c-94dd-483c-b9c2-c84c0f5a42d2",
        "colab": {
          "base_uri": "https://localhost:8080/",
          "height": 181
        }
      },
      "outputs": [
        {
          "output_type": "error",
          "ename": "IndexError",
          "evalue": "ignored",
          "traceback": [
            "\u001b[0;31m---------------------------------------------------------------------------\u001b[0m",
            "\u001b[0;31mIndexError\u001b[0m                                Traceback (most recent call last)",
            "\u001b[0;32m<ipython-input-15-d1279369aa12>\u001b[0m in \u001b[0;36m<cell line: 1>\u001b[0;34m()\u001b[0m\n\u001b[0;32m----> 1\u001b[0;31m \u001b[0ml\u001b[0m\u001b[0;34m[\u001b[0m\u001b[0;36m90\u001b[0m\u001b[0;34m]\u001b[0m\u001b[0;34m\u001b[0m\u001b[0;34m\u001b[0m\u001b[0m\n\u001b[0m",
            "\u001b[0;31mIndexError\u001b[0m: list index out of range"
          ]
        }
      ],
      "source": [
        "l[90]"
      ]
    },
    {
      "cell_type": "code",
      "execution_count": 16,
      "id": "f39b5ea3-6063-42ea-912c-c1a7a6e2a9d4",
      "metadata": {
        "id": "f39b5ea3-6063-42ea-912c-c1a7a6e2a9d4",
        "outputId": "965396f4-d7f7-41ce-9cd9-8cf53dfddaf1",
        "colab": {
          "base_uri": "https://localhost:8080/"
        }
      },
      "outputs": [
        {
          "output_type": "execute_result",
          "data": {
            "text/plain": [
              "[1, 345, 45, 'sharjeel', True, (5+7j), 345.456]"
            ]
          },
          "metadata": {},
          "execution_count": 16
        }
      ],
      "source": [
        "l"
      ]
    },
    {
      "cell_type": "code",
      "execution_count": 17,
      "id": "3fb61b2d-83f8-415d-b639-9e768dd1ca9a",
      "metadata": {
        "id": "3fb61b2d-83f8-415d-b639-9e768dd1ca9a",
        "outputId": "32f42e8c-34a0-4daf-f8b0-6f22da9f36d7",
        "colab": {
          "base_uri": "https://localhost:8080/"
        }
      },
      "outputs": [
        {
          "output_type": "execute_result",
          "data": {
            "text/plain": [
              "[1, 345, 45]"
            ]
          },
          "metadata": {},
          "execution_count": 17
        }
      ],
      "source": [
        "l[0:3]"
      ]
    },
    {
      "cell_type": "code",
      "execution_count": 18,
      "id": "143d0692-d2d2-4d5d-9ba7-d4ab3b053561",
      "metadata": {
        "id": "143d0692-d2d2-4d5d-9ba7-d4ab3b053561",
        "outputId": "f49c3862-189f-429d-8dfe-213d090e2bcb",
        "colab": {
          "base_uri": "https://localhost:8080/"
        }
      },
      "outputs": [
        {
          "output_type": "execute_result",
          "data": {
            "text/plain": [
              "345.456"
            ]
          },
          "metadata": {},
          "execution_count": 18
        }
      ],
      "source": [
        "l[-1]"
      ]
    },
    {
      "cell_type": "code",
      "execution_count": 19,
      "id": "72077b14-d777-454a-a6db-76e2156bde12",
      "metadata": {
        "id": "72077b14-d777-454a-a6db-76e2156bde12",
        "outputId": "c45451ae-dc60-4a85-c304-d206969ac27d",
        "colab": {
          "base_uri": "https://localhost:8080/"
        }
      },
      "outputs": [
        {
          "output_type": "execute_result",
          "data": {
            "text/plain": [
              "[345.456, (5+7j), True, 'sharjeel', 45, 345, 1]"
            ]
          },
          "metadata": {},
          "execution_count": 19
        }
      ],
      "source": [
        "l[::-1]"
      ]
    },
    {
      "cell_type": "code",
      "execution_count": 20,
      "id": "b9c75dfa-1935-4204-a87c-6106d35b679a",
      "metadata": {
        "id": "b9c75dfa-1935-4204-a87c-6106d35b679a",
        "outputId": "8dbff376-93d4-4196-cde1-0b34384fcf5d",
        "colab": {
          "base_uri": "https://localhost:8080/"
        }
      },
      "outputs": [
        {
          "output_type": "execute_result",
          "data": {
            "text/plain": [
              "[1, 45, True, 345.456]"
            ]
          },
          "metadata": {},
          "execution_count": 20
        }
      ],
      "source": [
        "l[::2]"
      ]
    },
    {
      "cell_type": "code",
      "execution_count": 21,
      "id": "92e7ef2d-a462-4522-b20d-c65e265b0a3d",
      "metadata": {
        "id": "92e7ef2d-a462-4522-b20d-c65e265b0a3d",
        "outputId": "b4a14bf5-903c-4023-f04e-a7743a7e9698",
        "colab": {
          "base_uri": "https://localhost:8080/"
        }
      },
      "outputs": [
        {
          "output_type": "execute_result",
          "data": {
            "text/plain": [
              "[1, 345, 45, 'sharjeel', True, (5+7j), 345.456]"
            ]
          },
          "metadata": {},
          "execution_count": 21
        }
      ],
      "source": [
        "l"
      ]
    },
    {
      "cell_type": "code",
      "execution_count": 22,
      "id": "30885a98-4b66-4bae-a7a1-108db08ea7f4",
      "metadata": {
        "id": "30885a98-4b66-4bae-a7a1-108db08ea7f4"
      },
      "outputs": [],
      "source": [
        "s = \"sharjeel\""
      ]
    },
    {
      "cell_type": "code",
      "execution_count": 23,
      "id": "849ab546-4e87-4647-bafa-f9f43beb222b",
      "metadata": {
        "id": "849ab546-4e87-4647-bafa-f9f43beb222b",
        "outputId": "390f196f-6ea5-4891-ad2e-7375bc8d8f94",
        "colab": {
          "base_uri": "https://localhost:8080/",
          "height": 181
        }
      },
      "outputs": [
        {
          "output_type": "error",
          "ename": "TypeError",
          "evalue": "ignored",
          "traceback": [
            "\u001b[0;31m---------------------------------------------------------------------------\u001b[0m",
            "\u001b[0;31mTypeError\u001b[0m                                 Traceback (most recent call last)",
            "\u001b[0;32m<ipython-input-23-c62842885d3f>\u001b[0m in \u001b[0;36m<cell line: 1>\u001b[0;34m()\u001b[0m\n\u001b[0;32m----> 1\u001b[0;31m \u001b[0ml\u001b[0m\u001b[0;34m+\u001b[0m\u001b[0ms\u001b[0m\u001b[0;34m\u001b[0m\u001b[0;34m\u001b[0m\u001b[0m\n\u001b[0m",
            "\u001b[0;31mTypeError\u001b[0m: can only concatenate list (not \"str\") to list"
          ]
        }
      ],
      "source": [
        "l+s"
      ]
    },
    {
      "cell_type": "code",
      "execution_count": 24,
      "id": "afd051da-b034-4de3-aab9-4b891c5e2b31",
      "metadata": {
        "id": "afd051da-b034-4de3-aab9-4b891c5e2b31",
        "outputId": "e41d6b20-a2e4-4f52-9850-16032ffd50e8",
        "colab": {
          "base_uri": "https://localhost:8080/"
        }
      },
      "outputs": [
        {
          "output_type": "execute_result",
          "data": {
            "text/plain": [
              "['s',\n",
              " 'h',\n",
              " 'a',\n",
              " 'r',\n",
              " 'j',\n",
              " 'e',\n",
              " 'e',\n",
              " 'l',\n",
              " 1,\n",
              " 345,\n",
              " 45,\n",
              " 'sharjeel',\n",
              " True,\n",
              " (5+7j),\n",
              " 345.456]"
            ]
          },
          "metadata": {},
          "execution_count": 24
        }
      ],
      "source": [
        "list(s) + l"
      ]
    },
    {
      "cell_type": "code",
      "execution_count": 25,
      "id": "539d21e3-c7c4-4200-9df0-ca6c17f11b85",
      "metadata": {
        "id": "539d21e3-c7c4-4200-9df0-ca6c17f11b85",
        "outputId": "91af4421-2bce-4041-faf1-7494fa1c5d1f",
        "colab": {
          "base_uri": "https://localhost:8080/"
        }
      },
      "outputs": [
        {
          "output_type": "execute_result",
          "data": {
            "text/plain": [
              "[1, 345, 45, 'sharjeel', True, (5+7j), 345.456]"
            ]
          },
          "metadata": {},
          "execution_count": 25
        }
      ],
      "source": [
        "l"
      ]
    },
    {
      "cell_type": "code",
      "execution_count": 26,
      "id": "ec088a2a-b780-4d05-862e-403ad15fca75",
      "metadata": {
        "id": "ec088a2a-b780-4d05-862e-403ad15fca75",
        "outputId": "94f5e70d-c1cb-4b35-df89-15d949183efb",
        "colab": {
          "base_uri": "https://localhost:8080/"
        }
      },
      "outputs": [
        {
          "output_type": "execute_result",
          "data": {
            "text/plain": [
              "str"
            ]
          },
          "metadata": {},
          "execution_count": 26
        }
      ],
      "source": [
        "type(l[3])"
      ]
    },
    {
      "cell_type": "code",
      "execution_count": 27,
      "id": "93d5626b-48f4-46ca-a66a-3ba2a0221199",
      "metadata": {
        "id": "93d5626b-48f4-46ca-a66a-3ba2a0221199",
        "outputId": "e4da67b7-81d0-47e0-c385-2f931ed1c3a6",
        "colab": {
          "base_uri": "https://localhost:8080/",
          "height": 36
        }
      },
      "outputs": [
        {
          "output_type": "execute_result",
          "data": {
            "text/plain": [
              "'sh'"
            ],
            "application/vnd.google.colaboratory.intrinsic+json": {
              "type": "string"
            }
          },
          "metadata": {},
          "execution_count": 27
        }
      ],
      "source": [
        "l[3][0:2]"
      ]
    },
    {
      "cell_type": "code",
      "execution_count": 28,
      "id": "95db1dcf-1765-49c6-86b7-f1a4f67e7282",
      "metadata": {
        "id": "95db1dcf-1765-49c6-86b7-f1a4f67e7282",
        "outputId": "596a5657-2189-4feb-bf6f-735873971264",
        "colab": {
          "base_uri": "https://localhost:8080/"
        }
      },
      "outputs": [
        {
          "output_type": "execute_result",
          "data": {
            "text/plain": [
              "True"
            ]
          },
          "metadata": {},
          "execution_count": 28
        }
      ],
      "source": [
        "l[4]"
      ]
    },
    {
      "cell_type": "code",
      "execution_count": 29,
      "id": "90485008-f7c0-4549-8de8-cae7513473e4",
      "metadata": {
        "id": "90485008-f7c0-4549-8de8-cae7513473e4",
        "outputId": "987feb5a-d63e-4dd7-c741-5e56d330c6fb",
        "colab": {
          "base_uri": "https://localhost:8080/",
          "height": 36
        }
      },
      "outputs": [
        {
          "output_type": "execute_result",
          "data": {
            "text/plain": [
              "'Tr'"
            ],
            "application/vnd.google.colaboratory.intrinsic+json": {
              "type": "string"
            }
          },
          "metadata": {},
          "execution_count": 29
        }
      ],
      "source": [
        "str(l[4])[0:2] #first convert to string then you can get output of boolen particular letter"
      ]
    },
    {
      "cell_type": "code",
      "execution_count": 30,
      "id": "7ec63b6f-90f9-4237-bcaf-f1ff2648cdfc",
      "metadata": {
        "id": "7ec63b6f-90f9-4237-bcaf-f1ff2648cdfc",
        "outputId": "ab1c2f6b-b675-4f2d-a003-14ba677041fd",
        "colab": {
          "base_uri": "https://localhost:8080/"
        }
      },
      "outputs": [
        {
          "output_type": "execute_result",
          "data": {
            "text/plain": [
              "[1, 345, 45, 'sharjeel', True, (5+7j), 345.456]"
            ]
          },
          "metadata": {},
          "execution_count": 30
        }
      ],
      "source": [
        "l"
      ]
    },
    {
      "cell_type": "code",
      "execution_count": 31,
      "id": "4af6c594-2025-424f-ade3-ebc3f5d3f5dc",
      "metadata": {
        "id": "4af6c594-2025-424f-ade3-ebc3f5d3f5dc",
        "outputId": "7a6e7067-6943-4271-e7d0-7a4fe4c6b522",
        "colab": {
          "base_uri": "https://localhost:8080/",
          "height": 181
        }
      },
      "outputs": [
        {
          "output_type": "error",
          "ename": "TypeError",
          "evalue": "ignored",
          "traceback": [
            "\u001b[0;31m---------------------------------------------------------------------------\u001b[0m",
            "\u001b[0;31mTypeError\u001b[0m                                 Traceback (most recent call last)",
            "\u001b[0;32m<ipython-input-31-03b5796983e5>\u001b[0m in \u001b[0;36m<cell line: 1>\u001b[0;34m()\u001b[0m\n\u001b[0;32m----> 1\u001b[0;31m \u001b[0ml\u001b[0m\u001b[0;34m+\u001b[0m \u001b[0;36m5\u001b[0m\u001b[0;34m\u001b[0m\u001b[0;34m\u001b[0m\u001b[0m\n\u001b[0m",
            "\u001b[0;31mTypeError\u001b[0m: can only concatenate list (not \"int\") to list"
          ]
        }
      ],
      "source": [
        "l+ 5"
      ]
    },
    {
      "cell_type": "code",
      "execution_count": 32,
      "id": "97b79f8d-eb48-496b-9ead-ec5023d81012",
      "metadata": {
        "id": "97b79f8d-eb48-496b-9ead-ec5023d81012"
      },
      "outputs": [],
      "source": [
        "l1 = [3,4,5]"
      ]
    },
    {
      "cell_type": "code",
      "execution_count": 33,
      "id": "69b5e226-e8a4-4db8-8ebd-26f32a1ed805",
      "metadata": {
        "id": "69b5e226-e8a4-4db8-8ebd-26f32a1ed805",
        "outputId": "18911378-b9dc-431b-ea2f-70f5ed1d123a",
        "colab": {
          "base_uri": "https://localhost:8080/"
        }
      },
      "outputs": [
        {
          "output_type": "execute_result",
          "data": {
            "text/plain": [
              "[1, 345, 45, 'sharjeel', True, (5+7j), 345.456, 3, 4, 5]"
            ]
          },
          "metadata": {},
          "execution_count": 33
        }
      ],
      "source": [
        "l + l1 #list added in list"
      ]
    },
    {
      "cell_type": "code",
      "execution_count": 34,
      "id": "6925449d-cafd-4ba4-a851-c808d19a9a66",
      "metadata": {
        "id": "6925449d-cafd-4ba4-a851-c808d19a9a66",
        "outputId": "8ed62b94-9821-4ff6-9400-87de957254b9",
        "colab": {
          "base_uri": "https://localhost:8080/"
        }
      },
      "outputs": [
        {
          "output_type": "execute_result",
          "data": {
            "text/plain": [
              "[3, 4, 5, 3, 4, 5, 3, 4, 5]"
            ]
          },
          "metadata": {},
          "execution_count": 34
        }
      ],
      "source": [
        "l1 * 3"
      ]
    },
    {
      "cell_type": "code",
      "execution_count": 35,
      "id": "f68ae252-1cce-4c7b-b34b-b3318fc5254b",
      "metadata": {
        "id": "f68ae252-1cce-4c7b-b34b-b3318fc5254b",
        "outputId": "80ef2a07-ab2b-422b-df62-36ed2f44a5b5",
        "colab": {
          "base_uri": "https://localhost:8080/"
        }
      },
      "outputs": [
        {
          "output_type": "execute_result",
          "data": {
            "text/plain": [
              "[1, 345, 45, 'sharjeel', True, (5+7j), 345.456]"
            ]
          },
          "metadata": {},
          "execution_count": 35
        }
      ],
      "source": [
        "l"
      ]
    },
    {
      "cell_type": "code",
      "execution_count": 36,
      "id": "f4ea3f7c-713d-40ca-8887-aac8a72c45bb",
      "metadata": {
        "id": "f4ea3f7c-713d-40ca-8887-aac8a72c45bb",
        "outputId": "c5e87311-422c-4511-ff15-070d4a685f3b",
        "colab": {
          "base_uri": "https://localhost:8080/"
        }
      },
      "outputs": [
        {
          "output_type": "execute_result",
          "data": {
            "text/plain": [
              "7"
            ]
          },
          "metadata": {},
          "execution_count": 36
        }
      ],
      "source": [
        "len(l)"
      ]
    },
    {
      "cell_type": "code",
      "execution_count": 37,
      "id": "c1b4f6f2-e573-4a3e-a7d9-8c7ad9aef408",
      "metadata": {
        "id": "c1b4f6f2-e573-4a3e-a7d9-8c7ad9aef408",
        "outputId": "6dd821b8-441d-497c-f51c-ce2e2f8716eb",
        "colab": {
          "base_uri": "https://localhost:8080/"
        }
      },
      "outputs": [
        {
          "output_type": "execute_result",
          "data": {
            "text/plain": [
              "[1, 345, 45, 'sharjeel', True, (5+7j), 345.456]"
            ]
          },
          "metadata": {},
          "execution_count": 37
        }
      ],
      "source": [
        "l"
      ]
    },
    {
      "cell_type": "code",
      "execution_count": 38,
      "id": "ecbbbd73-0b17-4f51-bc30-b7385d53a6d6",
      "metadata": {
        "id": "ecbbbd73-0b17-4f51-bc30-b7385d53a6d6"
      },
      "outputs": [],
      "source": [
        "l.append(5) #append use to add values in at last"
      ]
    },
    {
      "cell_type": "code",
      "execution_count": 39,
      "id": "eb502875-594e-42d8-889b-f2aa4331e087",
      "metadata": {
        "id": "eb502875-594e-42d8-889b-f2aa4331e087",
        "outputId": "a8817a0e-3e42-4795-a689-8693b6e8a158",
        "colab": {
          "base_uri": "https://localhost:8080/"
        }
      },
      "outputs": [
        {
          "output_type": "execute_result",
          "data": {
            "text/plain": [
              "[1, 345, 45, 'sharjeel', True, (5+7j), 345.456, 5]"
            ]
          },
          "metadata": {},
          "execution_count": 39
        }
      ],
      "source": [
        "l"
      ]
    },
    {
      "cell_type": "code",
      "execution_count": 40,
      "id": "95895183-7d30-4049-ba3f-01ea818f5dc6",
      "metadata": {
        "id": "95895183-7d30-4049-ba3f-01ea818f5dc6"
      },
      "outputs": [],
      "source": [
        "l.append(s)"
      ]
    },
    {
      "cell_type": "code",
      "execution_count": 41,
      "id": "37133e37-d391-4599-a3a5-49ed5b552c8e",
      "metadata": {
        "id": "37133e37-d391-4599-a3a5-49ed5b552c8e",
        "outputId": "7e5411d7-4df3-48fd-d56c-ebfa80f494ac",
        "colab": {
          "base_uri": "https://localhost:8080/",
          "height": 36
        }
      },
      "outputs": [
        {
          "output_type": "execute_result",
          "data": {
            "text/plain": [
              "'sharjeel'"
            ],
            "application/vnd.google.colaboratory.intrinsic+json": {
              "type": "string"
            }
          },
          "metadata": {},
          "execution_count": 41
        }
      ],
      "source": [
        "s"
      ]
    },
    {
      "cell_type": "code",
      "execution_count": 42,
      "id": "260757a2-d534-4f3d-be0b-8ce47fc78610",
      "metadata": {
        "id": "260757a2-d534-4f3d-be0b-8ce47fc78610",
        "outputId": "457e544d-efef-42ef-9ab2-51b328668a75",
        "colab": {
          "base_uri": "https://localhost:8080/"
        }
      },
      "outputs": [
        {
          "output_type": "execute_result",
          "data": {
            "text/plain": [
              "[1, 345, 45, 'sharjeel', True, (5+7j), 345.456, 5, 'sharjeel']"
            ]
          },
          "metadata": {},
          "execution_count": 42
        }
      ],
      "source": [
        "l"
      ]
    },
    {
      "cell_type": "code",
      "execution_count": 43,
      "id": "ad5dd049-4923-4bff-9156-21386c7d7598",
      "metadata": {
        "id": "ad5dd049-4923-4bff-9156-21386c7d7598",
        "outputId": "c93ff1f9-f190-4314-d932-6fff315c2f66",
        "colab": {
          "base_uri": "https://localhost:8080/"
        }
      },
      "outputs": [
        {
          "output_type": "execute_result",
          "data": {
            "text/plain": [
              "[1, 345, 45, 'sharjeel', True, (5+7j), 345.456, 5, 'sharjeel']"
            ]
          },
          "metadata": {},
          "execution_count": 43
        }
      ],
      "source": [
        "l"
      ]
    },
    {
      "cell_type": "code",
      "execution_count": 44,
      "id": "8fe6cf3d-2bf4-495c-bead-5b38f8ff787c",
      "metadata": {
        "id": "8fe6cf3d-2bf4-495c-bead-5b38f8ff787c",
        "outputId": "81f6cfbd-c99a-43d0-f757-847e97e17580",
        "colab": {
          "base_uri": "https://localhost:8080/"
        }
      },
      "outputs": [
        {
          "output_type": "execute_result",
          "data": {
            "text/plain": [
              "[3, 4, 5]"
            ]
          },
          "metadata": {},
          "execution_count": 44
        }
      ],
      "source": [
        "l1"
      ]
    },
    {
      "cell_type": "code",
      "execution_count": 45,
      "id": "f38591ef-06f1-4a57-a423-fafae2aa226d",
      "metadata": {
        "id": "f38591ef-06f1-4a57-a423-fafae2aa226d"
      },
      "outputs": [],
      "source": [
        "l.append(l1)"
      ]
    },
    {
      "cell_type": "code",
      "execution_count": 46,
      "id": "35e9895b-0e04-457e-9b78-81fcaa655249",
      "metadata": {
        "id": "35e9895b-0e04-457e-9b78-81fcaa655249",
        "outputId": "2c0931b8-2238-4868-88c6-d04454f47f4f",
        "colab": {
          "base_uri": "https://localhost:8080/"
        }
      },
      "outputs": [
        {
          "output_type": "execute_result",
          "data": {
            "text/plain": [
              "[1, 345, 45, 'sharjeel', True, (5+7j), 345.456, 5, 'sharjeel', [3, 4, 5]]"
            ]
          },
          "metadata": {},
          "execution_count": 46
        }
      ],
      "source": [
        "l"
      ]
    },
    {
      "cell_type": "code",
      "execution_count": 47,
      "id": "7104ecee-587c-4288-b82b-74f206828109",
      "metadata": {
        "id": "7104ecee-587c-4288-b82b-74f206828109",
        "outputId": "a13f6866-48bb-4546-a2e0-88d068d1efc0",
        "colab": {
          "base_uri": "https://localhost:8080/"
        }
      },
      "outputs": [
        {
          "output_type": "execute_result",
          "data": {
            "text/plain": [
              "4"
            ]
          },
          "metadata": {},
          "execution_count": 47
        }
      ],
      "source": [
        "l[-1][1]"
      ]
    },
    {
      "cell_type": "code",
      "execution_count": 48,
      "id": "84e31b8a-6fb3-4aa6-94f3-da2a45911b4f",
      "metadata": {
        "id": "84e31b8a-6fb3-4aa6-94f3-da2a45911b4f",
        "outputId": "5038e98b-0f58-4776-dcc7-8a9f6e509bab",
        "colab": {
          "base_uri": "https://localhost:8080/"
        }
      },
      "outputs": [
        {
          "output_type": "execute_result",
          "data": {
            "text/plain": [
              "[1, 345, 45, 'sharjeel', True, (5+7j), 345.456, 5, 'sharjeel', [3, 4, 5]]"
            ]
          },
          "metadata": {},
          "execution_count": 48
        }
      ],
      "source": [
        "l"
      ]
    },
    {
      "cell_type": "code",
      "execution_count": 49,
      "id": "a0353cc4-0920-41cb-a427-99126704c884",
      "metadata": {
        "id": "a0353cc4-0920-41cb-a427-99126704c884",
        "outputId": "cd31c3de-687f-410b-8889-df7ec7c6ba3c",
        "colab": {
          "base_uri": "https://localhost:8080/",
          "height": 181
        }
      },
      "outputs": [
        {
          "output_type": "error",
          "ename": "TypeError",
          "evalue": "ignored",
          "traceback": [
            "\u001b[0;31m---------------------------------------------------------------------------\u001b[0m",
            "\u001b[0;31mTypeError\u001b[0m                                 Traceback (most recent call last)",
            "\u001b[0;32m<ipython-input-49-5d8260e43baa>\u001b[0m in \u001b[0;36m<cell line: 1>\u001b[0;34m()\u001b[0m\n\u001b[0;32m----> 1\u001b[0;31m \u001b[0ml\u001b[0m\u001b[0;34m.\u001b[0m\u001b[0mextend\u001b[0m\u001b[0;34m(\u001b[0m\u001b[0;36m4\u001b[0m\u001b[0;34m)\u001b[0m \u001b[0;31m#its not extendable becoz its not iterable extend only support iterable data like string in qoute and numbers in square bracket.\u001b[0m\u001b[0;34m\u001b[0m\u001b[0;34m\u001b[0m\u001b[0m\n\u001b[0m",
            "\u001b[0;31mTypeError\u001b[0m: 'int' object is not iterable"
          ]
        }
      ],
      "source": [
        "l.extend(4) #its not extendable becoz its not iterable extend only support iterable data like string in qoute and numbers in square bracket."
      ]
    },
    {
      "cell_type": "code",
      "execution_count": 50,
      "id": "cbf52c2a-fb93-4549-bd69-829fc468a2bf",
      "metadata": {
        "id": "cbf52c2a-fb93-4549-bd69-829fc468a2bf"
      },
      "outputs": [],
      "source": [
        "l.extend(\"sharjeel\")"
      ]
    },
    {
      "cell_type": "code",
      "source": [
        "l.extend([786])"
      ],
      "metadata": {
        "id": "xMZtt20qgNQ7"
      },
      "id": "xMZtt20qgNQ7",
      "execution_count": 51,
      "outputs": []
    },
    {
      "cell_type": "code",
      "execution_count": 52,
      "id": "a8d5eb56-3f0b-49de-b77b-056f447db959",
      "metadata": {
        "id": "a8d5eb56-3f0b-49de-b77b-056f447db959",
        "outputId": "4a479535-d455-4baf-8c35-8a606e314388",
        "colab": {
          "base_uri": "https://localhost:8080/"
        }
      },
      "outputs": [
        {
          "output_type": "execute_result",
          "data": {
            "text/plain": [
              "[1,\n",
              " 345,\n",
              " 45,\n",
              " 'sharjeel',\n",
              " True,\n",
              " (5+7j),\n",
              " 345.456,\n",
              " 5,\n",
              " 'sharjeel',\n",
              " [3, 4, 5],\n",
              " 's',\n",
              " 'h',\n",
              " 'a',\n",
              " 'r',\n",
              " 'j',\n",
              " 'e',\n",
              " 'e',\n",
              " 'l',\n",
              " 786]"
            ]
          },
          "metadata": {},
          "execution_count": 52
        }
      ],
      "source": [
        "l"
      ]
    },
    {
      "cell_type": "code",
      "execution_count": 53,
      "id": "685e63e3-e53d-4442-8007-1cafcc0dd02c",
      "metadata": {
        "id": "685e63e3-e53d-4442-8007-1cafcc0dd02c"
      },
      "outputs": [],
      "source": [
        "l.extend([3,4,5])"
      ]
    },
    {
      "cell_type": "markdown",
      "source": [
        "the difference between append and extend is append store data as it is in list other hand extend first unwrap and store."
      ],
      "metadata": {
        "id": "L0Tp-qzugkTd"
      },
      "id": "L0Tp-qzugkTd"
    },
    {
      "cell_type": "code",
      "execution_count": 54,
      "id": "67f9263b-beae-4ad5-a24c-d9d31003668a",
      "metadata": {
        "id": "67f9263b-beae-4ad5-a24c-d9d31003668a",
        "outputId": "1a6a939c-f27c-4df0-9c34-eb7baf8fe788",
        "colab": {
          "base_uri": "https://localhost:8080/"
        }
      },
      "outputs": [
        {
          "output_type": "execute_result",
          "data": {
            "text/plain": [
              "[1,\n",
              " 345,\n",
              " 45,\n",
              " 'sharjeel',\n",
              " True,\n",
              " (5+7j),\n",
              " 345.456,\n",
              " 5,\n",
              " 'sharjeel',\n",
              " [3, 4, 5],\n",
              " 's',\n",
              " 'h',\n",
              " 'a',\n",
              " 'r',\n",
              " 'j',\n",
              " 'e',\n",
              " 'e',\n",
              " 'l',\n",
              " 786,\n",
              " 3,\n",
              " 4,\n",
              " 5]"
            ]
          },
          "metadata": {},
          "execution_count": 54
        }
      ],
      "source": [
        "l"
      ]
    },
    {
      "cell_type": "code",
      "execution_count": 55,
      "id": "e0066d6a-0ff2-483b-8d77-24e46afeb8b4",
      "metadata": {
        "id": "e0066d6a-0ff2-483b-8d77-24e46afeb8b4",
        "outputId": "c1ea999b-aacc-4621-ab2d-a1b800cb04d5",
        "colab": {
          "base_uri": "https://localhost:8080/"
        }
      },
      "outputs": [
        {
          "output_type": "execute_result",
          "data": {
            "text/plain": [
              "[3, 4, 5]"
            ]
          },
          "metadata": {},
          "execution_count": 55
        }
      ],
      "source": [
        "l1"
      ]
    },
    {
      "cell_type": "code",
      "execution_count": 56,
      "id": "be4fd23d-6dcf-4a1f-a73a-c63545666b7e",
      "metadata": {
        "id": "be4fd23d-6dcf-4a1f-a73a-c63545666b7e"
      },
      "outputs": [],
      "source": [
        "l1.insert(0,\"ansari\") #insert used to add data before any data using indexing value here in l1 give the index as 1 to store new data"
      ]
    },
    {
      "cell_type": "code",
      "source": [
        "l1"
      ],
      "metadata": {
        "id": "qEQiYMOjh5qt",
        "outputId": "b46aee15-4a10-4944-b387-669eac893759",
        "colab": {
          "base_uri": "https://localhost:8080/"
        }
      },
      "id": "qEQiYMOjh5qt",
      "execution_count": 57,
      "outputs": [
        {
          "output_type": "execute_result",
          "data": {
            "text/plain": [
              "['ansari', 3, 4, 5]"
            ]
          },
          "metadata": {},
          "execution_count": 57
        }
      ]
    },
    {
      "cell_type": "code",
      "execution_count": 58,
      "id": "a2e39ece-451a-4332-9100-b71b3a440edc",
      "metadata": {
        "id": "a2e39ece-451a-4332-9100-b71b3a440edc"
      },
      "outputs": [],
      "source": [
        "l1.insert(2 , [2,3,4])"
      ]
    },
    {
      "cell_type": "code",
      "execution_count": 59,
      "id": "b9fd73f8-cf3b-46f6-a7c0-6d1bb9f75b9e",
      "metadata": {
        "id": "b9fd73f8-cf3b-46f6-a7c0-6d1bb9f75b9e",
        "outputId": "b9132057-c6de-4361-937c-9aae215c3333",
        "colab": {
          "base_uri": "https://localhost:8080/"
        }
      },
      "outputs": [
        {
          "output_type": "execute_result",
          "data": {
            "text/plain": [
              "['ansari', 3, [2, 3, 4], 4, 5]"
            ]
          },
          "metadata": {},
          "execution_count": 59
        }
      ],
      "source": [
        "l1"
      ]
    },
    {
      "cell_type": "code",
      "source": [
        "len(l1)"
      ],
      "metadata": {
        "id": "zW5lYHQDiIM3",
        "outputId": "03978d09-5062-4f6a-cbd9-9bccb56a751f",
        "colab": {
          "base_uri": "https://localhost:8080/"
        }
      },
      "id": "zW5lYHQDiIM3",
      "execution_count": 60,
      "outputs": [
        {
          "output_type": "execute_result",
          "data": {
            "text/plain": [
              "5"
            ]
          },
          "metadata": {},
          "execution_count": 60
        }
      ]
    },
    {
      "cell_type": "code",
      "execution_count": 61,
      "id": "a0c9258b-5a67-471f-ba9e-cd972130f316",
      "metadata": {
        "id": "a0c9258b-5a67-471f-ba9e-cd972130f316"
      },
      "outputs": [],
      "source": [
        "l1.insert(-1 , 45)"
      ]
    },
    {
      "cell_type": "code",
      "execution_count": 62,
      "id": "533eb7da-7815-4383-a627-86b789db9017",
      "metadata": {
        "id": "533eb7da-7815-4383-a627-86b789db9017",
        "outputId": "e691d5a2-9049-45d9-e0f0-d5754e12d69e",
        "colab": {
          "base_uri": "https://localhost:8080/"
        }
      },
      "outputs": [
        {
          "output_type": "execute_result",
          "data": {
            "text/plain": [
              "['ansari', 3, [2, 3, 4], 4, 45, 5]"
            ]
          },
          "metadata": {},
          "execution_count": 62
        }
      ],
      "source": [
        "l1"
      ]
    },
    {
      "cell_type": "code",
      "execution_count": 63,
      "id": "dfe603b5-8a3c-46e7-98ff-0c76f77ecc96",
      "metadata": {
        "id": "dfe603b5-8a3c-46e7-98ff-0c76f77ecc96"
      },
      "outputs": [],
      "source": [
        "l1.insert(0 , 45)"
      ]
    },
    {
      "cell_type": "code",
      "execution_count": 64,
      "id": "4c52a091-4116-410b-aed9-7675f7f9b6ea",
      "metadata": {
        "id": "4c52a091-4116-410b-aed9-7675f7f9b6ea",
        "outputId": "d46306a1-d8ea-46cc-b0da-068305bf4eb2",
        "colab": {
          "base_uri": "https://localhost:8080/"
        }
      },
      "outputs": [
        {
          "output_type": "execute_result",
          "data": {
            "text/plain": [
              "[45, 'ansari', 3, [2, 3, 4], 4, 45, 5]"
            ]
          },
          "metadata": {},
          "execution_count": 64
        }
      ],
      "source": [
        "l1"
      ]
    },
    {
      "cell_type": "code",
      "execution_count": 65,
      "id": "c8fa3187-fbac-4a18-9a8c-d57087041b64",
      "metadata": {
        "id": "c8fa3187-fbac-4a18-9a8c-d57087041b64",
        "outputId": "ed98d3d5-3ada-4f93-8811-c5c07f042002",
        "colab": {
          "base_uri": "https://localhost:8080/"
        }
      },
      "outputs": [
        {
          "output_type": "execute_result",
          "data": {
            "text/plain": [
              "5"
            ]
          },
          "metadata": {},
          "execution_count": 65
        }
      ],
      "source": [
        "l1.pop() #pop function used to remove data by using index and the default value is -1"
      ]
    },
    {
      "cell_type": "code",
      "execution_count": 66,
      "id": "55b75e2e-1e00-44c7-b96b-13a318722e22",
      "metadata": {
        "id": "55b75e2e-1e00-44c7-b96b-13a318722e22",
        "outputId": "e78762f9-1e59-43d0-fbba-9f33494567bb",
        "colab": {
          "base_uri": "https://localhost:8080/"
        }
      },
      "outputs": [
        {
          "output_type": "execute_result",
          "data": {
            "text/plain": [
              "[45, 'ansari', 3, [2, 3, 4], 4, 45]"
            ]
          },
          "metadata": {},
          "execution_count": 66
        }
      ],
      "source": [
        "l1"
      ]
    },
    {
      "cell_type": "code",
      "execution_count": 67,
      "id": "db9dca71-23e9-45b9-a76b-e05435185c00",
      "metadata": {
        "id": "db9dca71-23e9-45b9-a76b-e05435185c00",
        "outputId": "facf3f1c-2033-4742-ebbb-e1b185e8930a",
        "colab": {
          "base_uri": "https://localhost:8080/"
        }
      },
      "outputs": [
        {
          "output_type": "execute_result",
          "data": {
            "text/plain": [
              "3"
            ]
          },
          "metadata": {},
          "execution_count": 67
        }
      ],
      "source": [
        "l1.pop(2)"
      ]
    },
    {
      "cell_type": "code",
      "execution_count": 68,
      "id": "9c745036-9be6-470a-8262-bc0e49e6451d",
      "metadata": {
        "id": "9c745036-9be6-470a-8262-bc0e49e6451d",
        "outputId": "95772adb-f5d3-44f6-d13d-55e565aecd30",
        "colab": {
          "base_uri": "https://localhost:8080/"
        }
      },
      "outputs": [
        {
          "output_type": "execute_result",
          "data": {
            "text/plain": [
              "[45, 'ansari', [2, 3, 4], 4, 45]"
            ]
          },
          "metadata": {},
          "execution_count": 68
        }
      ],
      "source": [
        "l1"
      ]
    },
    {
      "cell_type": "code",
      "execution_count": 69,
      "id": "388b4f04-74b5-4d9a-97b2-e1402c41cc78",
      "metadata": {
        "id": "388b4f04-74b5-4d9a-97b2-e1402c41cc78",
        "outputId": "f83476bf-0e9e-4c06-efb2-04b3592736c1",
        "colab": {
          "base_uri": "https://localhost:8080/"
        }
      },
      "outputs": [
        {
          "output_type": "execute_result",
          "data": {
            "text/plain": [
              "4"
            ]
          },
          "metadata": {},
          "execution_count": 69
        }
      ],
      "source": [
        "l1.pop(3)"
      ]
    },
    {
      "cell_type": "code",
      "execution_count": 70,
      "id": "c4c43495-007d-4650-a6fe-b0a703c25b84",
      "metadata": {
        "id": "c4c43495-007d-4650-a6fe-b0a703c25b84",
        "outputId": "71a245ec-28aa-4c54-b2ae-fb66b00389e5",
        "colab": {
          "base_uri": "https://localhost:8080/"
        }
      },
      "outputs": [
        {
          "output_type": "execute_result",
          "data": {
            "text/plain": [
              "[45, 'ansari', [2, 3, 4], 45]"
            ]
          },
          "metadata": {},
          "execution_count": 70
        }
      ],
      "source": [
        "l1"
      ]
    },
    {
      "cell_type": "code",
      "execution_count": 71,
      "id": "de69f839-c7da-45b8-9b6b-95779d2db18f",
      "metadata": {
        "id": "de69f839-c7da-45b8-9b6b-95779d2db18f"
      },
      "outputs": [],
      "source": [
        "l1.remove('ansari') # remove function used to remove particular targeted value"
      ]
    },
    {
      "cell_type": "code",
      "execution_count": 72,
      "id": "2749c86f-00fa-4f2f-a2a1-5f95b651824f",
      "metadata": {
        "id": "2749c86f-00fa-4f2f-a2a1-5f95b651824f",
        "outputId": "fa7b0123-648e-4522-d280-8dbfc7b32d75",
        "colab": {
          "base_uri": "https://localhost:8080/"
        }
      },
      "outputs": [
        {
          "output_type": "execute_result",
          "data": {
            "text/plain": [
              "[45, [2, 3, 4], 45]"
            ]
          },
          "metadata": {},
          "execution_count": 72
        }
      ],
      "source": [
        "l1"
      ]
    },
    {
      "cell_type": "code",
      "execution_count": 73,
      "id": "fc3a48a0-26c6-485a-80c6-e151c3bc2066",
      "metadata": {
        "id": "fc3a48a0-26c6-485a-80c6-e151c3bc2066",
        "outputId": "d65af83a-b624-4673-fd46-51d898be07dc",
        "colab": {
          "base_uri": "https://localhost:8080/",
          "height": 181
        }
      },
      "outputs": [
        {
          "output_type": "error",
          "ename": "ValueError",
          "evalue": "ignored",
          "traceback": [
            "\u001b[0;31m---------------------------------------------------------------------------\u001b[0m",
            "\u001b[0;31mValueError\u001b[0m                                Traceback (most recent call last)",
            "\u001b[0;32m<ipython-input-73-5c1ad66bc796>\u001b[0m in \u001b[0;36m<cell line: 1>\u001b[0;34m()\u001b[0m\n\u001b[0;32m----> 1\u001b[0;31m \u001b[0ml1\u001b[0m\u001b[0;34m.\u001b[0m\u001b[0mremove\u001b[0m\u001b[0;34m(\u001b[0m\u001b[0;36m234\u001b[0m\u001b[0;34m)\u001b[0m\u001b[0;34m\u001b[0m\u001b[0;34m\u001b[0m\u001b[0m\n\u001b[0m",
            "\u001b[0;31mValueError\u001b[0m: list.remove(x): x not in list"
          ]
        }
      ],
      "source": [
        "l1.remove(234)"
      ]
    },
    {
      "cell_type": "code",
      "execution_count": 76,
      "id": "8ae8d2ff-57cd-49ac-b822-4ddf8f6f41b6",
      "metadata": {
        "id": "8ae8d2ff-57cd-49ac-b822-4ddf8f6f41b6"
      },
      "outputs": [],
      "source": [
        "l1[1].remove(3) #removing number using slicing method index wise here 3 posotion is at 1"
      ]
    },
    {
      "cell_type": "code",
      "execution_count": 78,
      "id": "8df9a004-0aa6-4ddb-8849-70dad15ea4a2",
      "metadata": {
        "id": "8df9a004-0aa6-4ddb-8849-70dad15ea4a2",
        "outputId": "620e1931-ace6-4d80-e176-b741aac50b4a",
        "colab": {
          "base_uri": "https://localhost:8080/"
        }
      },
      "outputs": [
        {
          "output_type": "execute_result",
          "data": {
            "text/plain": [
              "[45, [2, 4], 45]"
            ]
          },
          "metadata": {},
          "execution_count": 78
        }
      ],
      "source": [
        "l1"
      ]
    },
    {
      "cell_type": "code",
      "execution_count": 79,
      "id": "6b4455d9-6b21-4d1d-bedd-3ea0e4599aab",
      "metadata": {
        "id": "6b4455d9-6b21-4d1d-bedd-3ea0e4599aab"
      },
      "outputs": [],
      "source": [
        "l1.append(4) #adding 4 at last using append"
      ]
    },
    {
      "cell_type": "code",
      "execution_count": 80,
      "id": "72505858-f041-45d8-83ee-243c5c11ecb8",
      "metadata": {
        "id": "72505858-f041-45d8-83ee-243c5c11ecb8",
        "outputId": "460e9d79-4389-444c-a839-2281cf66ead7",
        "colab": {
          "base_uri": "https://localhost:8080/"
        }
      },
      "outputs": [
        {
          "output_type": "execute_result",
          "data": {
            "text/plain": [
              "[45, [2, 4], 45, 4]"
            ]
          },
          "metadata": {},
          "execution_count": 80
        }
      ],
      "source": [
        "l1"
      ]
    },
    {
      "cell_type": "code",
      "execution_count": 81,
      "id": "2fcf7bee-1323-4f50-9661-99891228793d",
      "metadata": {
        "id": "2fcf7bee-1323-4f50-9661-99891228793d"
      },
      "outputs": [],
      "source": [
        "l1.remove(4)"
      ]
    },
    {
      "cell_type": "code",
      "execution_count": 82,
      "id": "31f4453f-5c9a-42ae-a40b-5c9c49e43a66",
      "metadata": {
        "id": "31f4453f-5c9a-42ae-a40b-5c9c49e43a66",
        "outputId": "34a186ee-9383-4946-a8f8-064d75bf1309",
        "colab": {
          "base_uri": "https://localhost:8080/"
        }
      },
      "outputs": [
        {
          "output_type": "execute_result",
          "data": {
            "text/plain": [
              "[45, [2, 4], 45]"
            ]
          },
          "metadata": {},
          "execution_count": 82
        }
      ],
      "source": [
        "l1"
      ]
    },
    {
      "cell_type": "code",
      "execution_count": 86,
      "id": "801a68da-97f2-43e6-9591-4d5038007f34",
      "metadata": {
        "id": "801a68da-97f2-43e6-9591-4d5038007f34"
      },
      "outputs": [],
      "source": [
        "l1 = l1[::-1]"
      ]
    },
    {
      "cell_type": "code",
      "source": [
        "l1"
      ],
      "metadata": {
        "id": "l2F0VmkeGovI",
        "outputId": "636e35f1-ce12-46f3-d3a8-27f5e5dfb806",
        "colab": {
          "base_uri": "https://localhost:8080/"
        }
      },
      "id": "l2F0VmkeGovI",
      "execution_count": 87,
      "outputs": [
        {
          "output_type": "execute_result",
          "data": {
            "text/plain": [
              "[45, [2, 4], 45]"
            ]
          },
          "metadata": {},
          "execution_count": 87
        }
      ]
    },
    {
      "cell_type": "code",
      "execution_count": 88,
      "id": "b8018775-9792-45a2-a989-56a0ae16c2de",
      "metadata": {
        "id": "b8018775-9792-45a2-a989-56a0ae16c2de"
      },
      "outputs": [],
      "source": [
        "l1.reverse()"
      ]
    },
    {
      "cell_type": "code",
      "execution_count": 89,
      "id": "52c3b26c-f113-401e-a5b4-144942a9acc4",
      "metadata": {
        "id": "52c3b26c-f113-401e-a5b4-144942a9acc4",
        "outputId": "9002d8c1-7f7c-4186-94c0-343bc63d8287",
        "colab": {
          "base_uri": "https://localhost:8080/"
        }
      },
      "outputs": [
        {
          "output_type": "execute_result",
          "data": {
            "text/plain": [
              "[45, [2, 4], 45]"
            ]
          },
          "metadata": {},
          "execution_count": 89
        }
      ],
      "source": [
        "l1"
      ]
    },
    {
      "cell_type": "code",
      "execution_count": 91,
      "id": "bb0803e0-5406-4cfa-a084-12f711e1d075",
      "metadata": {
        "id": "bb0803e0-5406-4cfa-a084-12f711e1d075",
        "outputId": "a4130aa2-3c04-4b31-8e4b-21cf67b25554",
        "colab": {
          "base_uri": "https://localhost:8080/"
        }
      },
      "outputs": [
        {
          "output_type": "execute_result",
          "data": {
            "text/plain": [
              "[45, [2, 4], 45]"
            ]
          },
          "metadata": {},
          "execution_count": 91
        }
      ],
      "source": [
        "l1"
      ]
    },
    {
      "cell_type": "code",
      "execution_count": 92,
      "id": "9308f0ba-5e02-4b27-9fdf-98fddb1800a8",
      "metadata": {
        "id": "9308f0ba-5e02-4b27-9fdf-98fddb1800a8",
        "outputId": "b849f158-8a4a-4269-a484-d1188ea22d10",
        "colab": {
          "base_uri": "https://localhost:8080/",
          "height": 181
        }
      },
      "outputs": [
        {
          "output_type": "error",
          "ename": "TypeError",
          "evalue": "ignored",
          "traceback": [
            "\u001b[0;31m---------------------------------------------------------------------------\u001b[0m",
            "\u001b[0;31mTypeError\u001b[0m                                 Traceback (most recent call last)",
            "\u001b[0;32m<ipython-input-92-b8f5f256bbcf>\u001b[0m in \u001b[0;36m<cell line: 1>\u001b[0;34m()\u001b[0m\n\u001b[0;32m----> 1\u001b[0;31m \u001b[0ml1\u001b[0m\u001b[0;34m.\u001b[0m\u001b[0msort\u001b[0m\u001b[0;34m(\u001b[0m\u001b[0;34m)\u001b[0m\u001b[0;34m\u001b[0m\u001b[0;34m\u001b[0m\u001b[0m\n\u001b[0m",
            "\u001b[0;31mTypeError\u001b[0m: '<' not supported between instances of 'list' and 'int'"
          ]
        }
      ],
      "source": [
        "l1.sort()"
      ]
    },
    {
      "cell_type": "code",
      "execution_count": 93,
      "id": "e12d1522-3e34-4d2b-b939-7520513693ad",
      "metadata": {
        "id": "e12d1522-3e34-4d2b-b939-7520513693ad"
      },
      "outputs": [],
      "source": [
        "l2 = [45,23,90,0,3,4,5,6,7,8,9]"
      ]
    },
    {
      "cell_type": "code",
      "execution_count": 94,
      "id": "b24295db-d862-4484-8fe4-2b447f89d27d",
      "metadata": {
        "id": "b24295db-d862-4484-8fe4-2b447f89d27d"
      },
      "outputs": [],
      "source": [
        "l2.sort() #sort to accending order"
      ]
    },
    {
      "cell_type": "code",
      "execution_count": 95,
      "id": "64effa6b-88e6-4c13-a451-186e427a7e40",
      "metadata": {
        "id": "64effa6b-88e6-4c13-a451-186e427a7e40",
        "outputId": "d0e07a36-b266-4f2a-b382-149b9ccd743a",
        "colab": {
          "base_uri": "https://localhost:8080/"
        }
      },
      "outputs": [
        {
          "output_type": "execute_result",
          "data": {
            "text/plain": [
              "[0, 3, 4, 5, 6, 7, 8, 9, 23, 45, 90]"
            ]
          },
          "metadata": {},
          "execution_count": 95
        }
      ],
      "source": [
        "l2"
      ]
    },
    {
      "cell_type": "code",
      "execution_count": 96,
      "id": "dd8cd691-d671-472d-ba5b-96f0a54b13bb",
      "metadata": {
        "id": "dd8cd691-d671-472d-ba5b-96f0a54b13bb",
        "outputId": "742b9d2e-cae7-4363-c659-c1300e5c26d3",
        "colab": {
          "base_uri": "https://localhost:8080/"
        }
      },
      "outputs": [
        {
          "output_type": "execute_result",
          "data": {
            "text/plain": [
              "[0, 3, 4, 5, 6, 7, 8, 9, 23, 45, 90]"
            ]
          },
          "metadata": {},
          "execution_count": 96
        }
      ],
      "source": [
        "l2"
      ]
    },
    {
      "cell_type": "code",
      "execution_count": 103,
      "id": "eaee0d57-f30e-4f25-b194-bd5481df660c",
      "metadata": {
        "id": "eaee0d57-f30e-4f25-b194-bd5481df660c"
      },
      "outputs": [],
      "source": [
        "l3 = [34,\"sharjeel\",45,12,\"ansari\"]"
      ]
    },
    {
      "cell_type": "code",
      "execution_count": 104,
      "id": "4e76f1a2-3492-4739-b191-3f7472e059d1",
      "metadata": {
        "id": "4e76f1a2-3492-4739-b191-3f7472e059d1",
        "outputId": "38d878ff-be0b-4e90-f11a-ef6905bb2f28",
        "colab": {
          "base_uri": "https://localhost:8080/",
          "height": 181
        }
      },
      "outputs": [
        {
          "output_type": "error",
          "ename": "TypeError",
          "evalue": "ignored",
          "traceback": [
            "\u001b[0;31m---------------------------------------------------------------------------\u001b[0m",
            "\u001b[0;31mTypeError\u001b[0m                                 Traceback (most recent call last)",
            "\u001b[0;32m<ipython-input-104-4ece838cd89d>\u001b[0m in \u001b[0;36m<cell line: 1>\u001b[0;34m()\u001b[0m\n\u001b[0;32m----> 1\u001b[0;31m \u001b[0ml3\u001b[0m\u001b[0;34m.\u001b[0m\u001b[0msort\u001b[0m\u001b[0;34m(\u001b[0m\u001b[0;34m)\u001b[0m\u001b[0;34m\u001b[0m\u001b[0;34m\u001b[0m\u001b[0m\n\u001b[0m",
            "\u001b[0;31mTypeError\u001b[0m: '<' not supported between instances of 'str' and 'int'"
          ]
        }
      ],
      "source": [
        "l3.sort()"
      ]
    },
    {
      "cell_type": "code",
      "execution_count": 112,
      "id": "163782b7-f9be-4c6e-b134-9527ce66fe1f",
      "metadata": {
        "id": "163782b7-f9be-4c6e-b134-9527ce66fe1f"
      },
      "outputs": [],
      "source": [
        "l4 = [\"sharjeel\" , \"ansari\" , \"iasharjeel\" , \"data science\"]"
      ]
    },
    {
      "cell_type": "code",
      "execution_count": 108,
      "id": "b4dbcc39-ed42-4321-bc99-bd56662176d1",
      "metadata": {
        "id": "b4dbcc39-ed42-4321-bc99-bd56662176d1"
      },
      "outputs": [],
      "source": [
        "l4.sort(reverse=True) #reverse strings"
      ]
    },
    {
      "cell_type": "code",
      "execution_count": 113,
      "id": "985c7546-46d4-4340-ad2b-5d470e8230bf",
      "metadata": {
        "id": "985c7546-46d4-4340-ad2b-5d470e8230bf",
        "outputId": "45dfecd2-6490-4e81-b75e-f2af8e069e33",
        "colab": {
          "base_uri": "https://localhost:8080/"
        }
      },
      "outputs": [
        {
          "output_type": "execute_result",
          "data": {
            "text/plain": [
              "['sharjeel', 'ansari', 'iasharjeel', 'data science']"
            ]
          },
          "metadata": {},
          "execution_count": 113
        }
      ],
      "source": [
        "l4"
      ]
    },
    {
      "cell_type": "code",
      "execution_count": 114,
      "id": "058c1bc8-6942-4b27-bce2-0173ed4048a9",
      "metadata": {
        "id": "058c1bc8-6942-4b27-bce2-0173ed4048a9",
        "outputId": "f71374c4-38e8-4ebb-8314-786ee09b6663",
        "colab": {
          "base_uri": "https://localhost:8080/"
        }
      },
      "outputs": [
        {
          "output_type": "execute_result",
          "data": {
            "text/plain": [
              "['sharjeel', 'ansari', 'iasharjeel', 'data science']"
            ]
          },
          "metadata": {},
          "execution_count": 114
        }
      ],
      "source": [
        "l4"
      ]
    },
    {
      "cell_type": "code",
      "execution_count": 115,
      "id": "41df8f5a-9f3d-4cab-80b4-2542071a46ba",
      "metadata": {
        "id": "41df8f5a-9f3d-4cab-80b4-2542071a46ba",
        "outputId": "04f6f12d-8b46-4faa-b848-50d566e278b4",
        "colab": {
          "base_uri": "https://localhost:8080/"
        }
      },
      "outputs": [
        {
          "output_type": "execute_result",
          "data": {
            "text/plain": [
              "1"
            ]
          },
          "metadata": {},
          "execution_count": 115
        }
      ],
      "source": [
        "l4.index(\"ansari\") #find index using this function"
      ]
    },
    {
      "cell_type": "code",
      "execution_count": 116,
      "id": "71e16c1b-9c46-42e4-a355-564d5dc2d933",
      "metadata": {
        "id": "71e16c1b-9c46-42e4-a355-564d5dc2d933",
        "outputId": "6d19a6d4-d7bf-44ec-b728-3299e4623223",
        "colab": {
          "base_uri": "https://localhost:8080/"
        }
      },
      "outputs": [
        {
          "output_type": "execute_result",
          "data": {
            "text/plain": [
              "1"
            ]
          },
          "metadata": {},
          "execution_count": 116
        }
      ],
      "source": [
        "l4.count(\"iasharjeel\")# count how many time its repeat in"
      ]
    },
    {
      "cell_type": "code",
      "execution_count": 117,
      "id": "68e76fa3-301c-4e6b-84de-f9987fe31171",
      "metadata": {
        "id": "68e76fa3-301c-4e6b-84de-f9987fe31171"
      },
      "outputs": [],
      "source": [
        "s= \"sharjeel\""
      ]
    },
    {
      "cell_type": "code",
      "execution_count": 121,
      "id": "080b6e8b-cf59-4fee-8739-116ed475f9df",
      "metadata": {
        "id": "080b6e8b-cf59-4fee-8739-116ed475f9df",
        "outputId": "1e315c13-6f4c-4f45-a900-e849f06c1ff5",
        "colab": {
          "base_uri": "https://localhost:8080/",
          "height": 181
        }
      },
      "outputs": [
        {
          "output_type": "error",
          "ename": "TypeError",
          "evalue": "ignored",
          "traceback": [
            "\u001b[0;31m---------------------------------------------------------------------------\u001b[0m",
            "\u001b[0;31mTypeError\u001b[0m                                 Traceback (most recent call last)",
            "\u001b[0;32m<ipython-input-121-71b631bc5fe0>\u001b[0m in \u001b[0;36m<cell line: 1>\u001b[0;34m()\u001b[0m\n\u001b[0;32m----> 1\u001b[0;31m \u001b[0ms\u001b[0m \u001b[0;34m[\u001b[0m\u001b[0;36m0\u001b[0m\u001b[0;34m]\u001b[0m \u001b[0;34m=\u001b[0m \u001b[0;34m'a'\u001b[0m\u001b[0;34m\u001b[0m\u001b[0;34m\u001b[0m\u001b[0m\n\u001b[0m",
            "\u001b[0;31mTypeError\u001b[0m: 'str' object does not support item assignment"
          ]
        }
      ],
      "source": [
        "s [0] = 'a' #string is imuatable that we cant replace any particular letter with others digit or characters"
      ]
    },
    {
      "cell_type": "code",
      "execution_count": 120,
      "id": "4b753c86-5523-4efe-8170-10ea64777143",
      "metadata": {
        "id": "4b753c86-5523-4efe-8170-10ea64777143"
      },
      "outputs": [],
      "source": [
        "l5 = [3,4,5,6]"
      ]
    },
    {
      "cell_type": "code",
      "execution_count": 123,
      "id": "89a4fa3f-ee7c-4814-a855-0869c82608cf",
      "metadata": {
        "id": "89a4fa3f-ee7c-4814-a855-0869c82608cf"
      },
      "outputs": [],
      "source": [
        "l5[0] = 30 #at 0 index, 3 replaced with 30"
      ]
    },
    {
      "cell_type": "code",
      "execution_count": 124,
      "id": "0edd5445-514f-4a42-b2dc-243aa957086e",
      "metadata": {
        "id": "0edd5445-514f-4a42-b2dc-243aa957086e",
        "outputId": "4c241f58-73d5-44a5-c002-24db771025de",
        "colab": {
          "base_uri": "https://localhost:8080/"
        }
      },
      "outputs": [
        {
          "output_type": "execute_result",
          "data": {
            "text/plain": [
              "[30, 4, 5, 6]"
            ]
          },
          "metadata": {},
          "execution_count": 124
        }
      ],
      "source": [
        "l5"
      ]
    },
    {
      "cell_type": "code",
      "execution_count": 125,
      "id": "fb0c020d-643a-4fce-8d14-c456a16cd811",
      "metadata": {
        "id": "fb0c020d-643a-4fce-8d14-c456a16cd811",
        "outputId": "0bd8363a-1b5b-4f38-c4e7-4421bfa14295",
        "colab": {
          "base_uri": "https://localhost:8080/",
          "height": 36
        }
      },
      "outputs": [
        {
          "output_type": "execute_result",
          "data": {
            "text/plain": [
              "'sharjeel'"
            ],
            "application/vnd.google.colaboratory.intrinsic+json": {
              "type": "string"
            }
          },
          "metadata": {},
          "execution_count": 125
        }
      ],
      "source": [
        "s"
      ]
    },
    {
      "cell_type": "code",
      "execution_count": 126,
      "id": "425d956f-bb07-4b6c-91ef-e25c9affe145",
      "metadata": {
        "id": "425d956f-bb07-4b6c-91ef-e25c9affe145",
        "outputId": "d3eae3a3-8f15-47bf-a44d-7259a0f75978",
        "colab": {
          "base_uri": "https://localhost:8080/",
          "height": 36
        }
      },
      "outputs": [
        {
          "output_type": "execute_result",
          "data": {
            "text/plain": [
              "'sharzeel'"
            ],
            "application/vnd.google.colaboratory.intrinsic+json": {
              "type": "string"
            }
          },
          "metadata": {},
          "execution_count": 126
        }
      ],
      "source": [
        "s.replace('j' , 'z') #replace j with z but its happen in new memory"
      ]
    },
    {
      "cell_type": "code",
      "execution_count": 127,
      "id": "c0a39d1a-e78c-4d05-932b-df26f72c733c",
      "metadata": {
        "id": "c0a39d1a-e78c-4d05-932b-df26f72c733c",
        "outputId": "4997d3e2-dcc6-4e28-b70a-f6ecf581f015",
        "colab": {
          "base_uri": "https://localhost:8080/",
          "height": 36
        }
      },
      "outputs": [
        {
          "output_type": "execute_result",
          "data": {
            "text/plain": [
              "'sharjeel'"
            ],
            "application/vnd.google.colaboratory.intrinsic+json": {
              "type": "string"
            }
          },
          "metadata": {},
          "execution_count": 127
        }
      ],
      "source": [
        "s"
      ]
    },
    {
      "cell_type": "code",
      "execution_count": 1,
      "id": "af37d671-c116-4d64-b579-24d41783acb7",
      "metadata": {
        "id": "af37d671-c116-4d64-b579-24d41783acb7"
      },
      "outputs": [],
      "source": [
        "t = (2,3,4,5,\"sharjeel\" , 45.56, False , 45+457j , [3,4,5] ) #it is tuple tha list and tuple diff is list used square bracket and tuple round"
      ]
    },
    {
      "cell_type": "code",
      "execution_count": 130,
      "id": "99555c69-e606-435e-920b-5b1f85f62bd2",
      "metadata": {
        "id": "99555c69-e606-435e-920b-5b1f85f62bd2",
        "outputId": "a47b21ad-401f-496c-a5f6-8aa11d9bb0d2",
        "colab": {
          "base_uri": "https://localhost:8080/"
        }
      },
      "outputs": [
        {
          "output_type": "execute_result",
          "data": {
            "text/plain": [
              "(2, 3, 4, 5, 'sharjeel', 45.56, False, (45+457j), [3, 4, 5])"
            ]
          },
          "metadata": {},
          "execution_count": 130
        }
      ],
      "source": [
        "t"
      ]
    },
    {
      "cell_type": "code",
      "execution_count": 131,
      "id": "01d3cb40-274a-48a1-9b14-5b6211983d90",
      "metadata": {
        "id": "01d3cb40-274a-48a1-9b14-5b6211983d90",
        "outputId": "4c4f1690-f2ea-48e5-9471-dc704d9e5861",
        "colab": {
          "base_uri": "https://localhost:8080/"
        }
      },
      "outputs": [
        {
          "output_type": "execute_result",
          "data": {
            "text/plain": [
              "tuple"
            ]
          },
          "metadata": {},
          "execution_count": 131
        }
      ],
      "source": [
        "type(t)"
      ]
    },
    {
      "cell_type": "code",
      "execution_count": 132,
      "id": "6471ef16-bd20-473f-84aa-05385d86b736",
      "metadata": {
        "id": "6471ef16-bd20-473f-84aa-05385d86b736",
        "outputId": "73c2d78c-c11e-47e8-ebb7-3a67a410d46a",
        "colab": {
          "base_uri": "https://localhost:8080/"
        }
      },
      "outputs": [
        {
          "output_type": "execute_result",
          "data": {
            "text/plain": [
              "9"
            ]
          },
          "metadata": {},
          "execution_count": 132
        }
      ],
      "source": [
        "len(t)"
      ]
    },
    {
      "cell_type": "code",
      "execution_count": 133,
      "id": "d3783fb9-5ce1-445e-905f-920438806835",
      "metadata": {
        "id": "d3783fb9-5ce1-445e-905f-920438806835",
        "outputId": "cd20284e-33f4-4e07-c77d-38760e72c554",
        "colab": {
          "base_uri": "https://localhost:8080/"
        }
      },
      "outputs": [
        {
          "output_type": "execute_result",
          "data": {
            "text/plain": [
              "2"
            ]
          },
          "metadata": {},
          "execution_count": 133
        }
      ],
      "source": [
        "t[0]"
      ]
    },
    {
      "cell_type": "code",
      "execution_count": 134,
      "id": "1ad98040-c3fc-4bbc-b039-856c3b9d900b",
      "metadata": {
        "id": "1ad98040-c3fc-4bbc-b039-856c3b9d900b",
        "outputId": "d99d7775-35d8-4d6c-8b2c-eebb251a60f2",
        "colab": {
          "base_uri": "https://localhost:8080/"
        }
      },
      "outputs": [
        {
          "output_type": "execute_result",
          "data": {
            "text/plain": [
              "[3, 4, 5]"
            ]
          },
          "metadata": {},
          "execution_count": 134
        }
      ],
      "source": [
        "t[-1]"
      ]
    },
    {
      "cell_type": "code",
      "execution_count": 135,
      "id": "8561e7c9-b7f2-4189-a65c-6bcb66fc505c",
      "metadata": {
        "id": "8561e7c9-b7f2-4189-a65c-6bcb66fc505c",
        "outputId": "a49452e5-4d8f-4ca0-b61b-7814644f8a2f",
        "colab": {
          "base_uri": "https://localhost:8080/"
        }
      },
      "outputs": [
        {
          "output_type": "execute_result",
          "data": {
            "text/plain": [
              "([3, 4, 5], (45+457j), False, 45.56, 'sharjeel', 5, 4, 3, 2)"
            ]
          },
          "metadata": {},
          "execution_count": 135
        }
      ],
      "source": [
        "t[::-1]"
      ]
    },
    {
      "cell_type": "code",
      "execution_count": 136,
      "id": "a8a5d2ea-0f3c-4c5e-b6a1-a4b4175af331",
      "metadata": {
        "id": "a8a5d2ea-0f3c-4c5e-b6a1-a4b4175af331",
        "outputId": "8977dc9d-1a68-408a-b4c6-461bb06cfb4e",
        "colab": {
          "base_uri": "https://localhost:8080/"
        }
      },
      "outputs": [
        {
          "output_type": "execute_result",
          "data": {
            "text/plain": [
              "['sharjeel', 'ansari', 'iasharjeel', 'data science']"
            ]
          },
          "metadata": {},
          "execution_count": 136
        }
      ],
      "source": [
        "l4"
      ]
    },
    {
      "cell_type": "code",
      "execution_count": 137,
      "id": "a2e42340-d052-418a-9c79-d7a9004d2f54",
      "metadata": {
        "id": "a2e42340-d052-418a-9c79-d7a9004d2f54"
      },
      "outputs": [],
      "source": [
        "l4[0] = 23424"
      ]
    },
    {
      "cell_type": "code",
      "execution_count": 138,
      "id": "a52276fd-e96a-4d79-915d-64dde9962421",
      "metadata": {
        "id": "a52276fd-e96a-4d79-915d-64dde9962421",
        "outputId": "3f3e662b-4d50-4218-80e6-a25ed43de9ca",
        "colab": {
          "base_uri": "https://localhost:8080/"
        }
      },
      "outputs": [
        {
          "output_type": "execute_result",
          "data": {
            "text/plain": [
              "[23424, 'ansari', 'iasharjeel', 'data science']"
            ]
          },
          "metadata": {},
          "execution_count": 138
        }
      ],
      "source": [
        "l4"
      ]
    },
    {
      "cell_type": "code",
      "execution_count": 139,
      "id": "724c4992-26bf-4773-b94f-ae5cd7e9ab2f",
      "metadata": {
        "id": "724c4992-26bf-4773-b94f-ae5cd7e9ab2f",
        "outputId": "d5a59a09-2843-4f37-8099-ddcb2199e207",
        "colab": {
          "base_uri": "https://localhost:8080/"
        }
      },
      "outputs": [
        {
          "output_type": "execute_result",
          "data": {
            "text/plain": [
              "(2, 3, 4, 5, 'sharjeel', 45.56, False, (45+457j), [3, 4, 5])"
            ]
          },
          "metadata": {},
          "execution_count": 139
        }
      ],
      "source": [
        "t"
      ]
    },
    {
      "cell_type": "code",
      "execution_count": 140,
      "id": "3a41e7a8-19d0-4d15-8016-6ff554af0d08",
      "metadata": {
        "id": "3a41e7a8-19d0-4d15-8016-6ff554af0d08",
        "outputId": "41a7783c-0856-45f8-f583-f48f2c9b311c",
        "colab": {
          "base_uri": "https://localhost:8080/",
          "height": 181
        }
      },
      "outputs": [
        {
          "output_type": "error",
          "ename": "TypeError",
          "evalue": "ignored",
          "traceback": [
            "\u001b[0;31m---------------------------------------------------------------------------\u001b[0m",
            "\u001b[0;31mTypeError\u001b[0m                                 Traceback (most recent call last)",
            "\u001b[0;32m<ipython-input-140-bfce3ceb7b84>\u001b[0m in \u001b[0;36m<cell line: 1>\u001b[0;34m()\u001b[0m\n\u001b[0;32m----> 1\u001b[0;31m \u001b[0mt\u001b[0m\u001b[0;34m[\u001b[0m\u001b[0;36m0\u001b[0m\u001b[0;34m]\u001b[0m \u001b[0;34m=\u001b[0m \u001b[0;34m\"sharjeel\"\u001b[0m\u001b[0;34m\u001b[0m\u001b[0;34m\u001b[0m\u001b[0m\n\u001b[0m",
            "\u001b[0;31mTypeError\u001b[0m: 'tuple' object does not support item assignment"
          ]
        }
      ],
      "source": [
        "t[0] = \"sharjeel\""
      ]
    },
    {
      "cell_type": "code",
      "execution_count": null,
      "id": "9908d4ae-a9d2-441f-bc2e-60be67faba8d",
      "metadata": {
        "id": "9908d4ae-a9d2-441f-bc2e-60be67faba8d",
        "outputId": "3e266a5b-9649-4b7c-a170-1ad02a1b9d87"
      },
      "outputs": [
        {
          "data": {
            "text/plain": [
              "([3, 4, 5], (45+457j), False, 45.56, 'sudh', 5, 4, 3, 2)"
            ]
          },
          "execution_count": 130,
          "metadata": {},
          "output_type": "execute_result"
        }
      ],
      "source": [
        "t[::-1]"
      ]
    },
    {
      "cell_type": "code",
      "execution_count": 2,
      "id": "7ea426ac-4b10-40ca-b748-bccc718e5fc3",
      "metadata": {
        "id": "7ea426ac-4b10-40ca-b748-bccc718e5fc3",
        "outputId": "9a4aa505-556f-45b4-c59b-1b69caed8cb0",
        "colab": {
          "base_uri": "https://localhost:8080/"
        }
      },
      "outputs": [
        {
          "output_type": "execute_result",
          "data": {
            "text/plain": [
              "0"
            ]
          },
          "metadata": {},
          "execution_count": 2
        }
      ],
      "source": [
        "t.count(50)"
      ]
    },
    {
      "cell_type": "code",
      "execution_count": 3,
      "id": "599a154c-0e32-46ea-95c2-0b1890b8befb",
      "metadata": {
        "id": "599a154c-0e32-46ea-95c2-0b1890b8befb",
        "outputId": "48e692bd-7b52-497c-d0db-4efbbae2e6bf",
        "colab": {
          "base_uri": "https://localhost:8080/"
        }
      },
      "outputs": [
        {
          "output_type": "execute_result",
          "data": {
            "text/plain": [
              "6"
            ]
          },
          "metadata": {},
          "execution_count": 3
        }
      ],
      "source": [
        "t.index(False)"
      ]
    },
    {
      "cell_type": "code",
      "execution_count": 4,
      "id": "647cab93-e9b2-437e-93c6-ba20e8bbea36",
      "metadata": {
        "id": "647cab93-e9b2-437e-93c6-ba20e8bbea36",
        "outputId": "946ccb60-24a9-4a5a-9264-1aae6312a3a4",
        "colab": {
          "base_uri": "https://localhost:8080/"
        }
      },
      "outputs": [
        {
          "output_type": "execute_result",
          "data": {
            "text/plain": [
              "(2, 3, 4, 5, 'sharjeel', 45.56, False, (45+457j), [3, 4, 5])"
            ]
          },
          "metadata": {},
          "execution_count": 4
        }
      ],
      "source": [
        "t"
      ]
    },
    {
      "cell_type": "code",
      "execution_count": 5,
      "id": "06358c4b-54c1-4963-b252-234683c2ca0b",
      "metadata": {
        "id": "06358c4b-54c1-4963-b252-234683c2ca0b"
      },
      "outputs": [],
      "source": [
        "s1 = {} #set created which is the type show dict when in set have value it show set."
      ]
    },
    {
      "cell_type": "code",
      "execution_count": 6,
      "id": "1721bc68-7695-4590-98a0-3d66e57e63e0",
      "metadata": {
        "id": "1721bc68-7695-4590-98a0-3d66e57e63e0",
        "outputId": "31d4f0f9-1362-4a84-da8e-d569f2d067ad",
        "colab": {
          "base_uri": "https://localhost:8080/"
        }
      },
      "outputs": [
        {
          "output_type": "execute_result",
          "data": {
            "text/plain": [
              "dict"
            ]
          },
          "metadata": {},
          "execution_count": 6
        }
      ],
      "source": [
        "type(s1)"
      ]
    },
    {
      "cell_type": "code",
      "execution_count": null,
      "id": "d3d5d7a9-7bd0-4832-8da3-b3e578c1af98",
      "metadata": {
        "id": "d3d5d7a9-7bd0-4832-8da3-b3e578c1af98"
      },
      "outputs": [],
      "source": [
        "s2 = {2,3,4,55,6} #now its type show set"
      ]
    },
    {
      "cell_type": "code",
      "execution_count": null,
      "id": "868e3ec0-73c4-4a9d-a1be-38b58e92079c",
      "metadata": {
        "id": "868e3ec0-73c4-4a9d-a1be-38b58e92079c",
        "outputId": "72dc1bbf-b140-473b-db0e-eccd0c18b3e5"
      },
      "outputs": [
        {
          "data": {
            "text/plain": [
              "set"
            ]
          },
          "execution_count": 140,
          "metadata": {},
          "output_type": "execute_result"
        }
      ],
      "source": [
        "type(s2)"
      ]
    },
    {
      "cell_type": "code",
      "execution_count": 8,
      "id": "365e66ba-3e22-4060-b918-de1a0102b9ea",
      "metadata": {
        "id": "365e66ba-3e22-4060-b918-de1a0102b9ea"
      },
      "outputs": [],
      "source": [
        "s3 = {324,456,456, \"sharjeel\" , 45+45j ,34.465 , (3,4,5)} #set support tub=ple but not list"
      ]
    },
    {
      "cell_type": "code",
      "execution_count": 9,
      "id": "2b77074c-7de6-4bce-845e-49b068669f0d",
      "metadata": {
        "id": "2b77074c-7de6-4bce-845e-49b068669f0d",
        "outputId": "a40ac6cb-8c31-46cc-8747-4c6a3a9fb23f",
        "colab": {
          "base_uri": "https://localhost:8080/"
        }
      },
      "outputs": [
        {
          "output_type": "execute_result",
          "data": {
            "text/plain": [
              "{(3, 4, 5), (45+45j), 324, 34.465, 456, 'sharjeel'}"
            ]
          },
          "metadata": {},
          "execution_count": 9
        }
      ],
      "source": [
        "s3"
      ]
    },
    {
      "cell_type": "code",
      "execution_count": 10,
      "id": "c94bd388-48e1-406c-851c-df16b5f300a6",
      "metadata": {
        "id": "c94bd388-48e1-406c-851c-df16b5f300a6"
      },
      "outputs": [],
      "source": [
        "s4 = {2,3,4,5,6,2,2,3,4,5,2,3,1,2,3,4,5,6,1,2,2,3, 'sharjeel', 'Sharjeel'} #the set use to remove all duplicacy"
      ]
    },
    {
      "cell_type": "code",
      "execution_count": 12,
      "id": "0cd42da9-c2e5-4a77-832b-3ca2a6b7580f",
      "metadata": {
        "id": "0cd42da9-c2e5-4a77-832b-3ca2a6b7580f",
        "outputId": "2030d1b6-afc5-4723-fda0-9c4e9420ddc3",
        "colab": {
          "base_uri": "https://localhost:8080/"
        }
      },
      "outputs": [
        {
          "output_type": "execute_result",
          "data": {
            "text/plain": [
              "{1, 2, 3, 4, 5, 6, 'Sharjeel', 'sharjeel'}"
            ]
          },
          "metadata": {},
          "execution_count": 12
        }
      ],
      "source": [
        "s4"
      ]
    },
    {
      "cell_type": "code",
      "execution_count": 15,
      "id": "af5195d6-f983-498d-9ebc-a19f67381611",
      "metadata": {
        "id": "af5195d6-f983-498d-9ebc-a19f67381611"
      },
      "outputs": [],
      "source": [
        "l6 = [2,3,4,5,6,2,2,3,4,5,2,3,1,2,3,4,5,6,1,2,2,3, 'Sharjeel', 'sharjeel']"
      ]
    },
    {
      "cell_type": "code",
      "execution_count": 16,
      "id": "f90ff400-dc96-4e0b-a714-756c38dabf43",
      "metadata": {
        "id": "f90ff400-dc96-4e0b-a714-756c38dabf43"
      },
      "outputs": [],
      "source": [
        "l6 = list(set(l6))"
      ]
    },
    {
      "cell_type": "code",
      "execution_count": 17,
      "id": "78772c14-fc19-474a-a957-3f597276f0ca",
      "metadata": {
        "id": "78772c14-fc19-474a-a957-3f597276f0ca",
        "outputId": "af941a07-ef13-406d-90cc-0742dbdb27b6",
        "colab": {
          "base_uri": "https://localhost:8080/"
        }
      },
      "outputs": [
        {
          "output_type": "execute_result",
          "data": {
            "text/plain": [
              "[1, 2, 3, 4, 5, 6, 'Sharjeel', 'sharjeel']"
            ]
          },
          "metadata": {},
          "execution_count": 17
        }
      ],
      "source": [
        "l6"
      ]
    },
    {
      "cell_type": "code",
      "execution_count": null,
      "id": "1048cb2f-a896-4e4a-9361-b433279749d5",
      "metadata": {
        "id": "1048cb2f-a896-4e4a-9361-b433279749d5"
      },
      "outputs": [],
      "source": [
        "s5 = {234,45,23,12,567,45,2,789,234,\"abc\", 456,342,23}"
      ]
    },
    {
      "cell_type": "code",
      "execution_count": null,
      "id": "3193c611-74ab-4ef8-b7a9-1f257c204587",
      "metadata": {
        "id": "3193c611-74ab-4ef8-b7a9-1f257c204587",
        "outputId": "be4d937f-931c-45d3-9cf9-143eb7a056c5"
      },
      "outputs": [
        {
          "data": {
            "text/plain": [
              "{12, 2, 23, 234, 342, 45, 456, 567, 789, 'abc'}"
            ]
          },
          "execution_count": 157,
          "metadata": {},
          "output_type": "execute_result"
        }
      ],
      "source": [
        "s5"
      ]
    },
    {
      "cell_type": "code",
      "execution_count": null,
      "id": "9655fd78-e4c2-43ed-bc3a-74a980b479f3",
      "metadata": {
        "id": "9655fd78-e4c2-43ed-bc3a-74a980b479f3",
        "outputId": "5c6bd2ac-be5c-46a1-a7b6-90731f3429e4"
      },
      "outputs": [
        {
          "data": {
            "text/plain": [
              "{12, 2, 23, 234, 342, 45, 456, 567, 789, 'abc'}"
            ]
          },
          "execution_count": 158,
          "metadata": {},
          "output_type": "execute_result"
        }
      ],
      "source": [
        "s5"
      ]
    },
    {
      "cell_type": "code",
      "execution_count": null,
      "id": "b89b57f5-b5a4-4bd1-9ac6-a4569a84f966",
      "metadata": {
        "id": "b89b57f5-b5a4-4bd1-9ac6-a4569a84f966",
        "outputId": "10fe943b-a50e-49f0-c808-44bebd292141"
      },
      "outputs": [
        {
          "ename": "TypeError",
          "evalue": "'set' object is not subscriptable",
          "output_type": "error",
          "traceback": [
            "\u001b[0;31m---------------------------------------------------------------------------\u001b[0m",
            "\u001b[0;31mTypeError\u001b[0m                                 Traceback (most recent call last)",
            "Cell \u001b[0;32mIn[159], line 1\u001b[0m\n\u001b[0;32m----> 1\u001b[0m \u001b[43ms5\u001b[49m\u001b[43m[\u001b[49m\u001b[38;5;241;43m0\u001b[39;49m\u001b[43m]\u001b[49m\n",
            "\u001b[0;31mTypeError\u001b[0m: 'set' object is not subscriptable"
          ]
        }
      ],
      "source": [
        "s5[0] #set not use slicing method"
      ]
    },
    {
      "cell_type": "code",
      "execution_count": null,
      "id": "59fa6206-1202-440b-938e-3cfd2c422838",
      "metadata": {
        "id": "59fa6206-1202-440b-938e-3cfd2c422838",
        "outputId": "3abe4cc9-e20a-4f70-f33c-024b8aa3a364"
      },
      "outputs": [
        {
          "ename": "TypeError",
          "evalue": "'set' object is not subscriptable",
          "output_type": "error",
          "traceback": [
            "\u001b[0;31m---------------------------------------------------------------------------\u001b[0m",
            "\u001b[0;31mTypeError\u001b[0m                                 Traceback (most recent call last)",
            "Cell \u001b[0;32mIn[160], line 1\u001b[0m\n\u001b[0;32m----> 1\u001b[0m \u001b[43ms5\u001b[49m\u001b[43m[\u001b[49m\u001b[43m:\u001b[49m\u001b[43m:\u001b[49m\u001b[38;5;241;43m-\u001b[39;49m\u001b[38;5;241;43m1\u001b[39;49m\u001b[43m]\u001b[49m\n",
            "\u001b[0;31mTypeError\u001b[0m: 'set' object is not subscriptable"
          ]
        }
      ],
      "source": [
        "s5[::-1]"
      ]
    },
    {
      "cell_type": "code",
      "execution_count": null,
      "id": "59c80f9e-8ab2-4084-83b3-28865571356f",
      "metadata": {
        "id": "59c80f9e-8ab2-4084-83b3-28865571356f",
        "outputId": "f0e4b093-3b53-40f2-e3ed-c3d58ab43dbb"
      },
      "outputs": [
        {
          "data": {
            "text/plain": [
              "{12, 2, 23, 234, 342, 45, 456, 567, 789, 'abc'}"
            ]
          },
          "execution_count": 161,
          "metadata": {},
          "output_type": "execute_result"
        }
      ],
      "source": [
        "s5"
      ]
    },
    {
      "cell_type": "code",
      "execution_count": null,
      "id": "aa3a3afa-5283-491c-a054-bc89404846c5",
      "metadata": {
        "id": "aa3a3afa-5283-491c-a054-bc89404846c5"
      },
      "outputs": [],
      "source": [
        "s5.add(4)"
      ]
    },
    {
      "cell_type": "code",
      "execution_count": null,
      "id": "c37c9b7d-25fe-4d04-88ae-400d294a2211",
      "metadata": {
        "id": "c37c9b7d-25fe-4d04-88ae-400d294a2211",
        "outputId": "53416901-a0d6-4be0-871b-5f405e551c6e"
      },
      "outputs": [
        {
          "data": {
            "text/plain": [
              "{12, 2, 23, 234, 342, 4, 45, 456, 567, 789, 'abc'}"
            ]
          },
          "execution_count": 163,
          "metadata": {},
          "output_type": "execute_result"
        }
      ],
      "source": [
        "s5"
      ]
    },
    {
      "cell_type": "code",
      "execution_count": null,
      "id": "f2e0ee43-4fa2-47ba-a348-6537c76b50e7",
      "metadata": {
        "id": "f2e0ee43-4fa2-47ba-a348-6537c76b50e7"
      },
      "outputs": [],
      "source": [
        "s5.remove(2)"
      ]
    },
    {
      "cell_type": "code",
      "execution_count": null,
      "id": "efa0e33a-4538-4ea2-b26b-5747c45fa462",
      "metadata": {
        "id": "efa0e33a-4538-4ea2-b26b-5747c45fa462",
        "outputId": "bb13bbe2-fcc5-4739-d764-6777e9c053d6"
      },
      "outputs": [
        {
          "data": {
            "text/plain": [
              "{12, 23, 234, 342, 4, 45, 456, 567, 789, 'abc'}"
            ]
          },
          "execution_count": 165,
          "metadata": {},
          "output_type": "execute_result"
        }
      ],
      "source": [
        "s5"
      ]
    },
    {
      "cell_type": "code",
      "execution_count": null,
      "id": "d3080149-aeea-45df-8377-2452bfc35f7c",
      "metadata": {
        "id": "d3080149-aeea-45df-8377-2452bfc35f7c",
        "outputId": "b0f0a6a4-aca1-4e76-da07-832137f7ce71"
      },
      "outputs": [
        {
          "data": {
            "text/plain": [
              "[23424, 'pwskills', 'kumar', 'data science']"
            ]
          },
          "execution_count": 166,
          "metadata": {},
          "output_type": "execute_result"
        }
      ],
      "source": [
        "l4"
      ]
    },
    {
      "cell_type": "code",
      "execution_count": null,
      "id": "891f437c-c7ef-4c83-bff4-4c2decbed90f",
      "metadata": {
        "id": "891f437c-c7ef-4c83-bff4-4c2decbed90f",
        "outputId": "4fe8fc1e-c221-4687-9a1c-85536db89ca8"
      },
      "outputs": [
        {
          "data": {
            "text/plain": [
              "[30, 4, 5, 6]"
            ]
          },
          "execution_count": 167,
          "metadata": {},
          "output_type": "execute_result"
        }
      ],
      "source": [
        "l5"
      ]
    },
    {
      "cell_type": "code",
      "execution_count": null,
      "id": "0a177eac-8562-4631-88e6-eeed99c29d4b",
      "metadata": {
        "id": "0a177eac-8562-4631-88e6-eeed99c29d4b"
      },
      "outputs": [],
      "source": [
        "l5.append(l4)"
      ]
    },
    {
      "cell_type": "code",
      "execution_count": null,
      "id": "6d785533-8f86-4521-abf5-0d5ce4e89858",
      "metadata": {
        "id": "6d785533-8f86-4521-abf5-0d5ce4e89858",
        "outputId": "4fe0db69-29d0-4417-c7f6-3be016b62e76"
      },
      "outputs": [
        {
          "ename": "TypeError",
          "evalue": "can only concatenate list (not \"str\") to list",
          "output_type": "error",
          "traceback": [
            "\u001b[0;31m---------------------------------------------------------------------------\u001b[0m",
            "\u001b[0;31mTypeError\u001b[0m                                 Traceback (most recent call last)",
            "Cell \u001b[0;32mIn[169], line 1\u001b[0m\n\u001b[0;32m----> 1\u001b[0m \u001b[43ml4\u001b[49m\u001b[43m \u001b[49m\u001b[38;5;241;43m+\u001b[39;49m\u001b[43m \u001b[49m\u001b[38;5;124;43m\"\u001b[39;49m\u001b[38;5;124;43msudh\u001b[39;49m\u001b[38;5;124;43m\"\u001b[39;49m\n",
            "\u001b[0;31mTypeError\u001b[0m: can only concatenate list (not \"str\") to list"
          ]
        }
      ],
      "source": [
        "l4 + \"sharjeel\""
      ]
    },
    {
      "cell_type": "code",
      "execution_count": null,
      "id": "f3ea4057-333a-4bf3-a7b2-97046db19e20",
      "metadata": {
        "id": "f3ea4057-333a-4bf3-a7b2-97046db19e20",
        "outputId": "0421ee37-5353-43d4-eb3a-33a1fa393b9b"
      },
      "outputs": [
        {
          "data": {
            "text/plain": [
              "[30, 4, 5, 6, [23424, 'pwskills', 'kumar', 'data science']]"
            ]
          },
          "execution_count": 171,
          "metadata": {},
          "output_type": "execute_result"
        }
      ],
      "source": [
        "l5"
      ]
    },
    {
      "cell_type": "code",
      "execution_count": null,
      "id": "622e7fc1-a28b-4287-a311-47533a482c7f",
      "metadata": {
        "id": "622e7fc1-a28b-4287-a311-47533a482c7f"
      },
      "outputs": [],
      "source": [
        "s = {1,2,3,1,2,3,4,5,5}"
      ]
    },
    {
      "cell_type": "code",
      "execution_count": null,
      "id": "0af687f4-db6d-4eee-90fe-2322a2c83778",
      "metadata": {
        "id": "0af687f4-db6d-4eee-90fe-2322a2c83778",
        "outputId": "782032c2-c344-400f-950b-19b94ef3ebcb"
      },
      "outputs": [
        {
          "data": {
            "text/plain": [
              "{1, 2, 3, 4, 5}"
            ]
          },
          "execution_count": 173,
          "metadata": {},
          "output_type": "execute_result"
        }
      ],
      "source": [
        "s"
      ]
    },
    {
      "cell_type": "code",
      "execution_count": null,
      "id": "72e128c0-af36-4e3c-9ea1-0df58a398abd",
      "metadata": {
        "id": "72e128c0-af36-4e3c-9ea1-0df58a398abd"
      },
      "outputs": [],
      "source": [
        "s1 ={34,45665,45645,65,664,23,1,1,23,43,4}"
      ]
    },
    {
      "cell_type": "code",
      "execution_count": null,
      "id": "7b4476a3-84ee-4267-b113-baf4ea667aa7",
      "metadata": {
        "id": "7b4476a3-84ee-4267-b113-baf4ea667aa7",
        "outputId": "3dbcb398-37f3-4431-9eef-da2d1ce2dc30"
      },
      "outputs": [
        {
          "data": {
            "text/plain": [
              "{1, 4, 23, 34, 43, 65, 664, 45645, 45665}"
            ]
          },
          "execution_count": 176,
          "metadata": {},
          "output_type": "execute_result"
        }
      ],
      "source": [
        "s1"
      ]
    },
    {
      "cell_type": "code",
      "execution_count": null,
      "id": "e2e072a7-a304-4287-88ba-2e0b7e5a0faf",
      "metadata": {
        "id": "e2e072a7-a304-4287-88ba-2e0b7e5a0faf"
      },
      "outputs": [],
      "source": [
        "l = [3,4,5,6,6,6]"
      ]
    },
    {
      "cell_type": "code",
      "execution_count": null,
      "id": "b6522fef-7466-42ac-8b97-04e8da3840e8",
      "metadata": {
        "id": "b6522fef-7466-42ac-8b97-04e8da3840e8"
      },
      "outputs": [],
      "source": [
        "l.insert(-1 , \"jay\")"
      ]
    },
    {
      "cell_type": "code",
      "execution_count": null,
      "id": "c2fc1fe8-a468-471a-8b09-dadaee1f1f1b",
      "metadata": {
        "id": "c2fc1fe8-a468-471a-8b09-dadaee1f1f1b",
        "outputId": "5a0a4e16-ce37-49d2-e4f5-8ed40652fc35"
      },
      "outputs": [
        {
          "data": {
            "text/plain": [
              "[3, 4, 'jay', 5, 6, 6, 'jay', 6]"
            ]
          },
          "execution_count": 182,
          "metadata": {},
          "output_type": "execute_result"
        }
      ],
      "source": [
        "l"
      ]
    },
    {
      "cell_type": "code",
      "execution_count": null,
      "id": "bddcaa92-b367-4061-aeae-053652048bcf",
      "metadata": {
        "id": "bddcaa92-b367-4061-aeae-053652048bcf"
      },
      "outputs": [],
      "source": [
        "l3=[\"q\",'a','y','z','3','4']\n"
      ]
    },
    {
      "cell_type": "code",
      "execution_count": null,
      "id": "19683040-8508-495e-b6a1-6895c0ca2af2",
      "metadata": {
        "id": "19683040-8508-495e-b6a1-6895c0ca2af2"
      },
      "outputs": [],
      "source": [
        "l3.sort()"
      ]
    },
    {
      "cell_type": "code",
      "execution_count": null,
      "id": "7c0abf0a-a540-459b-a9e9-c79339590655",
      "metadata": {
        "id": "7c0abf0a-a540-459b-a9e9-c79339590655",
        "outputId": "329db2f6-f61b-4933-fba6-dbcaa8d42a56"
      },
      "outputs": [
        {
          "data": {
            "text/plain": [
              "['3', '4', 'a', 'q', 'y', 'z']"
            ]
          },
          "execution_count": 185,
          "metadata": {},
          "output_type": "execute_result"
        }
      ],
      "source": [
        "l3"
      ]
    },
    {
      "cell_type": "code",
      "execution_count": null,
      "id": "9041d730-09bf-4462-a3c9-9c4a8e52bf64",
      "metadata": {
        "id": "9041d730-09bf-4462-a3c9-9c4a8e52bf64",
        "outputId": "730ed82f-762f-4460-ea4b-a30c63a533c6"
      },
      "outputs": [
        {
          "data": {
            "text/plain": [
              "[3, 4, 'jay', 5, 6, 6, 'jay', 6]"
            ]
          },
          "execution_count": 186,
          "metadata": {},
          "output_type": "execute_result"
        }
      ],
      "source": [
        "s = \"sharjeel\"\n",
        "l"
      ]
    },
    {
      "cell_type": "code",
      "execution_count": null,
      "id": "44ea7565-32de-44a6-a027-06e6a70b4428",
      "metadata": {
        "id": "44ea7565-32de-44a6-a027-06e6a70b4428"
      },
      "outputs": [],
      "source": [
        "l.insert(3,list(s))"
      ]
    },
    {
      "cell_type": "code",
      "execution_count": null,
      "id": "8a9699a0-6510-47e4-8a44-6cd2a6bedf0f",
      "metadata": {
        "id": "8a9699a0-6510-47e4-8a44-6cd2a6bedf0f",
        "outputId": "d69603d9-902f-4c09-a4bd-b199f01daa81"
      },
      "outputs": [
        {
          "data": {
            "text/plain": [
              "[3, 4, 'jay', ['s', 'u', 'd', 'h'], 5, 6, 6, 'jay', 6]"
            ]
          },
          "execution_count": 189,
          "metadata": {},
          "output_type": "execute_result"
        }
      ],
      "source": [
        "l"
      ]
    },
    {
      "cell_type": "code",
      "execution_count": null,
      "id": "cc356900-b54d-406e-bf4a-d3841cdf9f31",
      "metadata": {
        "id": "cc356900-b54d-406e-bf4a-d3841cdf9f31"
      },
      "outputs": [],
      "source": [
        "l = [3,4,5,55, [1,3,4,5,6]]"
      ]
    },
    {
      "cell_type": "code",
      "execution_count": null,
      "id": "d3833e59-0cee-4ed6-88ae-c34c71d3b2e3",
      "metadata": {
        "id": "d3833e59-0cee-4ed6-88ae-c34c71d3b2e3",
        "outputId": "e00b3634-19f6-499a-9a6f-2aab8082b610"
      },
      "outputs": [
        {
          "data": {
            "text/plain": [
              "[23424, 'pwskills', 'kumar', 'data science']"
            ]
          },
          "execution_count": 191,
          "metadata": {},
          "output_type": "execute_result"
        }
      ],
      "source": [
        "l4"
      ]
    },
    {
      "cell_type": "code",
      "execution_count": null,
      "id": "389c6dcd-b4df-494f-a4ac-2b8da7df41d9",
      "metadata": {
        "id": "389c6dcd-b4df-494f-a4ac-2b8da7df41d9"
      },
      "outputs": [],
      "source": [
        "l4.extend(l)"
      ]
    },
    {
      "cell_type": "code",
      "execution_count": null,
      "id": "b4255ba6-a16d-46e8-890f-82dff97fd1a5",
      "metadata": {
        "id": "b4255ba6-a16d-46e8-890f-82dff97fd1a5",
        "outputId": "753b4bd0-e9c8-4465-e12c-f45800671397"
      },
      "outputs": [
        {
          "data": {
            "text/plain": [
              "[23424, 'pwskills', 'kumar', 'data science', 3, 4, 5, 55, [1, 3, 4, 5, 6]]"
            ]
          },
          "execution_count": 193,
          "metadata": {},
          "output_type": "execute_result"
        }
      ],
      "source": [
        "l4"
      ]
    },
    {
      "cell_type": "code",
      "execution_count": null,
      "id": "16b2b93d-cee8-4a0a-8ae2-d3111f3f5ddd",
      "metadata": {
        "id": "16b2b93d-cee8-4a0a-8ae2-d3111f3f5ddd",
        "outputId": "c6c65972-2a93-4aca-db63-32b8343d89ac"
      },
      "outputs": [
        {
          "data": {
            "text/plain": [
              "['kumar', 'data science', 3]"
            ]
          },
          "execution_count": 195,
          "metadata": {},
          "output_type": "execute_result"
        }
      ],
      "source": [
        "l4[2:5]"
      ]
    },
    {
      "cell_type": "code",
      "execution_count": null,
      "id": "d2d07e26-5602-4575-94e8-b05eec3271d7",
      "metadata": {
        "id": "d2d07e26-5602-4575-94e8-b05eec3271d7"
      },
      "outputs": [],
      "source": [
        "m = \"iasharjeel\""
      ]
    },
    {
      "cell_type": "code",
      "execution_count": null,
      "id": "37922311-d81e-4411-bae3-b235fdc8a5f2",
      "metadata": {
        "id": "37922311-d81e-4411-bae3-b235fdc8a5f2",
        "outputId": "937291ba-442c-466a-9672-a13d26ba78f5"
      },
      "outputs": [
        {
          "data": {
            "text/plain": [
              "'p'"
            ]
          },
          "execution_count": 197,
          "metadata": {},
          "output_type": "execute_result"
        }
      ],
      "source": [
        "m[::9999]"
      ]
    },
    {
      "cell_type": "code",
      "execution_count": null,
      "id": "c7d58b6d-93bc-440f-8526-f27892b172f3",
      "metadata": {
        "id": "c7d58b6d-93bc-440f-8526-f27892b172f3",
        "outputId": "d823af78-ed75-406f-8203-37b3a2df9b5c"
      },
      "outputs": [
        {
          "data": {
            "text/plain": [
              "[3, 4, 5, 55, [1, 3, 4, 5, 6]]"
            ]
          },
          "execution_count": 198,
          "metadata": {},
          "output_type": "execute_result"
        }
      ],
      "source": [
        "l"
      ]
    },
    {
      "cell_type": "code",
      "execution_count": null,
      "id": "480443ea-1b16-45c1-9c9a-777f509490e7",
      "metadata": {
        "id": "480443ea-1b16-45c1-9c9a-777f509490e7"
      },
      "outputs": [],
      "source": [
        "l.append(324)"
      ]
    },
    {
      "cell_type": "code",
      "execution_count": null,
      "id": "8bb8445a-8b9a-4fac-b0c5-0ebd1b847c69",
      "metadata": {
        "id": "8bb8445a-8b9a-4fac-b0c5-0ebd1b847c69",
        "outputId": "ba0257ff-cc3d-4b8d-9522-498fa9250724"
      },
      "outputs": [
        {
          "data": {
            "text/plain": [
              "[3, 4, 5, 55, [1, 3, 4, 5, 6], 324]"
            ]
          },
          "execution_count": 200,
          "metadata": {},
          "output_type": "execute_result"
        }
      ],
      "source": [
        "l"
      ]
    },
    {
      "cell_type": "code",
      "execution_count": null,
      "id": "1ceee627-ab42-4a89-97ac-ded09a8e536d",
      "metadata": {
        "id": "1ceee627-ab42-4a89-97ac-ded09a8e536d"
      },
      "outputs": [],
      "source": [
        "l.extend(\"sharjeel\")"
      ]
    },
    {
      "cell_type": "code",
      "execution_count": null,
      "id": "24fb78a4-7f65-40ec-9191-5f88fa69f678",
      "metadata": {
        "id": "24fb78a4-7f65-40ec-9191-5f88fa69f678",
        "outputId": "34273aac-1cc6-439a-c37d-0006307f3542"
      },
      "outputs": [
        {
          "data": {
            "text/plain": [
              "[3, 4, 5, 55, [1, 3, 4, 5, 6], 324, 's', 'u', 'd', 'h']"
            ]
          },
          "execution_count": 202,
          "metadata": {},
          "output_type": "execute_result"
        }
      ],
      "source": [
        "l"
      ]
    },
    {
      "cell_type": "code",
      "execution_count": null,
      "id": "d4dbe97d-6914-4926-a8d8-6a38211a9d4e",
      "metadata": {
        "id": "d4dbe97d-6914-4926-a8d8-6a38211a9d4e"
      },
      "outputs": [],
      "source": []
    }
  ],
  "metadata": {
    "kernelspec": {
      "display_name": "Python 3 (ipykernel)",
      "language": "python",
      "name": "python3"
    },
    "language_info": {
      "codemirror_mode": {
        "name": "ipython",
        "version": 3
      },
      "file_extension": ".py",
      "mimetype": "text/x-python",
      "name": "python",
      "nbconvert_exporter": "python",
      "pygments_lexer": "ipython3",
      "version": "3.10.8"
    },
    "colab": {
      "provenance": [],
      "include_colab_link": true
    }
  },
  "nbformat": 4,
  "nbformat_minor": 5
}